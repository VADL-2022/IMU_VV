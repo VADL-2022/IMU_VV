{
 "cells": [
  {
   "cell_type": "code",
   "execution_count": 2,
   "id": "d9a78af4",
   "metadata": {},
   "outputs": [],
   "source": [
    "import numpy as np\n",
    "from math import acos, sin, cos, tan\n",
    "import pandas as pd"
   ]
  },
  {
   "cell_type": "code",
   "execution_count": 3,
   "id": "1c1f1613",
   "metadata": {},
   "outputs": [],
   "source": [
    "################## DATA FRAME ##################\n",
    "datafile = '../Fullscale21.csv'\n",
    "fields = ['Timestamp',\n",
    "  'Roll', 'Pitch', 'Yaw',\n",
    "  'LinearAccelNed X', 'LinearAccelNed Y', 'LinearAccelNed Z'\n",
    "  ]\n",
    "\n",
    "df = pd.read_csv(datafile, skipinitialspace=True, usecols=fields)\n",
    "\n",
    "################## INIT VECTORS ##################\n",
    "all_time = df['Timestamp'].values\n",
    "\n",
    "tdata = all_time\n",
    "tdata = tdata - all_time[0]"
   ]
  },
  {
   "cell_type": "code",
   "execution_count": null,
   "id": "d663f2a7",
   "metadata": {},
   "outputs": [],
   "source": [
    "def get_YPR_fixed_frame(bYPR):\n",
    "    \"\"\"Accepts body frame YPR, returns the FIXED FRAME YPR\"\"\"\n",
    "    \n",
    "    R = convert_YPR_fixed_frame(bYPR[0], bYPR[1], bYPR[2])\n",
    "\n",
    "    # theta: 3x1 vector of YPR in the fixed frame\n",
    "    theta = acosd(np.dot(R[:,2], [0, 0, 1]))\n",
    "    \n",
    "    return theta\n",
    "\n",
    "\n",
    "def map_roll(x):\n",
    "    return abs(np.mod(x - 180.0, 360.0) - 180.0)\n",
    "\n",
    "\n",
    "def compare_change(theta_prev, theta_new, threshold=50):\n",
    "    if type(threshold) is int or type(threshold) is float:\n",
    "        # You have specified a single acceptable value, shared for all 3 axes\n",
    "        roll_thresh, pitch_thresh, yaw_thresh = threshold, threshold, threshold\n",
    "        individual = False\n",
    "    elif len(threshold)==3:\n",
    "        # You have given YPR separate thresholds\n",
    "        roll_thresh, pitch_thresh, yaw_thresh = threshold[0], threshold[1], threshold[2]\n",
    "        individual = True\n",
    "    else:\n",
    "        raise(\"TypeError: threshold parameter should either be an int or a 3x1 vector of ints\")\n",
    "    \n",
    "    should_accept = True\n",
    "    \n",
    "    # Map the roll so it is triangular, peaks at 180. 0->0, 180->180, 360->0\n",
    "    roll_prev = map_roll(theta_prev[0])\n",
    "    roll_new = map_roll(theta_new[0])\n",
    "\n",
    "    if individual:\n",
    "        # DEALING WITH INDIVUDAL AXIS ROTATIONS\n",
    "        # Roll\n",
    "        if roll_prev - roll_new > roll_thresh:\n",
    "            print(\"Too much ROLL detected.  Image should be discarded\")\n",
    "            return False\n",
    "        # Pitch\n",
    "        elif theta_prev[1] - theta_new[1] > pitch_thresh:\n",
    "            print(\"Too much PITCH detected.  Image should be discarded\")\n",
    "            return False\n",
    "        # Yaw\n",
    "        elif theta_prev[2] - theta_new[2] > yaw_thresh:\n",
    "            print(\"Too much YAW detected.  Image should be discarded\")\n",
    "            return False\n",
    "        \n",
    "    else:\n",
    "        # DEALING WITH ALL AXES ROTATIONS (E.G. IN COMBINATION)\n",
    "        theta_prev[0] = roll_prev\n",
    "        theta_new[0] = roll_new\n",
    "        \n",
    "        dTheta = theta_new - theta_prev\n",
    "        \n",
    "        #if np.linalg.norm(dTheta) > threshold: \n",
    "        # ^Norm doesn't have a direct meaning like the difference in angle does\n",
    "        if (dTheta > threshold).sum() > 0:\n",
    "            return False\n",
    "\n",
    "    return should_accept\n",
    "\n",
    "\n",
    "# This builds the first orientation matrix\n",
    "def init_orientation():\n",
    "    bYPR = get_IMU_data()\n",
    "    ffYPR = get_YPR_fixed_frame(bYPR)\n",
    "    return ffYPR\n",
    "\n",
    "\n",
    "# Put this before the incoming images\n",
    "def judge_image(prev_orientation):\n",
    "    # Collect incoming IMU data in real time\n",
    "    bYPR = get_IMU_data()\n",
    "    # Convert IMU data from body frame to fixed frame\n",
    "    ffYPR = get_YPR_fixed_frame(bYPR)\n",
    "    # Compare current thetas to previous orientation\n",
    "    if compare_change(prev_orientation, ffYPR):\n",
    "        return True, ffYPR\n",
    "    else:\n",
    "        return False, prev_orientation"
   ]
  },
  {
   "cell_type": "code",
   "execution_count": 4,
   "id": "ab78ab5f",
   "metadata": {},
   "outputs": [],
   "source": [
    "def get_IMU_data(df, row_index):\n",
    "    bYPR = np.array([df.iloc[3, row_index], df.iloc[2, row_index], df.iloc[1, row_index]])\n",
    "    return bYPR"
   ]
  },
  {
   "cell_type": "markdown",
   "id": "975ab0c2",
   "metadata": {},
   "source": [
    "## Unit Testing"
   ]
  },
  {
   "cell_type": "code",
   "execution_count": null,
   "id": "6f8809d0",
   "metadata": {},
   "outputs": [],
   "source": []
  },
  {
   "cell_type": "code",
   "execution_count": null,
   "id": "96b900be",
   "metadata": {},
   "outputs": [],
   "source": []
  }
 ],
 "metadata": {
  "kernelspec": {
   "display_name": "Python 3 (ipykernel)",
   "language": "python",
   "name": "python3"
  },
  "language_info": {
   "codemirror_mode": {
    "name": "ipython",
    "version": 3
   },
   "file_extension": ".py",
   "mimetype": "text/x-python",
   "name": "python",
   "nbconvert_exporter": "python",
   "pygments_lexer": "ipython3",
   "version": "3.7.11"
  }
 },
 "nbformat": 4,
 "nbformat_minor": 5
}
