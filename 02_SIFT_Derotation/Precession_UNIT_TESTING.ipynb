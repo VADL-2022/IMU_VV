{
 "cells": [
  {
   "cell_type": "code",
   "execution_count": 1,
   "id": "d9a78af4",
   "metadata": {},
   "outputs": [],
   "source": [
    "import numpy as np\n",
    "from math import acos, sin, cos, tan\n",
    "import pandas as pd"
   ]
  },
  {
   "cell_type": "code",
   "execution_count": 2,
   "id": "1c1f1613",
   "metadata": {},
   "outputs": [],
   "source": [
    "################## DATA FRAME ##################\n",
    "datafile = '../Fullscale21.csv'\n",
    "fields = ['Timestamp',\n",
    "  'Roll', 'Pitch', 'Yaw']\n",
    "\n",
    "df = pd.read_csv(datafile, skipinitialspace=True, usecols=fields)\n",
    "\n",
    "################## INIT VECTORS ##################\n",
    "all_time = df['Timestamp'].values\n",
    "\n",
    "tdata = all_time\n",
    "tdata = tdata - all_time[0]"
   ]
  },
  {
   "cell_type": "code",
   "execution_count": 3,
   "id": "d663f2a7",
   "metadata": {},
   "outputs": [],
   "source": [
    "def sind(x):\n",
    "    return sin(np.deg2rad(x))\n",
    "\n",
    "def cosd(x):\n",
    "    return cos(np.deg2rad(x))\n",
    "\n",
    "def tand(x):\n",
    "    return tan(np.deg2rad(x))\n",
    "\n",
    "def acosd(x):\n",
    "    return np.rad2deg(acos(x))\n",
    "\n",
    "def convert_ffYPR_matrix(alpha, beta, gamma):\n",
    "    '''\n",
    "    This function returns the YPR in the fixed world frame.\n",
    "    Data collected from the Vector Nav is in the body frame and must be transformed\n",
    "     in order to do the necessary math later\n",
    "    '''\n",
    "    \n",
    "    # yaw\n",
    "    R_alpha = np.array([[1, 0, 0],\n",
    "             [0, cosd(alpha), -sind(alpha)],\n",
    "             [0, sind(alpha), cosd(alpha)]])\n",
    "\n",
    "    # pitch\n",
    "    R_beta = np.array([[cosd(beta), 0, sind(beta)],\n",
    "            [0, 1, 0],\n",
    "            [-sind(beta), 0, cosd(beta)]])\n",
    "\n",
    "    # roll\n",
    "    R_gamma = np.array([[cosd(gamma), -sind(gamma), 0],\n",
    "             [sind(gamma), cosd(gamma), 0],\n",
    "             [0, 0, 1]])\n",
    "    \n",
    "    R = R_gamma*R_beta*R_alpha\n",
    "\n",
    "    return R\n",
    "\n",
    "def get_ffYPR_theta(bYPR):\n",
    "    \"\"\"Accepts body frame YPR, returns the FIXED FRAME YPR\"\"\"\n",
    "    \n",
    "    R = convert_ffYPR_matrix(bYPR[0], bYPR[1], bYPR[2])\n",
    "\n",
    "    # theta: 3x1 vector of YPR in the fixed frame\n",
    "    theta = acosd(np.dot(R[:,2], [0, 0, 1]))\n",
    "    \n",
    "    return theta\n",
    "\n",
    "\n",
    "def map_roll(x):\n",
    "    return abs(np.mod(x - 180.0, 360.0) - 180.0)\n",
    "\n",
    "\n",
    "def compare_change(theta_prev, theta_new, threshold=50):\n",
    "    if type(threshold) is int or type(threshold) is float:\n",
    "        # You have specified a single acceptable value, shared for all 3 axes\n",
    "        roll_thresh, pitch_thresh, yaw_thresh = threshold, threshold, threshold\n",
    "        individual = False\n",
    "    elif len(threshold)==3:\n",
    "        # You have given YPR separate thresholds\n",
    "        roll_thresh, pitch_thresh, yaw_thresh = threshold[0], threshold[1], threshold[2]\n",
    "        individual = True\n",
    "    else:\n",
    "        raise(\"TypeError: threshold parameter should either be an int or a 3x1 vector of ints\")\n",
    "    \n",
    "    should_accept = True\n",
    "    \n",
    "    # Map the roll so it is triangular, peaks at 180. 0->0, 180->180, 360->0\n",
    "    roll_prev = map_roll(theta_prev[0])\n",
    "    roll_new = map_roll(theta_new[0])\n",
    "\n",
    "    if individual:\n",
    "        # DEALING WITH INDIVUDAL AXIS ROTATIONS\n",
    "        # Roll\n",
    "        if roll_prev - roll_new > roll_thresh:\n",
    "            print(\"Too much ROLL detected.  Image should be discarded\")\n",
    "            return False\n",
    "        # Pitch\n",
    "        elif theta_prev[1] - theta_new[1] > pitch_thresh:\n",
    "            print(\"Too much PITCH detected.  Image should be discarded\")\n",
    "            return False\n",
    "        # Yaw\n",
    "        elif theta_prev[2] - theta_new[2] > yaw_thresh:\n",
    "            print(\"Too much YAW detected.  Image should be discarded\")\n",
    "            return False\n",
    "        \n",
    "    else:\n",
    "        # DEALING WITH ALL AXES ROTATIONS (E.G. IN COMBINATION)\n",
    "        theta_prev[0] = roll_prev\n",
    "        theta_new[0] = roll_new\n",
    "        \n",
    "        dTheta = theta_new - theta_prev\n",
    "        \n",
    "        #if np.linalg.norm(dTheta) > threshold: \n",
    "        # ^Norm doesn't have a direct meaning like the difference in angle does\n",
    "        if (dTheta > threshold).sum() > 0:\n",
    "            return False\n",
    "\n",
    "    return should_accept\n",
    "\n",
    "\n",
    "# This builds the first orientation matrix\n",
    "def init_orientation(bYPR):\n",
    "    ffYPR = get_ffYPR_theta(bYPR)\n",
    "    return ffYPR\n",
    "\n",
    "\n",
    "# Put this before the incoming images\n",
    "def judge_image(prev_orientation, bYPR):\n",
    "    # Convert IMU data from body frame to fixed frame\n",
    "    ffYPR = get_ffYPR_theta(bYPR)\n",
    "    # Compare current thetas to previous orientation\n",
    "    if compare_change(prev_orientation, ffYPR):\n",
    "        return True, ffYPR\n",
    "    else:\n",
    "        return False, prev_orientation"
   ]
  },
  {
   "cell_type": "code",
   "execution_count": 20,
   "id": "e46ff338",
   "metadata": {},
   "outputs": [
    {
     "data": {
      "text/plain": [
       "array([3, 6, 9])"
      ]
     },
     "execution_count": 20,
     "metadata": {},
     "output_type": "execute_result"
    }
   ],
   "source": [
    "me = np.array([[1,2,3] , [4,5,6], [7,8,9]])\n",
    "np.dot(me, [0,0,1])"
   ]
  },
  {
   "cell_type": "code",
   "execution_count": 21,
   "id": "db71acbd",
   "metadata": {},
   "outputs": [
    {
     "data": {
      "text/plain": [
       "array([2, 5, 8])"
      ]
     },
     "execution_count": 21,
     "metadata": {},
     "output_type": "execute_result"
    }
   ],
   "source": [
    "np.dot(me, [0,1,0])"
   ]
  },
  {
   "cell_type": "code",
   "execution_count": 4,
   "id": "ab78ab5f",
   "metadata": {},
   "outputs": [],
   "source": [
    "def get_IMU_data(df, row_index):\n",
    "    bYPR = np.array([df.iloc[3, row_index], df.iloc[2, row_index], df.iloc[1, row_index]])\n",
    "    return bYPR"
   ]
  },
  {
   "cell_type": "markdown",
   "id": "975ab0c2",
   "metadata": {},
   "source": [
    "## Unit Testing"
   ]
  },
  {
   "cell_type": "code",
   "execution_count": 11,
   "id": "6f8809d0",
   "metadata": {},
   "outputs": [],
   "source": [
    "bYPR = get_IMU_data(df, 0)\n",
    "po = init_orientation(bYPR)"
   ]
  },
  {
   "cell_type": "code",
   "execution_count": 12,
   "id": "d7408749",
   "metadata": {},
   "outputs": [
    {
     "ename": "IndexError",
     "evalue": "invalid index to scalar variable.",
     "output_type": "error",
     "traceback": [
      "\u001b[1;31m---------------------------------------------------------------------------\u001b[0m",
      "\u001b[1;31mIndexError\u001b[0m                                Traceback (most recent call last)",
      "\u001b[1;32m~\\AppData\\Local\\Temp/ipykernel_7700/10008176.py\u001b[0m in \u001b[0;36m<module>\u001b[1;34m\u001b[0m\n\u001b[0;32m      2\u001b[0m     \u001b[1;31m# Collect incoming IMU data in real time\u001b[0m\u001b[1;33m\u001b[0m\u001b[1;33m\u001b[0m\u001b[1;33m\u001b[0m\u001b[0m\n\u001b[0;32m      3\u001b[0m     \u001b[0mbYPR\u001b[0m \u001b[1;33m=\u001b[0m \u001b[0mget_IMU_data\u001b[0m\u001b[1;33m(\u001b[0m\u001b[0mdf\u001b[0m\u001b[1;33m,\u001b[0m \u001b[0mi\u001b[0m\u001b[1;33m)\u001b[0m\u001b[1;33m\u001b[0m\u001b[1;33m\u001b[0m\u001b[0m\n\u001b[1;32m----> 4\u001b[1;33m     \u001b[0mmy_bool\u001b[0m\u001b[1;33m,\u001b[0m \u001b[0mpo\u001b[0m \u001b[1;33m=\u001b[0m \u001b[0mjudge_image\u001b[0m\u001b[1;33m(\u001b[0m\u001b[0mpo\u001b[0m\u001b[1;33m,\u001b[0m \u001b[0mbYPR\u001b[0m\u001b[1;33m)\u001b[0m\u001b[1;33m\u001b[0m\u001b[1;33m\u001b[0m\u001b[0m\n\u001b[0m",
      "\u001b[1;32m~\\AppData\\Local\\Temp/ipykernel_7700/1944187559.py\u001b[0m in \u001b[0;36mjudge_image\u001b[1;34m(prev_orientation, bYPR)\u001b[0m\n\u001b[0;32m    111\u001b[0m     \u001b[0mffYPR\u001b[0m \u001b[1;33m=\u001b[0m \u001b[0mget_ffYPR_theta\u001b[0m\u001b[1;33m(\u001b[0m\u001b[0mbYPR\u001b[0m\u001b[1;33m)\u001b[0m\u001b[1;33m\u001b[0m\u001b[1;33m\u001b[0m\u001b[0m\n\u001b[0;32m    112\u001b[0m     \u001b[1;31m# Compare current thetas to previous orientation\u001b[0m\u001b[1;33m\u001b[0m\u001b[1;33m\u001b[0m\u001b[1;33m\u001b[0m\u001b[0m\n\u001b[1;32m--> 113\u001b[1;33m     \u001b[1;32mif\u001b[0m \u001b[0mcompare_change\u001b[0m\u001b[1;33m(\u001b[0m\u001b[0mprev_orientation\u001b[0m\u001b[1;33m,\u001b[0m \u001b[0mffYPR\u001b[0m\u001b[1;33m)\u001b[0m\u001b[1;33m:\u001b[0m\u001b[1;33m\u001b[0m\u001b[1;33m\u001b[0m\u001b[0m\n\u001b[0m\u001b[0;32m    114\u001b[0m         \u001b[1;32mreturn\u001b[0m \u001b[1;32mTrue\u001b[0m\u001b[1;33m,\u001b[0m \u001b[0mffYPR\u001b[0m\u001b[1;33m\u001b[0m\u001b[1;33m\u001b[0m\u001b[0m\n\u001b[0;32m    115\u001b[0m     \u001b[1;32melse\u001b[0m\u001b[1;33m:\u001b[0m\u001b[1;33m\u001b[0m\u001b[1;33m\u001b[0m\u001b[0m\n",
      "\u001b[1;32m~\\AppData\\Local\\Temp/ipykernel_7700/1944187559.py\u001b[0m in \u001b[0;36mcompare_change\u001b[1;34m(theta_prev, theta_new, threshold)\u001b[0m\n\u001b[0;32m     67\u001b[0m \u001b[1;33m\u001b[0m\u001b[0m\n\u001b[0;32m     68\u001b[0m     \u001b[1;31m# Map the roll so it is triangular, peaks at 180. 0->0, 180->180, 360->0\u001b[0m\u001b[1;33m\u001b[0m\u001b[1;33m\u001b[0m\u001b[1;33m\u001b[0m\u001b[0m\n\u001b[1;32m---> 69\u001b[1;33m     \u001b[0mroll_prev\u001b[0m \u001b[1;33m=\u001b[0m \u001b[0mmap_roll\u001b[0m\u001b[1;33m(\u001b[0m\u001b[0mtheta_prev\u001b[0m\u001b[1;33m[\u001b[0m\u001b[1;36m0\u001b[0m\u001b[1;33m]\u001b[0m\u001b[1;33m)\u001b[0m\u001b[1;33m\u001b[0m\u001b[1;33m\u001b[0m\u001b[0m\n\u001b[0m\u001b[0;32m     70\u001b[0m     \u001b[0mroll_new\u001b[0m \u001b[1;33m=\u001b[0m \u001b[0mmap_roll\u001b[0m\u001b[1;33m(\u001b[0m\u001b[0mtheta_new\u001b[0m\u001b[1;33m[\u001b[0m\u001b[1;36m0\u001b[0m\u001b[1;33m]\u001b[0m\u001b[1;33m)\u001b[0m\u001b[1;33m\u001b[0m\u001b[1;33m\u001b[0m\u001b[0m\n\u001b[0;32m     71\u001b[0m \u001b[1;33m\u001b[0m\u001b[0m\n",
      "\u001b[1;31mIndexError\u001b[0m: invalid index to scalar variable."
     ]
    }
   ],
   "source": [
    "for i in range(10):\n",
    "    # Collect incoming IMU data in real time\n",
    "    bYPR = get_IMU_data(df, i)\n",
    "    my_bool, po = judge_image(po, bYPR)"
   ]
  },
  {
   "cell_type": "code",
   "execution_count": 9,
   "id": "c2e04619",
   "metadata": {},
   "outputs": [
    {
     "data": {
      "text/plain": [
       "array([583.428, 583.402, 583.377])"
      ]
     },
     "execution_count": 9,
     "metadata": {},
     "output_type": "execute_result"
    }
   ],
   "source": [
    "bYPR"
   ]
  },
  {
   "cell_type": "code",
   "execution_count": 10,
   "id": "30565448",
   "metadata": {},
   "outputs": [
    {
     "data": {
      "text/plain": [
       "58.15323493451812"
      ]
     },
     "execution_count": 10,
     "metadata": {},
     "output_type": "execute_result"
    }
   ],
   "source": [
    "po"
   ]
  },
  {
   "cell_type": "code",
   "execution_count": 15,
   "id": "82348558",
   "metadata": {},
   "outputs": [
    {
     "data": {
      "text/plain": [
       "array([[ 0.52809368,  0.        , -0.        ],\n",
       "       [-0.        ,  0.52786699,  0.        ],\n",
       "       [ 0.        , -0.        ,  0.52764931]])"
      ]
     },
     "execution_count": 15,
     "metadata": {},
     "output_type": "execute_result"
    }
   ],
   "source": [
    "R = convert_ffYPR_matrix(bYPR[0], bYPR[1], bYPR[2])\n",
    "R"
   ]
  },
  {
   "cell_type": "code",
   "execution_count": 18,
   "id": "1c32e777",
   "metadata": {},
   "outputs": [
    {
     "data": {
      "text/plain": [
       "58.15323493451812"
      ]
     },
     "execution_count": 18,
     "metadata": {},
     "output_type": "execute_result"
    }
   ],
   "source": [
    "theta = acosd(np.dot(R[:,2], [0, 0, 1]))\n",
    "theta"
   ]
  },
  {
   "cell_type": "code",
   "execution_count": 19,
   "id": "1a503909",
   "metadata": {},
   "outputs": [
    {
     "data": {
      "text/plain": [
       "73.03395115638779"
      ]
     },
     "execution_count": 19,
     "metadata": {},
     "output_type": "execute_result"
    }
   ],
   "source": [
    "angle = acosd((np.trace(R) - 1)/2)\n",
    "angle"
   ]
  },
  {
   "cell_type": "code",
   "execution_count": 17,
   "id": "96b900be",
   "metadata": {},
   "outputs": [
    {
     "data": {
      "text/plain": [
       "58.15323493451812"
      ]
     },
     "execution_count": 17,
     "metadata": {},
     "output_type": "execute_result"
    }
   ],
   "source": [
    "po = init_orientation(bYPR)\n",
    "po"
   ]
  },
  {
   "cell_type": "code",
   "execution_count": null,
   "id": "9ff629e5",
   "metadata": {},
   "outputs": [],
   "source": []
  }
 ],
 "metadata": {
  "kernelspec": {
   "display_name": "Python 3 (ipykernel)",
   "language": "python",
   "name": "python3"
  },
  "language_info": {
   "codemirror_mode": {
    "name": "ipython",
    "version": 3
   },
   "file_extension": ".py",
   "mimetype": "text/x-python",
   "name": "python",
   "nbconvert_exporter": "python",
   "pygments_lexer": "ipython3",
   "version": "3.7.11"
  }
 },
 "nbformat": 4,
 "nbformat_minor": 5
}
