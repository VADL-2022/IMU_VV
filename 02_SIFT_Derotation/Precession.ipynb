{
 "cells": [
  {
   "cell_type": "markdown",
   "id": "7aef4442",
   "metadata": {},
   "source": [
    "## SIFT-IMU Integration: Discarding Images That Are Too Far Apart"
   ]
  },
  {
   "cell_type": "code",
   "execution_count": 1,
   "id": "763b6293",
   "metadata": {},
   "outputs": [],
   "source": [
    "import numpy as np\n",
    "from math import acos, sin, cos, tan"
   ]
  },
  {
   "cell_type": "markdown",
   "id": "e8f02ad2",
   "metadata": {},
   "source": [
    "## Written Functions"
   ]
  },
  {
   "cell_type": "code",
   "execution_count": 2,
   "id": "a237a76b",
   "metadata": {},
   "outputs": [],
   "source": [
    "def sind(x):\n",
    "    return sin(np.deg2rad(x))\n",
    "\n",
    "def cosd(x):\n",
    "    return cos(np.deg2rad(x))\n",
    "\n",
    "def tand(x):\n",
    "    return tan(np.deg2rad(x))\n",
    "\n",
    "def acosd(x):\n",
    "    return np.rad2deg(acos(x))\n",
    "\n",
    "def convert_ffYPR_matrix(alpha, beta, gamma):\n",
    "    '''\n",
    "    This function returns the YPR in the fixed world frame.\n",
    "    Data collected from the Vector Nav is in the body frame and must be transformed\n",
    "     in order to do the necessary math later\n",
    "    '''\n",
    "    \n",
    "    # yaw\n",
    "    R_alpha = np.array([[1, 0, 0],\n",
    "             [0, cosd(alpha), -sind(alpha)],\n",
    "             [0, sind(alpha), cosd(alpha)]])\n",
    "\n",
    "    # pitch\n",
    "    R_beta = np.array([[cosd(beta), 0, sind(beta)],\n",
    "            [0, 1, 0],\n",
    "            [-sind(beta), 0, cosd(beta)]])\n",
    "\n",
    "    # roll\n",
    "    R_gamma = np.array([[cosd(gamma), -sind(gamma), 0],\n",
    "             [sind(gamma), cosd(gamma), 0],\n",
    "             [0, 0, 1]])\n",
    "    \n",
    "    R = R_gamma*R_beta*R_alpha\n",
    "\n",
    "    return R"
   ]
  },
  {
   "cell_type": "code",
   "execution_count": 3,
   "id": "915ee44c",
   "metadata": {},
   "outputs": [],
   "source": [
    "def get_ffYPR_theta(bYPR):\n",
    "    \"\"\"Accepts body frame YPR, returns the FIXED FRAME YPR\"\"\"\n",
    "    \n",
    "    R = convert_ffYPR_matrix(bYPR[0], bYPR[1], bYPR[2])\n",
    "\n",
    "    # Ensure that these are the correct graphs... eg matching ffpitch to bpitch...\n",
    "    ffyaw = acosd(np.dot(R[:,1], [0, 1, 0]))\n",
    "    ffpitch = acosd(np.dot(R[:,2], [0, 0, 1]))\n",
    "    ffroll = acosd(np.dot(R[:,0], [1, 0, 0]))\n",
    "    \n",
    "    ffYPR = np.array([ffyaw, ffpitch, ffroll])\n",
    "    \n",
    "    return ffYPR"
   ]
  },
  {
   "cell_type": "code",
   "execution_count": 4,
   "id": "550a7aca",
   "metadata": {},
   "outputs": [],
   "source": [
    "def map_roll(x):\n",
    "    return abs(np.mod(x - 180.0, 360.0) - 180.0)"
   ]
  },
  {
   "cell_type": "code",
   "execution_count": 5,
   "id": "778a2aca",
   "metadata": {},
   "outputs": [],
   "source": [
    "# NEED TO DETERMINE HOW MUCH ROTATION IS TOO MUCH\n",
    "# EG SET THRESHOLD TO AN ACTUAL NUMBER THAT HAS MEANING\n",
    "def compare_change(theta_prev, theta_new, threshold=50):\n",
    "    \"\"\"\n",
    "    PURPOSE: Compares the new orientation to the previous orientation.\n",
    "    INPUTS:\n",
    "        1. theta_prev: YPR state of the last accepted image. E.g. previous orientation\n",
    "        2. theta_new: the current YPR that you want to compare \n",
    "        3. threshold: maximum angle deviation that we allow. 50 IS AN ARBITRARY VALUE\n",
    "        - Note you can pass in a single int, or you can pass in a 3x1 vector of ints\n",
    "        - If the latter, then you can test the YPR against their own max threshold\n",
    "    OUTPUT: Boolean telling whether or not we should discard the captured image\n",
    "    \n",
    "    COMPARISON\n",
    "    Roll: I am unsure about how much the nose cone will roll while descending, we have no data thus far\n",
    "    - This should be measured wrt 180 deg, as if it does a full 360 turn then we're just back at zero\n",
    "    - Rotation about this is equivalent to 2D rotations of the flattened landing site image\n",
    "    - SIFT has proven to be pretty tolerant of this based on drone testing\n",
    "    Pitch: we don't expect much change, this one is not critical\n",
    "    Yaw: this is our main focus, as changes in yaw dictate which the camera is facing when capturing images\n",
    "    \n",
    "    MAKE SURE THAT THE DEFINED YPR MATCH THE GIVEN YPR OF THE IMU IN THE GIVEN ORIENTATION\n",
    "    \"\"\"\n",
    "    \n",
    "    if type(threshold) is int or type(threshold) is float:\n",
    "        # You have specified a single acceptable value, shared for all 3 axes\n",
    "        roll_thresh, pitch_thresh, yaw_thresh = threshold, threshold, threshold\n",
    "        individual = False\n",
    "    elif len(threshold)==3:\n",
    "        # You have given YPR separate thresholds\n",
    "        roll_thresh, pitch_thresh, yaw_thresh = threshold[0], threshold[1], threshold[2]\n",
    "        individual = True\n",
    "    else:\n",
    "        raise(\"TypeError: threshold parameter should either be an int or a 3x1 vector of ints\")\n",
    "    \n",
    "    should_accept = True\n",
    "    \n",
    "    # Map the roll so it is triangular, peaks at 180. 0->0, 180->180, 360->0\n",
    "    roll_prev = map_roll(theta_prev[0])\n",
    "    roll_new = map_roll(theta_new[0])\n",
    "    \n",
    "    ###################################################################################\n",
    "    # We don't know how much rotation SIFT can handle when in combination\n",
    "    # We don't know how much rotation SIFT can handle in any individual direction either\n",
    "    ###################################################################################\n",
    "    \n",
    "    if individual:\n",
    "        # DEALING WITH INDIVUDAL AXIS ROTATIONS\n",
    "        # Roll\n",
    "        if roll_prev - roll_new > roll_thresh:\n",
    "            print(\"Too much ROLL detected.  Image should be discarded\")\n",
    "            return False\n",
    "        # Pitch\n",
    "        elif theta_prev[1] - theta_new[1] > pitch_thresh:\n",
    "            print(\"Too much PITCH detected.  Image should be discarded\")\n",
    "            return False\n",
    "        # Yaw\n",
    "        elif theta_prev[2] - theta_new[2] > yaw_thresh:\n",
    "            print(\"Too much YAW detected.  Image should be discarded\")\n",
    "            return False\n",
    "        \n",
    "    else:\n",
    "        # DEALING WITH ALL AXES ROTATIONS (E.G. IN COMBINATION)\n",
    "        theta_prev[0] = roll_prev\n",
    "        theta_new[0] = roll_new\n",
    "        \n",
    "        dTheta = theta_new - theta_prev\n",
    "        \n",
    "        #if np.linalg.norm(dTheta) > threshold: \n",
    "        # ^Norm doesn't have a direct meaning like the difference in angle does\n",
    "        if (dTheta > threshold).sum() > 0:\n",
    "            return False\n",
    "\n",
    "    return should_accept"
   ]
  },
  {
   "cell_type": "markdown",
   "id": "0957b502",
   "metadata": {},
   "source": [
    "## Functions Not Written"
   ]
  },
  {
   "cell_type": "code",
   "execution_count": 6,
   "id": "0505509c",
   "metadata": {},
   "outputs": [],
   "source": [
    "def get_IMU_data():\n",
    "    \"\"\"Accepts IMU object, returns the BODY FRAME YPR, aka alpha, beta, gamma\"\"\"\n",
    "    \n",
    "    # This needs to interface with the IMU, probably in real time, so might actually need to be in C++\n",
    "    #mIMU->YPR\n",
    "    pass"
   ]
  },
  {
   "cell_type": "markdown",
   "id": "64fa6853",
   "metadata": {},
   "source": [
    "## Implementation"
   ]
  },
  {
   "cell_type": "code",
   "execution_count": 7,
   "id": "b7d49f2d",
   "metadata": {},
   "outputs": [],
   "source": [
    "# This builds the first orientation matrix\n",
    "\n",
    "def init_orientation():\n",
    "    bYPR = get_IMU_data()\n",
    "    ffYPR = get_ffYPR_theta(bYPR)\n",
    "    return ffYPR"
   ]
  },
  {
   "cell_type": "code",
   "execution_count": 8,
   "id": "1af9aec2",
   "metadata": {},
   "outputs": [],
   "source": [
    "# Put this before the incoming images\n",
    "\n",
    "def judge_image(prev_orientation):\n",
    "    \"\"\"\n",
    "    INPUT: prev_ori is the camera orientation from the last accepted image\n",
    "    RETURNS: \n",
    "        1. Boolean of whether or not to accept the new image\n",
    "        2. The orientaiton of the last accepted image\n",
    "    \n",
    "    -- Could pass in the current orientation, not sure if it's easier to do that or \n",
    "    to just call a function that gets the IMU data within this function\n",
    "    \"\"\"\n",
    "    \n",
    "    # Collect incoming IMU data in real time\n",
    "    bYPR = get_IMU_data()\n",
    "    # Convert IMU data from body frame to fixed frame\n",
    "    ffYPR = get_ffYPR_theta(bYPR)\n",
    "    # Compare current thetas to previous orientation\n",
    "    if compare_change(prev_orientation, ffYPR):\n",
    "        return True, ffYPR\n",
    "    else:\n",
    "        return False, prev_orientation"
   ]
  },
  {
   "cell_type": "markdown",
   "id": "00d3297f",
   "metadata": {},
   "source": [
    "## Alternative Implementation"
   ]
  },
  {
   "cell_type": "code",
   "execution_count": 24,
   "id": "00ed1462",
   "metadata": {},
   "outputs": [],
   "source": [
    "# Alternatively, just using deltaTheta\n",
    "# ^Probably need to put it in the fixed frame. \n",
    "# ^Otherwise we would need to verify "
   ]
  },
  {
   "cell_type": "markdown",
   "id": "eb6f71d6",
   "metadata": {},
   "source": [
    "## Unit Testing in Another NB"
   ]
  },
  {
   "cell_type": "code",
   "execution_count": null,
   "id": "6bc04a8c",
   "metadata": {},
   "outputs": [],
   "source": []
  }
 ],
 "metadata": {
  "kernelspec": {
   "display_name": "Python 3 (ipykernel)",
   "language": "python",
   "name": "python3"
  },
  "language_info": {
   "codemirror_mode": {
    "name": "ipython",
    "version": 3
   },
   "file_extension": ".py",
   "mimetype": "text/x-python",
   "name": "python",
   "nbconvert_exporter": "python",
   "pygments_lexer": "ipython3",
   "version": "3.7.11"
  }
 },
 "nbformat": 4,
 "nbformat_minor": 5
}
