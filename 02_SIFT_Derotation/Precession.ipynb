{
 "cells": [
  {
   "cell_type": "markdown",
   "id": "7aef4442",
   "metadata": {},
   "source": [
    "## SIFT-IMU Integration: Discarding Images That Are Too Far Apart"
   ]
  },
  {
   "cell_type": "code",
   "execution_count": null,
   "id": "763b6293",
   "metadata": {},
   "outputs": [],
   "source": [
    "import pandas as pd\n",
    "import numpy as np\n",
    "from math import acos, sin, cos, tan"
   ]
  },
  {
   "cell_type": "markdown",
   "id": "e8f02ad2",
   "metadata": {},
   "source": [
    "## Written Functions"
   ]
  },
  {
   "cell_type": "code",
   "execution_count": null,
   "id": "778a2aca",
   "metadata": {},
   "outputs": [],
   "source": [
    "def get_YPR_fixed_frame():\n",
    "    \"\"\"Accepts body frame YPR, returns the FIXED FRAME YPR\"\"\"\n",
    "    \n",
    "    R = convert_YPR_fixed_frame(alpha, beta, gamma)\n",
    "    \n",
    "    # calculate angle\n",
    "    # angle = acosd((np.trace(R) - 1)/2)\n",
    "\n",
    "    # theta: 3x1 vector of YPR in the fixed frame\n",
    "    theta = acosd(np.dot(R[:,2], [0, 0, 1]))\n",
    "    \n",
    "    return theta\n",
    "\n",
    "\n",
    "# NEED TO DETERMINE HOW MUCH ROTATION IS TOO MUCH\n",
    "# EG SET THRESHOLD TO AN ACTUAL NUMBER THAT HAS MEANING\n",
    "def compare_change(theta_prev, theta_new, threshold=50):\n",
    "    \"\"\"Compares the new orientation to the previous orientation.\n",
    "    Outputs a boolean telling whether or not we should discard the captured image\"\"\"\n",
    "    \n",
    "    # There's probably a better way to compare the matrices than this\n",
    "    dTheta = theta_new - theta_prev\n",
    "    \n",
    "    should_discard = False\n",
    "    \n",
    "    if np.linalg.norm(dTheta) > threshold:\n",
    "        should_discard = True\n",
    "\n",
    "    return should_discard"
   ]
  },
  {
   "cell_type": "markdown",
   "id": "0957b502",
   "metadata": {},
   "source": [
    "## Functions Not Written"
   ]
  },
  {
   "cell_type": "code",
   "execution_count": null,
   "id": "0505509c",
   "metadata": {},
   "outputs": [],
   "source": [
    "def get_IMU_data():\n",
    "    \"\"\"Accepts IMU object, returns the BODY FRAME YPR, aka alpha, beta, gamma\"\"\"\n",
    "    \n",
    "    # This needs to interface with the IMU, probably in real time, so might actually need to be in C++\n",
    "    #mIMU->YPR\n",
    "    pass\n",
    "\n",
    "\n",
    "###############################################################################\n",
    "# It's probably better if these two are actually one function that is written in C++\n",
    "# that directly interfaces with SIFT.  Really we just need to use the image or not\n",
    "###############################################################################\n",
    "def accept_image():\n",
    "    \"\"\"Something something pass the image to SIFT somehow\"\"\"\n",
    "    pass"
   ]
  },
  {
   "cell_type": "markdown",
   "id": "64fa6853",
   "metadata": {},
   "source": [
    "## Implementation"
   ]
  },
  {
   "cell_type": "code",
   "execution_count": null,
   "id": "1af9aec2",
   "metadata": {},
   "outputs": [],
   "source": [
    "# Something something put this before the incoming images\n",
    "\n",
    "def judge_image(image, prev_orientation):\n",
    "    # Collect incoming IMU data in real time\n",
    "    bYPR = get_IMU_data()\n",
    "    # Convert IMU data from body frame to fixed frame\n",
    "    ffYPR = get_YPR_fixed_frame(bYPR)\n",
    "    # Compare current thetas to previous orientation\n",
    "    if compare_change(prev_orientation, ffYPR):\n",
    "        accept_image()"
   ]
  },
  {
   "cell_type": "markdown",
   "id": "00d3297f",
   "metadata": {},
   "source": [
    "## Alternative Implementation"
   ]
  },
  {
   "cell_type": "code",
   "execution_count": null,
   "id": "00ed1462",
   "metadata": {},
   "outputs": [],
   "source": [
    "# Alternatively, just using deltaTheta\n",
    "# ^Probably need to put it in the fixed frame. \n",
    "# ^Otherwise we would need to verify "
   ]
  },
  {
   "cell_type": "code",
   "execution_count": null,
   "id": "dad38369",
   "metadata": {},
   "outputs": [],
   "source": []
  }
 ],
 "metadata": {
  "kernelspec": {
   "display_name": "Python 3 (ipykernel)",
   "language": "python",
   "name": "python3"
  },
  "language_info": {
   "codemirror_mode": {
    "name": "ipython",
    "version": 3
   },
   "file_extension": ".py",
   "mimetype": "text/x-python",
   "name": "python",
   "nbconvert_exporter": "python",
   "pygments_lexer": "ipython3",
   "version": "3.7.11"
  }
 },
 "nbformat": 4,
 "nbformat_minor": 5
}
