{
 "cells": [
  {
   "cell_type": "code",
   "execution_count": 1,
   "id": "60b9a705",
   "metadata": {},
   "outputs": [],
   "source": [
    "import numpy as np\n",
    "import pandas as pd\n",
    "import matplotlib.pyplot as plt\n",
    "import math\n",
    "\n",
    "from model_funcs import *"
   ]
  },
  {
   "cell_type": "code",
   "execution_count": 2,
   "id": "bf243139",
   "metadata": {},
   "outputs": [],
   "source": [
    "def calc_displacement(datafile):\n",
    "    # Read in the dataframe\n",
    "    fields = ['Timestamp', 'Pres',\n",
    "    'Roll', 'Pitch', 'Yaw',\n",
    "    'LinearAccelNed X', 'LinearAccelNed Y', 'LinearAccelNed Z',\n",
    "    ]\n",
    "\n",
    "    df = pd.read_csv(datafile, skipinitialspace=True, usecols=fields)\n",
    "\n",
    "    # Parameters\n",
    "    dt = 0.001\n",
    "    B = 6.5*10**-3   # temperature lapse rate in troposphere in K/m\n",
    "    R = 287   # ideal gas constant in J/(kg.K)\n",
    "    g = 9.80665  # gravity at sea level in m/s2\n",
    "    T0 = 288.15   # standard air temperature in K\n",
    "    P0 = 101.325   # standard air pressure in kPa\n",
    "    pi = math.pi\n",
    "    ft = 3.2884  # ft/m\n",
    "\n",
    "    # Read Data Fields\n",
    "    imu_t = df['Timestamp'].values\n",
    "    imu_t = imu_t - imu_t[0]\n",
    "    imu_N = len(imu_t)\n",
    "    imu_ax = df['LinearAccelNed X'].values\n",
    "    imu_ay = df['LinearAccelNed Y'].values\n",
    "    imu_az = df['LinearAccelNed Z'].values * -1\n",
    "    imu_pres = df['Pres']\n",
    "\n",
    "    ################## INIT VECTORS  ##################\n",
    "    imu_vx, imu_vy, imu_vz, imu_x, imu_y, imu_z = (np.zeros((imu_N)), np.zeros((imu_N)), \n",
    "                                                   np.zeros((imu_N)), np.zeros((imu_N)), \n",
    "                                                   np.zeros((imu_N)), np.zeros((imu_N)))\n",
    "\n",
    "    ################## Find velocity and position  ##################\n",
    "    for i in range(imu_N-1):\n",
    "        imu_vz[i+1] = imu_vz[i] + imu_az[i]*(imu_t[i+1] - imu_t[i])\n",
    "        imu_z[i+1] = imu_z[i] + imu_vz[i]*(imu_t[i+1] - imu_t[i])\n",
    "\n",
    "        imu_vx[i+1] = imu_vx[i] + imu_ax[i]*(imu_t[i+1] - imu_t[i])\n",
    "        imu_x[i+1] = imu_x[i] + imu_vx[i]*(imu_t[i+1] - imu_t[i])\n",
    "\n",
    "        imu_vy[i+1] = imu_vy[i] + imu_ay[i]*(imu_t[i+1] - imu_t[i])\n",
    "        imu_y[i+1] = imu_y[i] + imu_vy[i]*(imu_t[i+1] - imu_t[i])\n",
    "\n",
    "    ################## Find alt  ##################\n",
    "    vec_NASA_pres = np.vectorize(nasa_pres)\n",
    "    imu_alt = vec_NASA_pres(imu_pres, P0, T0, R, B, g)   # * ft + 600\n",
    "    imu_alt = imu_alt - imu_alt[imu_N-1]\n",
    "    imu_alt = [val if val > 0 else 0 for val in imu_alt]\n",
    "\n",
    "    # Find drogue peak and calc wind velocity\n",
    "    imu_start_time, imu_end_time, takeoff_time, a_1 = find_peak_and_wait(np.array(imu_ax), imu_t)\n",
    "\n",
    "    trunc_signal = imu_ax[imu_start_time:imu_end_time]\n",
    "    trunc_time = imu_t[imu_start_time:imu_end_time]\n",
    "\n",
    "    smoothed_signal = calc_moving_avg(trunc_signal, 25, trunc_time, dynamic_window=False, dynamic_n_timing=140, dynamic_n=80)\n",
    "\n",
    "    if max(np.array(smoothed_signal)) > 0.1:\n",
    "        max_accel = max(np.array(smoothed_signal))\n",
    "        flip = 1\n",
    "    else:\n",
    "        max_accel = max(abs(np.array(smoothed_signal)))\n",
    "        flip = -1\n",
    "    w_0 = 0.5*max_accel*(trunc_time[-1] - trunc_time[0])\n",
    "    K = a_1/w_0**2 \n",
    "\n",
    "    ## DERIVED PARAMETERS\n",
    "    w_0_mph = w_0/0.44704\n",
    "    z_0 = max(imu_alt) # apogee altitude in m\n",
    "\n",
    "    ################## CONSTANT WIND PROFILE & AIR DENSITY  ##################\n",
    "    wind_profile_x = np.zeros((imu_N))\n",
    "    density_profile = np.zeros((imu_N))\n",
    "\n",
    "    z0 = max(imu_alt) # apogee altitude in m\n",
    "\n",
    "    for i in range(imu_N):\n",
    "        T = T0 - B * imu_alt[i]\n",
    "        P = P0 * 1000 * (T/T0)**(g/(R*B))\n",
    "        density_profile[i] = P/(R*T)\n",
    "        if imu_alt[i] < 2:\n",
    "            wind_profile_x[i] = w_0*((2/z0)**(1/7))\n",
    "        else:\n",
    "            wind_profile_x[i] = w_0*((imu_alt[i]/z0)**(1/7))\n",
    "\n",
    "    x1, t1 = model1(imu_t[imu_start_time], imu_t, imu_ax, imu_vx, imu_x, dt, a_1, imu_alt, wind_profile_x, density_profile, K)\n",
    "    x2, t2 = model2(imu_t, dt, imu_alt, wind_profile_x, density_profile, K)"
   ]
  },
  {
   "cell_type": "code",
   "execution_count": 3,
   "id": "19863567",
   "metadata": {},
   "outputs": [],
   "source": [
    "datafile = '../Data/Trunc_Fullscale1.csv'"
   ]
  },
  {
   "cell_type": "code",
   "execution_count": null,
   "id": "0152e721",
   "metadata": {},
   "outputs": [],
   "source": []
  },
  {
   "cell_type": "code",
   "execution_count": null,
   "id": "d2b58edc",
   "metadata": {},
   "outputs": [],
   "source": []
  },
  {
   "cell_type": "code",
   "execution_count": 44,
   "id": "22e14216",
   "metadata": {},
   "outputs": [],
   "source": [
    "dt = 0.001\n",
    "B = 6.5*10**-3   # temperature lapse rate in troposphere in K/m\n",
    "R = 287   # ideal gas constant in J/(kg.K)\n",
    "g = 9.80665  # gravity at sea level in m/s2\n",
    "T0 = 288.15   # standard air temperature in K\n",
    "P0 = 101.325   # standard air pressure in kPa\n",
    "pi = math.pi\n",
    "ft = 3.2884  # ft/m"
   ]
  },
  {
   "cell_type": "code",
   "execution_count": 45,
   "id": "98bd9105",
   "metadata": {},
   "outputs": [],
   "source": [
    "################## DATA FRAME ##################\n",
    "#datafile = '../Fullscale21.csv'\n",
    "datafile = '../Data/Trunc_Fullscale1.csv'\n",
    "fields = ['Timestamp', 'Pres',\n",
    "  'Roll', 'Pitch', 'Yaw',\n",
    "  'LinearAccelNed X', 'LinearAccelNed Y', 'LinearAccelNed Z',\n",
    "  ]\n",
    "\n",
    "df = pd.read_csv(datafile, skipinitialspace=True, usecols=fields)"
   ]
  },
  {
   "cell_type": "code",
   "execution_count": 46,
   "id": "c56b7404",
   "metadata": {},
   "outputs": [],
   "source": [
    "imu_t = df['Timestamp'].values\n",
    "imu_t = imu_t - imu_t[0]\n",
    "imu_N = len(imu_t)\n",
    "imu_ax = df['LinearAccelNed X'].values\n",
    "imu_ay = df['LinearAccelNed Y'].values\n",
    "imu_az = df['LinearAccelNed Z'].values * -1\n",
    "imu_pres = df['Pres']\n",
    "\n",
    "################## INIT VECTORS  ##################\n",
    "imu_vx, imu_vy, imu_vz, imu_x, imu_y, imu_z = (np.zeros((imu_N)), np.zeros((imu_N)), \n",
    "                                               np.zeros((imu_N)), np.zeros((imu_N)), \n",
    "                                               np.zeros((imu_N)), np.zeros((imu_N)))\n",
    "\n",
    "################## Find velocity and position  ##################\n",
    "for i in range(imu_N-1):\n",
    "    imu_vz[i+1] = imu_vz[i] + imu_az[i]*(imu_t[i+1] - imu_t[i])\n",
    "    imu_z[i+1] = imu_z[i] + imu_vz[i]*(imu_t[i+1] - imu_t[i])\n",
    "    \n",
    "    imu_vx[i+1] = imu_vx[i] + imu_ax[i]*(imu_t[i+1] - imu_t[i])\n",
    "    imu_x[i+1] = imu_x[i] + imu_vx[i]*(imu_t[i+1] - imu_t[i])\n",
    "    \n",
    "    imu_vy[i+1] = imu_vy[i] + imu_ay[i]*(imu_t[i+1] - imu_t[i])\n",
    "    imu_y[i+1] = imu_y[i] + imu_vy[i]*(imu_t[i+1] - imu_t[i])\n",
    "    \n",
    "################## Find alt  ##################\n",
    "def nasa_pres(P, P0, T0, R, B, g):\n",
    "    imu_temp = T0*(P/P0)**(R*B/g)\n",
    "    imu_alt = (T0 - imu_temp)/B\n",
    "    return imu_alt\n",
    "\n",
    "vec_NASA_pres = np.vectorize(nasa_pres)\n",
    "imu_alt = vec_NASA_pres(imu_pres, P0, T0, R, B, g)   # * ft + 600\n",
    "imu_alt = imu_alt - imu_alt[imu_N-1]\n",
    "imu_alt = [val if val > 0 else 0 for val in imu_alt]"
   ]
  },
  {
   "cell_type": "code",
   "execution_count": 56,
   "id": "6dbdcb47",
   "metadata": {},
   "outputs": [],
   "source": [
    "imu_start_time, imu_end_time, takeoff_time, a_1 = find_peak_and_wait(np.array(imu_ax), imu_t)\n",
    "\n",
    "trunc_signal = imu_ax[imu_start_time:imu_end_time]\n",
    "trunc_time = imu_t[imu_start_time:imu_end_time]\n",
    "\n",
    "smoothed_signal = calc_moving_avg(trunc_signal, 25, trunc_time, dynamic_window=False, dynamic_n_timing=140, dynamic_n=80)"
   ]
  },
  {
   "cell_type": "code",
   "execution_count": 57,
   "id": "815b2550",
   "metadata": {},
   "outputs": [
    {
     "data": {
      "text/plain": [
       "[<matplotlib.lines.Line2D at 0x1d3de40dc08>]"
      ]
     },
     "execution_count": 57,
     "metadata": {},
     "output_type": "execute_result"
    },
    {
     "data": {
      "image/png": "[encoded data removed]",
      "text/plain": [
       "<Figure size 432x288 with 1 Axes>"
      ]
     },
     "metadata": {
      "needs_background": "light"
     },
     "output_type": "display_data"
    }
   ],
   "source": [
    "plt.plot(trunc_time, trunc_signal)\n",
    "smoothed_signal_y = calc_moving_avg(trunc_signal, 25, trunc_time, dynamic_window=False, dynamic_n_timing=140, dynamic_n=80)\n",
    "plt.plot(trunc_time, smoothed_signal)"
   ]
  },
  {
   "cell_type": "code",
   "execution_count": 60,
   "id": "8fe38429",
   "metadata": {},
   "outputs": [
    {
     "data": {
      "text/plain": [
       "17.159999999999854"
      ]
     },
     "execution_count": 60,
     "metadata": {},
     "output_type": "execute_result"
    }
   ],
   "source": [
    "imu_t[takeoff_time]"
   ]
  },
  {
   "cell_type": "code",
   "execution_count": 58,
   "id": "58b78187",
   "metadata": {},
   "outputs": [
    {
     "data": {
      "text/plain": [
       "17.769999999999982"
      ]
     },
     "execution_count": 58,
     "metadata": {},
     "output_type": "execute_result"
    }
   ],
   "source": [
    "imu_t[imu_start_time]"
   ]
  },
  {
   "cell_type": "code",
   "execution_count": 59,
   "id": "b96b01b5",
   "metadata": {},
   "outputs": [
    {
     "data": {
      "text/plain": [
       "20.7800000000002"
      ]
     },
     "execution_count": 59,
     "metadata": {},
     "output_type": "execute_result"
    }
   ],
   "source": [
    "imu_t[imu_end_time]"
   ]
  },
  {
   "cell_type": "code",
   "execution_count": 50,
   "id": "dabb833c",
   "metadata": {},
   "outputs": [
    {
     "data": {
      "text/plain": [
       "6.478978041666665"
      ]
     },
     "execution_count": 50,
     "metadata": {},
     "output_type": "execute_result"
    }
   ],
   "source": [
    "a_1"
   ]
  },
  {
   "cell_type": "code",
   "execution_count": 51,
   "id": "9ef8d000",
   "metadata": {},
   "outputs": [],
   "source": [
    "if max(np.array(smoothed_signal)) > 0.1:\n",
    "    max_accel = max(np.array(smoothed_signal))\n",
    "    flip = 1\n",
    "else:\n",
    "    max_accel = max(abs(np.array(smoothed_signal)))\n",
    "    flip = -1\n",
    "w_0 = 0.5*max_accel*(trunc_time[-1] - trunc_time[0])\n",
    "K = a_1/w_0**2 \n",
    "#w_0"
   ]
  },
  {
   "cell_type": "code",
   "execution_count": 52,
   "id": "5f647226",
   "metadata": {},
   "outputs": [
    {
     "data": {
      "text/plain": [
       "6.508457080000041"
      ]
     },
     "execution_count": 52,
     "metadata": {},
     "output_type": "execute_result"
    }
   ],
   "source": [
    "w_0"
   ]
  },
  {
   "cell_type": "code",
   "execution_count": 9,
   "id": "6dea67b9",
   "metadata": {},
   "outputs": [],
   "source": [
    "## DERIVED PARAMETERS\n",
    "w_0_mph = w_0/0.44704\n",
    "z_0 = max(imu_alt) # apogee altitude in m\n",
    "\n",
    "################## CONSTANT WIND PROFILE & AIR DENSITY  ##################\n",
    "wind_profile_x = np.zeros((imu_N))\n",
    "density_profile = np.zeros((imu_N))\n",
    "\n",
    "z0 = max(imu_alt) # apogee altitude in m\n",
    "\n",
    "for i in range(imu_N):\n",
    "    T = T0 - B * imu_alt[i]\n",
    "    P = P0 * 1000 * (T/T0)**(g/(R*B))\n",
    "    density_profile[i] = P/(R*T)\n",
    "    if imu_alt[i] < 2:\n",
    "        wind_profile_x[i] = w_0*((2/z0)**(1/7))\n",
    "    else:\n",
    "        wind_profile_x[i] = w_0*((imu_alt[i]/z0)**(1/7))"
   ]
  },
  {
   "cell_type": "code",
   "execution_count": 10,
   "id": "06885393",
   "metadata": {},
   "outputs": [],
   "source": [
    "x1, t1 = model1(imu_t[imu_start_time], imu_t, imu_ax, imu_vx, imu_x, dt, a_1, imu_alt, wind_profile_x, density_profile, K)\n",
    "x2, t2 = model2(imu_t, dt, imu_alt, wind_profile_x, density_profile, K)"
   ]
  },
  {
   "cell_type": "code",
   "execution_count": 11,
   "id": "5774ec63",
   "metadata": {},
   "outputs": [
    {
     "data": {
      "image/png": "[encoded data removed]",
      "text/plain": [
       "<Figure size 576x576 with 1 Axes>"
      ]
     },
     "metadata": {
      "needs_background": "light"
     },
     "output_type": "display_data"
    }
   ],
   "source": [
    "fig1 = plt.figure(1, figsize=(8,8))\n",
    "ax = plt.subplot(111)\n",
    "ax.plot(t1, x1*flip, color='red', label='Model 1 (after drogue)')\n",
    "ax.plot(t2, x2*flip, color='green', label='Model 2 (after takeoff)')\n",
    "ax.set_title(\"X Displacement vs Time\")  # 'interpreter','latex', 'FontSize', 16\n",
    "ax.set_xlabel(\"Time (s)\")  # 'interpreter','latex', 'FontSize', 16\n",
    "ax.set_ylabel(\"X Displacement (m)\")  # 'interpreter','latex', 'FontSize', 16\n",
    "ax.legend()\n",
    "plt.show()"
   ]
  },
  {
   "cell_type": "code",
   "execution_count": null,
   "id": "acd05136",
   "metadata": {},
   "outputs": [],
   "source": []
  },
  {
   "cell_type": "code",
   "execution_count": null,
   "id": "652a8ada",
   "metadata": {},
   "outputs": [],
   "source": []
  },
  {
   "cell_type": "code",
   "execution_count": null,
   "id": "3d3b80da",
   "metadata": {},
   "outputs": [],
   "source": []
  },
  {
   "cell_type": "code",
   "execution_count": null,
   "id": "79f64197",
   "metadata": {},
   "outputs": [],
   "source": []
  },
  {
   "cell_type": "code",
   "execution_count": null,
   "id": "378a9ada",
   "metadata": {},
   "outputs": [],
   "source": []
  },
  {
   "cell_type": "code",
   "execution_count": null,
   "id": "49a4a61e",
   "metadata": {},
   "outputs": [],
   "source": []
  },
  {
   "cell_type": "code",
   "execution_count": 37,
   "id": "a1add103",
   "metadata": {},
   "outputs": [
    {
     "data": {
      "text/plain": [
       "[<matplotlib.lines.Line2D at 0x1d3dcff6f08>]"
      ]
     },
     "execution_count": 37,
     "metadata": {},
     "output_type": "execute_result"
    },
    {
     "data": {
      "image/png": "[encoded data removed]",
      "text/plain": [
       "<Figure size 432x288 with 1 Axes>"
      ]
     },
     "metadata": {
      "needs_background": "light"
     },
     "output_type": "display_data"
    }
   ],
   "source": [
    "plt.plot(trunc_time_y, trunc_signal_y)\n",
    "smoothed_signal_y = calc_moving_avg(trunc_signal_y, 25, trunc_time_y, dynamic_window=False, dynamic_n_timing=140, dynamic_n=80)\n",
    "plt.plot(trunc_time_y, smoothed_signal_y)"
   ]
  },
  {
   "cell_type": "code",
   "execution_count": 54,
   "id": "97eb1fdd",
   "metadata": {},
   "outputs": [
    {
     "data": {
      "text/plain": [
       "17.769999999999982"
      ]
     },
     "execution_count": 54,
     "metadata": {},
     "output_type": "execute_result"
    }
   ],
   "source": [
    "imu_t[imu_start_time]"
   ]
  },
  {
   "cell_type": "code",
   "execution_count": 55,
   "id": "624450c3",
   "metadata": {},
   "outputs": [
    {
     "data": {
      "text/plain": [
       "20.7800000000002"
      ]
     },
     "execution_count": 55,
     "metadata": {},
     "output_type": "execute_result"
    }
   ],
   "source": [
    "imu_t[imu_end_time]"
   ]
  },
  {
   "cell_type": "code",
   "execution_count": 12,
   "id": "c990841b",
   "metadata": {},
   "outputs": [],
   "source": [
    "imu_start_time, imu_end_time, takeoff_time, a_1 = find_peak_and_wait(np.array(imu_ay), imu_t)\n",
    "\n",
    "trunc_signal_y = imu_ay[imu_start_time:imu_end_time]\n",
    "trunc_time_y = imu_t[imu_start_time:imu_end_time]\n",
    "\n",
    "if trunc_signal_y == abs(trunc_signal_y):\n",
    "    smoothed_signal_y = calc_moving_avg(trunc_signal_y, 25, trunc_time_y, dynamic_window=False, dynamic_n_timing=140, dynamic_n=80)"
   ]
  },
  {
   "cell_type": "code",
   "execution_count": 13,
   "id": "dde09835",
   "metadata": {},
   "outputs": [],
   "source": [
    "if max(np.array(smoothed_signal_y)) > 0.1:\n",
    "    max_accel = max(np.array(smoothed_signal_y))\n",
    "    flip = 1\n",
    "else:\n",
    "    max_accel = max(abs(np.array(smoothed_signal_y)))\n",
    "    flip = -1\n",
    "w_0_y = 0.5*max_accel*(trunc_time_y[-1] - trunc_time_y[0])\n",
    "K = a_1/w_0_y**2"
   ]
  },
  {
   "cell_type": "code",
   "execution_count": 42,
   "id": "12628707",
   "metadata": {},
   "outputs": [
    {
     "data": {
      "text/plain": [
       "703"
      ]
     },
     "execution_count": 42,
     "metadata": {},
     "output_type": "execute_result"
    }
   ],
   "source": [
    "imu_start_time"
   ]
  },
  {
   "cell_type": "code",
   "execution_count": 43,
   "id": "72ecebb1",
   "metadata": {},
   "outputs": [
    {
     "data": {
      "text/plain": [
       "822"
      ]
     },
     "execution_count": 43,
     "metadata": {},
     "output_type": "execute_result"
    }
   ],
   "source": [
    "imu_end_time"
   ]
  },
  {
   "cell_type": "code",
   "execution_count": 41,
   "id": "f8444f64",
   "metadata": {},
   "outputs": [
    {
     "data": {
      "text/plain": [
       "-7.773316495833332"
      ]
     },
     "execution_count": 41,
     "metadata": {},
     "output_type": "execute_result"
    }
   ],
   "source": [
    "a_1"
   ]
  },
  {
   "cell_type": "code",
   "execution_count": null,
   "id": "efcca6f6",
   "metadata": {},
   "outputs": [],
   "source": []
  },
  {
   "cell_type": "code",
   "execution_count": null,
   "id": "0b0222fe",
   "metadata": {},
   "outputs": [],
   "source": []
  },
  {
   "cell_type": "code",
   "execution_count": null,
   "id": "11dc6cf6",
   "metadata": {},
   "outputs": [],
   "source": []
  },
  {
   "cell_type": "code",
   "execution_count": 18,
   "id": "b2271040",
   "metadata": {},
   "outputs": [],
   "source": [
    "################## CONSTANT WIND PROFILE & AIR DENSITY  ##################\n",
    "## DERIVED PARAMETERS\n",
    "w_0_y_mph = w_0_y/0.44704\n",
    "wind_profile_y = np.zeros((imu_N))\n",
    "density_profile = np.zeros((imu_N))\n",
    "z0 = max(imu_alt) # apogee altitude in m\n",
    "\n",
    "for i in range(imu_N):\n",
    "    T = T0 - B * imu_alt[i]\n",
    "    P = P0 * 1000 * (T/T0)**(g/(R*B))\n",
    "    density_profile[i] = P/(R*T)\n",
    "    if imu_alt[i] < 2:\n",
    "        wind_profile_y[i] = w_0_y*((2/z0)**(1/7))\n",
    "    else:\n",
    "        wind_profile_y[i] = w_0_y*((imu_alt[i]/z0)**(1/7))"
   ]
  },
  {
   "cell_type": "code",
   "execution_count": 19,
   "id": "91263b49",
   "metadata": {},
   "outputs": [
    {
     "name": "stderr",
     "output_type": "stream",
     "text": [
      "C:\\Users\\kdmen\\Desktop\\VADL\\code\\IMU_VV\\03_Path_Recon\\model_funcs.py:107: RuntimeWarning: overflow encountered in double_scalars\n",
      "  sim_ax[i+1] = K * ((wind_profile_x[imu_index] - sim_vx[i+1])**2)\n",
      "C:\\Users\\kdmen\\Desktop\\VADL\\code\\IMU_VV\\03_Path_Recon\\model_funcs.py:299: RuntimeWarning: overflow encountered in double_scalars\n",
      "  ax[i+1] = K * ((wind_profile_x[imu_index1] - vx[i+1])**2)\n"
     ]
    }
   ],
   "source": [
    "y1, ty1 = model1(imu_t[imu_start_time], imu_t, imu_ay, imu_vy, imu_y, dt, a_1, imu_alt, wind_profile_y, density_profile, K)\n",
    "y2, ty2 = model2(imu_t, dt, imu_alt, wind_profile_y, density_profile, K)"
   ]
  },
  {
   "cell_type": "code",
   "execution_count": 33,
   "id": "2c363d0c",
   "metadata": {},
   "outputs": [
    {
     "data": {
      "image/png": "[encoded data removed]",
      "text/plain": [
       "<Figure size 576x576 with 1 Axes>"
      ]
     },
     "metadata": {
      "needs_background": "light"
     },
     "output_type": "display_data"
    }
   ],
   "source": [
    "fig1 = plt.figure(1, figsize=(8,8))\n",
    "ax = plt.subplot(111)\n",
    "ax.plot(ty1, y1*flip, color='red', label='Model 1 (after drogue)')\n",
    "ax.plot(ty2, y2*flip, color='green', label='Model 2 (after takeoff)')\n",
    "ax.set_title(\"Y Displacement vs Time\")  # 'interpreter','latex', 'FontSize', 16\n",
    "ax.set_xlabel(\"Time (s)\")  # 'interpreter','latex', 'FontSize', 16\n",
    "ax.set_ylabel(\"Y Displacement (m)\")  # 'interpreter','latex', 'FontSize', 16\n",
    "ax.legend()\n",
    "plt.show()"
   ]
  },
  {
   "cell_type": "code",
   "execution_count": null,
   "id": "97f46614",
   "metadata": {},
   "outputs": [],
   "source": []
  }
 ],
 "metadata": {
  "kernelspec": {
   "display_name": "Python 3 (ipykernel)",
   "language": "python",
   "name": "python3"
  },
  "language_info": {
   "codemirror_mode": {
    "name": "ipython",
    "version": 3
   },
   "file_extension": ".py",
   "mimetype": "text/x-python",
   "name": "python",
   "nbconvert_exporter": "python",
   "pygments_lexer": "ipython3",
   "version": "3.7.11"
  }
 },
 "nbformat": 4,
 "nbformat_minor": 5
}
