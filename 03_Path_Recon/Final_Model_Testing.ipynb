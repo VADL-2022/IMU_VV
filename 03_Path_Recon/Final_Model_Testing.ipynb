{
 "cells": [
  {
   "cell_type": "code",
   "execution_count": 1,
   "id": "60b9a705",
   "metadata": {},
   "outputs": [],
   "source": [
    "import numpy as np\n",
    "import pandas as pd\n",
    "import matplotlib.pyplot as plt\n",
    "import math\n",
    "\n",
    "from model_funcs import *"
   ]
  },
  {
   "cell_type": "code",
   "execution_count": 2,
   "id": "22e14216",
   "metadata": {},
   "outputs": [],
   "source": [
    "dt = 0.001\n",
    "B = 6.5*10**-3   # temperature lapse rate in troposphere in K/m\n",
    "R = 287   # ideal gas constant in J/(kg.K)\n",
    "g = 9.80665  # gravity at sea level in m/s2\n",
    "T0 = 288.15   # standard air temperature in K\n",
    "P0 = 101.325   # standard air pressure in kPa\n",
    "pi = math.pi\n",
    "ft = 3.2884  # ft/m"
   ]
  },
  {
   "cell_type": "code",
   "execution_count": 3,
   "id": "98bd9105",
   "metadata": {},
   "outputs": [],
   "source": [
    "################## DATA FRAME ##################\n",
    "#datafile = '../Fullscale21.csv'\n",
    "datafile = '../Data/Trunc_Fullscale1.csv'\n",
    "fields = ['Timestamp', 'Pres',\n",
    "  'Roll', 'Pitch', 'Yaw',\n",
    "  'LinearAccelNed X', 'LinearAccelNed Y', 'LinearAccelNed Z',\n",
    "  ]\n",
    "\n",
    "df = pd.read_csv(datafile, skipinitialspace=True, usecols=fields)"
   ]
  },
  {
   "cell_type": "code",
   "execution_count": 4,
   "id": "c56b7404",
   "metadata": {},
   "outputs": [],
   "source": [
    "imu_t = df['Timestamp'].values\n",
    "imu_t = imu_t - imu_t[0]\n",
    "imu_N = len(imu_t)\n",
    "imu_ax = df['LinearAccelNed X'].values\n",
    "imu_ay = df['LinearAccelNed Y'].values\n",
    "imu_az = df['LinearAccelNed Z'].values * -1\n",
    "imu_pres = df['Pres']\n",
    "\n",
    "################## INIT VECTORS  ##################\n",
    "imu_vx, imu_vy, imu_vz, imu_x, imu_y, imu_z = (np.zeros((imu_N)), np.zeros((imu_N)), \n",
    "                                               np.zeros((imu_N)), np.zeros((imu_N)), \n",
    "                                               np.zeros((imu_N)), np.zeros((imu_N)))\n",
    "\n",
    "################## Find velocity and position  ##################\n",
    "for i in range(imu_N-1):\n",
    "    imu_vz[i+1] = imu_vz[i] + imu_az[i]*(imu_t[i+1] - imu_t[i])\n",
    "    imu_z[i+1] = imu_z[i] + imu_vz[i]*(imu_t[i+1] - imu_t[i])\n",
    "    \n",
    "    imu_vx[i+1] = imu_vx[i] + imu_ax[i]*(imu_t[i+1] - imu_t[i])\n",
    "    imu_x[i+1] = imu_x[i] + imu_vx[i]*(imu_t[i+1] - imu_t[i])\n",
    "    \n",
    "    imu_vy[i+1] = imu_vy[i] + imu_ay[i]*(imu_t[i+1] - imu_t[i])\n",
    "    imu_y[i+1] = imu_y[i] + imu_vy[i]*(imu_t[i+1] - imu_t[i])\n",
    "    \n",
    "################## Find alt  ##################\n",
    "def nasa_pres(P, P0, T0, R, B, g):\n",
    "    imu_temp = T0*(P/P0)**(R*B/g)\n",
    "    imu_alt = (T0 - imu_temp)/B\n",
    "    return imu_alt\n",
    "\n",
    "vec_NASA_pres = np.vectorize(nasa_pres)\n",
    "imu_alt = vec_NASA_pres(imu_pres, P0, T0, R, B, g)   # * ft + 600\n",
    "imu_alt = imu_alt - imu_alt[imu_N-1]\n",
    "imu_alt = [val if val > 0 else 0 for val in imu_alt]"
   ]
  },
  {
   "cell_type": "code",
   "execution_count": 5,
   "id": "6dbdcb47",
   "metadata": {},
   "outputs": [],
   "source": [
    "imu_start_time, imu_end_time, takeoff_time, a_1 = find_peak_and_wait(np.array(imu_ax), imu_t)\n",
    "\n",
    "trunc_signal = imu_ax[imu_start_time:imu_end_time]\n",
    "trunc_time = imu_t[imu_start_time:imu_end_time]\n",
    "\n",
    "smoothed_signal = calc_moving_avg(trunc_signal, 25, trunc_time, dynamic_window=False, dynamic_n_timing=140, dynamic_n=80)\n",
    "\n",
    "w_0 = 0.5*max(abs(np.array(smoothed_signal)))*(trunc_time[-1] - trunc_time[0])\n",
    "K = a_1/w_0**2 "
   ]
  },
  {
   "cell_type": "code",
   "execution_count": 6,
   "id": "9ef8d000",
   "metadata": {},
   "outputs": [
    {
     "data": {
      "text/plain": [
       "6.508457080000041"
      ]
     },
     "execution_count": 6,
     "metadata": {},
     "output_type": "execute_result"
    }
   ],
   "source": [
    "if max(np.array(smoothed_signal)) > 0.1:\n",
    "    max_accel = max(np.array(smoothed_signal))\n",
    "    flip = 1\n",
    "else:\n",
    "    max_accel = max(abs(np.array(smoothed_signal)))\n",
    "    flip = -1\n",
    "w_0 = 0.5*max_accel*(trunc_time[-1] - trunc_time[0])\n",
    "\n",
    "w_0"
   ]
  },
  {
   "cell_type": "code",
   "execution_count": 7,
   "id": "6dea67b9",
   "metadata": {},
   "outputs": [],
   "source": [
    "## DERIVED PARAMETERS\n",
    "w_0_mph = w_0/0.44704\n",
    "z_0 = max(imu_alt) # apogee altitude in m\n",
    "\n",
    "################## CONSTANT WIND PROFILE & AIR DENSITY  ##################\n",
    "wind_profile_x = np.zeros((imu_N))\n",
    "density_profile = np.zeros((imu_N))\n",
    "\n",
    "z0 = max(imu_alt) # apogee altitude in m\n",
    "\n",
    "for i in range(imu_N):\n",
    "    T = T0 - B * imu_alt[i]\n",
    "    P = P0 * 1000 * (T/T0)**(g/(R*B))\n",
    "    density_profile[i] = P/(R*T)\n",
    "    if imu_alt[i] < 2:\n",
    "        wind_profile_x[i] = w_0*((2/z0)**(1/7))\n",
    "    else:\n",
    "        wind_profile_x[i] = w_0*((imu_alt[i]/z0)**(1/7))"
   ]
  },
  {
   "cell_type": "code",
   "execution_count": 9,
   "id": "06885393",
   "metadata": {},
   "outputs": [],
   "source": [
    "x1, t1 = model1(imu_t[imu_start_time], imu_t, imu_ax, imu_vx, imu_x, dt, a_1, imu_alt, wind_profile_x, density_profile, K)\n",
    "x2, t2 = model2(imu_t, dt, imu_alt, wind_profile_x, density_profile, K)"
   ]
  },
  {
   "cell_type": "code",
   "execution_count": 10,
   "id": "5774ec63",
   "metadata": {},
   "outputs": [
    {
     "data": {
      "image/png": "[encoded data removed]",
      "text/plain": [
       "<Figure size 576x576 with 1 Axes>"
      ]
     },
     "metadata": {
      "needs_background": "light"
     },
     "output_type": "display_data"
    }
   ],
   "source": [
    "fig1 = plt.figure(1, figsize=(8,8))\n",
    "ax = plt.subplot(111)\n",
    "ax.plot(t1, x1*flip, color='red', label='Model 1 (after drogue)')\n",
    "ax.plot(t2, x2*flip, color='green', label='Model 2 (after takeoff)')\n",
    "ax.set_title(\"X Displacement vs Time\")  # 'interpreter','latex', 'FontSize', 16\n",
    "ax.set_xlabel(\"Time (s)\")  # 'interpreter','latex', 'FontSize', 16\n",
    "ax.set_ylabel(\"X Displacement (m)\")  # 'interpreter','latex', 'FontSize', 16\n",
    "ax.legend()\n",
    "plt.show()"
   ]
  },
  {
   "cell_type": "code",
   "execution_count": null,
   "id": "acd05136",
   "metadata": {},
   "outputs": [],
   "source": []
  }
 ],
 "metadata": {
  "kernelspec": {
   "display_name": "Python 3 (ipykernel)",
   "language": "python",
   "name": "python3"
  },
  "language_info": {
   "codemirror_mode": {
    "name": "ipython",
    "version": 3
   },
   "file_extension": ".py",
   "mimetype": "text/x-python",
   "name": "python",
   "nbconvert_exporter": "python",
   "pygments_lexer": "ipython3",
   "version": "3.7.11"
  }
 },
 "nbformat": 4,
 "nbformat_minor": 5
}
