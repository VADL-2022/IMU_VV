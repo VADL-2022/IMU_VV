{
 "cells": [
  {
   "cell_type": "code",
   "execution_count": 1,
   "id": "52477e62",
   "metadata": {},
   "outputs": [],
   "source": [
    "import numpy as np\n",
    "import pandas as pd\n",
    "import matplotlib.pyplot as plt\n",
    "from math import sqrt\n",
    "import math\n",
    "\n",
    "def sin(x):\n",
    "    return np.sin(np.deg2rad(x))\n",
    "\n",
    "def cos(x):\n",
    "    return np.cos(np.deg2rad(x))\n",
    "\n",
    "def tan(x):\n",
    "    return np.tan(np.deg2rad(x))\n",
    "\n",
    "def atan(x):\n",
    "    return np.arctan(np.deg2rad(x))"
   ]
  },
  {
   "cell_type": "markdown",
   "id": "f686dfee",
   "metadata": {},
   "source": [
    "### RAW PARAMETERS"
   ]
  },
  {
   "cell_type": "code",
   "execution_count": 2,
   "id": "9f24285d",
   "metadata": {},
   "outputs": [],
   "source": [
    "dt = 0.001\n",
    "B = 6.5*10**-3   # temperature lapse rate in troposphere in K/m\n",
    "R = 287   # ideal gas constant in J/(kg.K)\n",
    "g = 9.80665  # gravity at sea level in m/s2\n",
    "T0 = 288.15   # standard air temperature in K\n",
    "P0 = 101.325   # standard air pressure in kPa\n",
    "pi = math.pi"
   ]
  },
  {
   "cell_type": "markdown",
   "id": "a55dc6f0",
   "metadata": {},
   "source": [
    "### VARIABLES"
   ]
  },
  {
   "cell_type": "code",
   "execution_count": 3,
   "id": "1a2197bb",
   "metadata": {},
   "outputs": [],
   "source": [
    "# Manually Determined\n",
    "# ... these need to be algorithmically determined eventually\n",
    "imu_end_time = 19   # visually determined\n",
    "a0 = 1   # visually determined\n",
    "w0 = -8.2  # visually determined"
   ]
  },
  {
   "cell_type": "code",
   "execution_count": 4,
   "id": "5aa1eaf2",
   "metadata": {},
   "outputs": [],
   "source": [
    "# RAW PARAMETERS\n",
    "dt = 0.001 \n",
    "a_1 = -2.5 # first acceleration point after dorgue (visually determined)\n",
    "t_1 = 18.6 # time corresponding to a_1\n",
    "a_2 = -1   # first acceleration point after dorgue (visually determined)\n",
    "t_2 = 20.6 # time corresponding to a_2"
   ]
  },
  {
   "cell_type": "markdown",
   "id": "d53cd516",
   "metadata": {},
   "source": [
    "### imu_process.m"
   ]
  },
  {
   "cell_type": "code",
   "execution_count": 5,
   "id": "94ccdb76",
   "metadata": {},
   "outputs": [],
   "source": [
    "datafile = r'../Data/Trunc_Fullscale1.csv'  # This needs to be updated to whatever the real-time file is\n",
    "########################################################################\n",
    "\n",
    "fields = ['Timestamp', 'Pres',\n",
    "  'Roll', 'Pitch', 'Yaw',\n",
    "  'LinearAccelNed X', 'LinearAccelNed Y', 'LinearAccelNed Z',\n",
    "  ]\n",
    "\n",
    "df = pd.read_csv(datafile, skipinitialspace=True, usecols=fields)\n",
    "df = df.iloc[30:, :]"
   ]
  },
  {
   "cell_type": "code",
   "execution_count": 6,
   "id": "d847b584",
   "metadata": {},
   "outputs": [],
   "source": [
    "imu_t = df['Timestamp'].values\n",
    "imu_t = imu_t - imu_t[0]\n",
    "imu_N = len(imu_t)\n",
    "imu_ax = df['LinearAccelNed X'].values\n",
    "imu_ay = df['LinearAccelNed Y'].values\n",
    "imu_az = df['LinearAccelNed Z'].values * -1\n",
    "imu_pres = df['Pres']\n",
    "\n",
    "# imu_t[:5]"
   ]
  },
  {
   "cell_type": "code",
   "execution_count": 7,
   "id": "4c907127",
   "metadata": {},
   "outputs": [],
   "source": [
    "def nasa_pres(P, P0, T0, R, B, g):\n",
    "    imu_temp = T0*(P/P0)**(R*B/g)\n",
    "    imu_alt = (T0 - imu_temp)/B\n",
    "    return imu_alt\n",
    "\n",
    "vec_NASA_pres = np.vectorize(nasa_pres)\n",
    "imu_alt = vec_NASA_pres(imu_pres, P0, T0, R, B, g)   # * ft + 600\n",
    "imu_alt = imu_alt - imu_alt[imu_N-1]\n",
    "\n",
    "imu_alt = [val if val > 0 else 0 for val in imu_alt]"
   ]
  },
  {
   "cell_type": "code",
   "execution_count": 8,
   "id": "5725e378",
   "metadata": {},
   "outputs": [],
   "source": [
    "################## INIT VECTORS  ##################\n",
    "imu_vx, imu_vy, imu_vz, imu_x, imu_y, imu_z = (np.zeros((imu_N)), np.zeros((imu_N)), \n",
    "                                               np.zeros((imu_N)), np.zeros((imu_N)), \n",
    "                                               np.zeros((imu_N)), np.zeros((imu_N)))\n",
    "\n",
    "################## Find velocity and position  ##################\n",
    "for i in range(imu_N-1):\n",
    "    imu_vz[i+1] = imu_vz[i] + imu_az[i]*(imu_t[i+1] - imu_t[i])\n",
    "    imu_z[i+1] = imu_z[i] + imu_vz[i]*(imu_t[i+1] - imu_t[i])\n",
    "    \n",
    "    imu_vx[i+1] = imu_vx[i] + imu_ax[i]*(imu_t[i+1] - imu_t[i])\n",
    "    imu_x[i+1] = imu_x[i] + imu_vx[i]*(imu_t[i+1] - imu_t[i])\n",
    "    \n",
    "    imu_vy[i+1] = imu_vy[i] + imu_ay[i]*(imu_t[i+1] - imu_t[i])\n",
    "    imu_y[i+1] = imu_y[i] + imu_vy[i]*(imu_t[i+1] - imu_t[i])"
   ]
  },
  {
   "cell_type": "markdown",
   "id": "a5c82490",
   "metadata": {},
   "source": [
    "### Wind Density Profile"
   ]
  },
  {
   "cell_type": "code",
   "execution_count": 9,
   "id": "c6ab0db0",
   "metadata": {},
   "outputs": [],
   "source": [
    "## DERIVED PARAMETERS\n",
    "delta_t = t_2 - t_1 \n",
    "w_0 = a_1*delta_t/(sqrt(a_1/a_2)-1); # wind speed at apogee in m/s\n",
    "K = a_1/w_0**2 \n",
    "w_0_mph = w_0/0.44704\n",
    "z_0 = max(imu_alt) # apogee altitude in m\n",
    "\n",
    "################## CONSTANT WIND PROFILE & AIR DENSITY  ##################\n",
    "wind_profile_x = np.zeros((imu_N))\n",
    "density_profile = np.zeros((imu_N))\n",
    "\n",
    "z0 = max(imu_alt) # apogee altitude in m\n",
    "\n",
    "w0_mph = w0/0.44704\n",
    "\n",
    "for i in range(imu_N):\n",
    "    T = T0 - B * imu_alt[i]\n",
    "    P = P0 * 1000 * (T/T0)**(g/(R*B))\n",
    "    density_profile[i] = P/(R*T)\n",
    "    if imu_alt[i] < 2:\n",
    "        wind_profile_x[i] = w0*((2/z0)**(1/7))\n",
    "    else:\n",
    "        wind_profile_x[i] = w0*((imu_alt[i]/z0)**(1/7))"
   ]
  },
  {
   "cell_type": "markdown",
   "id": "de6091cf",
   "metadata": {},
   "source": [
    "### Model 1 after drogue"
   ]
  },
  {
   "cell_type": "code",
   "execution_count": 10,
   "id": "15b671f8",
   "metadata": {},
   "outputs": [],
   "source": [
    "## RAW PARAMETERS\n",
    "imu_end_time = t_1 # uncertainty start time in s (visually determined)\n",
    "\n",
    "## MODEL  #1: SIMULATE TRAJECTORY AFTER DROGUE\n",
    "# Initial parameters\n",
    "min111 = np.amin(abs(imu_t - imu_end_time))\n",
    "imu_end_ii = np.where(abs(imu_t - imu_end_time) == min111)[0][0]\n",
    "sim_start_t = imu_end_time\n",
    "sim_end_t = imu_t[-1]\n",
    "\n",
    "# Construct arrays\n",
    "sim_t = list(np.arange(sim_start_t, sim_end_t, dt))\n",
    "sim_N = len(sim_t)\n",
    "\n",
    "sim_ax = np.zeros(sim_N)\n",
    "sim_vx = np.zeros(sim_N)\n",
    "sim_x = np.zeros(sim_N)\n",
    "\n",
    "# Initialize acceleration, velocity, and displacement\n",
    "sim_ax[0] = imu_vx[imu_end_ii]\n",
    "\n",
    "sim_ax[0] = a_1\n",
    "\n",
    "sim_x[0] = imu_x[imu_end_ii]\n",
    "dV = sim_ax[0] * dt\n",
    "\n",
    "sim_curr_alt = np.zeros((sim_N))\n",
    "sim_curr_alt[0] = imu_alt[imu_end_ii]\n",
    "\n",
    "\n",
    "for i in range(sim_N-1):\n",
    "    sim_curr_time = sim_t[i+1]    \n",
    "    min222 = min(abs(imu_t - sim_curr_time))\n",
    "    imu_index = np.where(abs(imu_t - sim_curr_time) == min222)[0][0]\n",
    "    \n",
    "    sim_curr_alt[i+1] = imu_alt[imu_index]\n",
    "    \n",
    "    sim_x[i+1] = sim_x[i] + sim_vx[i]*dt + 0.5*dV*dt\n",
    "    sim_vx[i+1] = sim_vx[i] + dV\n",
    "    \n",
    "    sign_bool = (wind_profile_x[imu_index] < 0 and sim_vx[i+1] < 0) or \\\n",
    "                (wind_profile_x[imu_index] > 0 and sim_vx[i+1] > 0) or \\\n",
    "                (wind_profile_x[imu_index] == 0 and sim_vx[i+1] == 0)\n",
    "    if (abs(wind_profile_x[imu_index]) < abs(sim_vx[i+1])) and sign_bool:\n",
    "        sim_ax[i+1] = -K * ((wind_profile_x[imu_index] - sim_vx[i+1])**2)\n",
    "    else:\n",
    "        sim_ax[i+1] = K * ((wind_profile_x[imu_index] - sim_vx[i+1])**2)\n",
    "        \n",
    "    dV = sim_ax[i+1]*dt\n",
    "\n",
    "# Combine IMU ascent with the simulation\n",
    "t1 = np.hstack((imu_t[0:imu_end_ii], sim_t))\n",
    "ax1 = np.hstack((imu_ax[0:imu_end_ii], sim_ax))\n",
    "vx1 = np.hstack((imu_vx[0:imu_end_ii], sim_vx))\n",
    "x1 = np.hstack((imu_x[0:imu_end_ii], sim_x))"
   ]
  },
  {
   "cell_type": "markdown",
   "id": "839af01c",
   "metadata": {},
   "source": [
    "### Model 2 after takeoff"
   ]
  },
  {
   "cell_type": "code",
   "execution_count": 11,
   "id": "20ce1dc8",
   "metadata": {},
   "outputs": [],
   "source": [
    "## MODEL  #2: SIMULATE TRAJECTORY AFTER TAKE OFF\n",
    "max_sim_time = imu_t[-1] # maximum simulation time in s\n",
    "# t = list(range(0, max_sim_time, dt))  # time array\n",
    "t = np.arange(0, max_sim_time, dt)\n",
    "N = len(t)  # time array size\n",
    "x, z = np.zeros(N), np.zeros(N)  # z and x displacement array\n",
    "vx, vz = np.zeros(N), np.zeros(N)  # z and x velocity array\n",
    "ax, az = np.zeros(N), np.zeros(N)  # z and x acceleration array\n",
    "v = np.zeros(N)\n",
    "m = np.zeros(N)  # mass array\n",
    "theta = np.zeros(N)  # angle array\n",
    "omega = np.zeros(N)  # angle array\n",
    "alpha = np.zeros(N)  # angle array\n",
    "theta0 = 2*pi/180  # launch angle array in radians"
   ]
  },
  {
   "cell_type": "code",
   "execution_count": 12,
   "id": "59d38afa",
   "metadata": {},
   "outputs": [],
   "source": [
    "# RAW PARAMETERS\n",
    "m_dry = 16.57  # rocket dry mass in kg\n",
    "Cd = 0.39  # rocket drag coefficient\n",
    "Cd_side = 1  # rocket side drag coefficient\n",
    "L = 2.06  # rocket length in m\n",
    "D = 0.1524  # rocket diameter in m\n",
    "SSM = 2.6  # static stability margin\n",
    "T_avg = 1740  # average motor thrust in N\n",
    "t_burn = 2.1  # motor burn time in s\n",
    "m_motor = 1.76  # motor wet mass in kg\n",
    "L_rail = 2  # launch rail transit in m\n",
    "number_of_time_steps = 2"
   ]
  },
  {
   "cell_type": "code",
   "execution_count": 13,
   "id": "21e539df",
   "metadata": {},
   "outputs": [],
   "source": [
    "# DERIVED PARAMETERS\n",
    "A_rocket = pi*(D**2)/4  # rocket cross sectional area in m2\n",
    "A_side_r = 0.374  # rocket side area in m2\n",
    "m_wet = m_dry + m_motor  # rocket wet mass in kg\n",
    "m_dot = m_motor/t_burn  # motor burn rate in kg/s\n",
    "\n",
    "# SIMULATION PARAMETERS\n",
    "i = 1  # loop index\n",
    "m[i] = m_wet  # initial wet mass in kg\n",
    "ax[i] = T_avg / m[i] * sin(theta0)\n",
    "az[i] = T_avg / m[i] * cos(theta0) - g\n",
    "theta[i] = theta0  # initial angle (launch) in radians\n",
    "i = i + 1  # increase loop"
   ]
  },
  {
   "cell_type": "markdown",
   "id": "b398890d",
   "metadata": {},
   "source": [
    "#### STAGE 1: POWERED ASCENT ON LAUNCH RAIL"
   ]
  },
  {
   "cell_type": "code",
   "execution_count": 14,
   "id": "4970bd9d",
   "metadata": {},
   "outputs": [],
   "source": [
    "# while z altitude is lower than the launch rail altitude\n",
    "while (np.linalg.norm([x[i-1], z[i-1]]) < L_rail):\n",
    "    theta[i] = theta0  # constant angle until launch rail is cleared\n",
    "\n",
    "    x[i] = x[i-1] + vx[i-1]*dt  # calculate x position\n",
    "    z[i] = z[i-1] + vz[i-1]*dt  # calculate z position\n",
    "\n",
    "    vz[i] = vz[i-1] + az[i-1]*dt  # calculate z velocity\n",
    "    vx[i] = vx[i-1] + ax[i-1]*dt  # calculate x velocity\n",
    "    v[i] = np.linalg.norm([vx[i], vz[i]])  # calculate velocity along axis\n",
    "\n",
    "    m[i] = m[i-1] - m_dot*dt  # calculate mass\n",
    "\n",
    "    ax[i] = T_avg/m[i]*sin(theta0)\n",
    "    az[i] = T_avg/m[i]*cos(theta0) - g\n",
    "\n",
    "    i = i + 1  # increase simulation step\n",
    "\n",
    "t_LRE = t[i-1]  # launch rail exit time\n",
    "i_LRE = i-1"
   ]
  },
  {
   "cell_type": "markdown",
   "id": "63ffda90",
   "metadata": {},
   "source": [
    "#### STAGE 2: WIND COCKING DURING POWERED ASCENT"
   ]
  },
  {
   "cell_type": "code",
   "execution_count": 15,
   "id": "f5909bca",
   "metadata": {},
   "outputs": [],
   "source": [
    "# [minDistance, imu_LRE] = min(abs(imu_alt - z(i_LRE)))\n",
    "# w_LRE = abs(wind_profile_x(imu_LRE))\n",
    "# tau = (w_LRE/(T_avg/m(i_LRE)-g))*(SSM**2/(SSM-1))\n",
    "\n",
    "minDistance = np.amin(abs(imu_alt - z[i_LRE]))\n",
    "imu_LRE = np.where(abs(imu_alt - z[i_LRE]) == minDistance)[0][0]\n",
    "w_LRE = abs(wind_profile_x[imu_LRE])\n",
    "tau = (w_LRE/(T_avg/m[i_LRE]-g))*(SSM**2/(SSM-1))\n",
    "\n",
    "# min111 = np.amin(abs(imu_t - imu_end_time))\n",
    "# imu_end_ii = np.where(abs(imu_t - imu_end_time) == min111)[0][0]\n",
    "\n",
    "# whole wind cocking occurs\n",
    "while (t[i-1] < t[i_LRE] + number_of_time_steps*tau):\n",
    "    theta[i] = theta[i-1] + omega[i-1]*dt  # calculate angle\n",
    "    omega[i] = omega[i-1] + alpha[i-1]*dt  # calculate angular velocity\n",
    "\n",
    "    x[i] = x[i-1] + vx[i-1]*dt  # calculate x position\n",
    "    z[i] = z[i-1] + vz[i-1]*dt  # calculate z position\n",
    "\n",
    "    vz[i] = vz[i-1] + az[i-1]*dt  # calculate z velocity\n",
    "    vx[i] = vx[i-1] + ax[i-1]*dt  # calculate x velocity\n",
    "    v[i] = np.linalg.norm([vx[i], vz[i]])  # calculate velocity along axis\n",
    "\n",
    "    minDistance = np.amin(abs(imu_alt - z[i]))\n",
    "    imu_index = np.where(abs(imu_alt - z[i]) == minDistance)[0][0]\n",
    "#     imu_index = imu_alt.index(minDistance + z[i])\n",
    "    w = abs(wind_profile_x[imu_index])  # side wind calculation\n",
    "    rho = density_profile[imu_index]\n",
    "\n",
    "    m[i] = m[i-1] - m_dot*dt  # calculate mass\n",
    "\n",
    "    I = 1/12*m[i]*(L**2)  # calculate inertia\n",
    "\n",
    "    FD_side = 0.5*Cd_side*A_side_r*rho*((vx[i]+w)**2)  # calculate side drag\n",
    "    FD = 0.5*Cd*rho*(v[i]**2)*A_rocket  # calculate drag along axis\n",
    "\n",
    "    alpha[i] = FD_side*D*cos(theta[i])*SSM/I  # calculate angular accel.\n",
    "\n",
    "    # calculate acceleration along rocket axis\n",
    "    dv = (((T_avg-FD-FD_side*sin(theta[i]))/m[i])-g*cos(theta[i]))*dt\n",
    "    v[i] = v[i-1] + dv\n",
    "\n",
    "    vx[i] = v[i] * sin(theta[i])\n",
    "    vz[i] = v[i] * cos(theta[i])\n",
    "\n",
    "    # accelerations\n",
    "    ax[i] = (dv/dt) * sin(theta[i])\n",
    "    az[i] = (dv/dt) * cos(theta[i])\n",
    "#     alpha[i] = FD_side * SSM * D * cos(theta[i])/I\n",
    "\n",
    "    i = i + 1  # increase simulation step"
   ]
  },
  {
   "cell_type": "markdown",
   "id": "9df9383c",
   "metadata": {},
   "source": [
    "#### STAGE 3: POWERED ASCENT"
   ]
  },
  {
   "cell_type": "code",
   "execution_count": 16,
   "id": "7eeb6a1b",
   "metadata": {},
   "outputs": [],
   "source": [
    "# while MECO is reached\n",
    "while (t[i-1] < t_burn):\n",
    "    x[i] = x[i-1] + vx[i-1]*dt  # calculate x position\n",
    "    z[i] = z[i-1] + vz[i-1]*dt  # calculate z position\n",
    "\n",
    "#     [minDistance, imu_index] = min(abs(imu_alt - z[i]))\n",
    "    minDistance = np.amin(abs(imu_alt - z[i]))\n",
    "    imu_index = np.where(abs(imu_alt - z[i]) == minDistance)[0][0]\n",
    "    rho = density_profile[imu_index]\n",
    "\n",
    "    vz[i] = vz[i-1] + az[i-1]*dt  # calculate z velocity\n",
    "    vx[i] = vx[i-1] + ax[i-1]*dt  # calculate x velocity\n",
    "    v = sqrt((vz[i])**2 + (vx[i])**2)  # calculate velocity along axis\n",
    "\n",
    "    theta[i] = atan(vx[i]/vz[i])  # calculate angle\n",
    "\n",
    "    FD = 0.5*Cd*rho*(v**2)*A_rocket  # calculate drag along axis\n",
    "\n",
    "    m[i] = m[i-1] - m_dot*dt  # calculate mass\n",
    "\n",
    "    ax[i] = (T_avg-FD)*sin(theta[i])/m[i]  # calculate x accel.\n",
    "    az[i] = (T_avg-FD)*cos(theta[i])/m[i]-g  # calculate y accel.\n",
    "\n",
    "    i = i + 1  # increase simulation step"
   ]
  },
  {
   "cell_type": "markdown",
   "id": "1780741a",
   "metadata": {},
   "source": [
    "#### STAGE 4: COAST ASCENT"
   ]
  },
  {
   "cell_type": "code",
   "execution_count": 17,
   "id": "0e755d13",
   "metadata": {},
   "outputs": [],
   "source": [
    "while (vz[i-1] > 0):\n",
    "    x[i] = x[i-1] + vx[i-1]*dt  # calculate x position\n",
    "    z[i] = z[i-1] + vz[i-1]*dt  # calculate z position\n",
    "\n",
    "#     [minDistance, imu_index_1] = min(abs(imu_alt - z[i]))\n",
    "    minDistance = np.amin(abs(imu_alt - z[i]))\n",
    "    imu_index_1 = np.where(abs(imu_alt - z[i]) == minDistance)[0][0]\n",
    "    rho = density_profile[imu_index_1]\n",
    "#     rho = density_profile(imu_index_1)\n",
    "\n",
    "    vz[i] = vz[i-1] + az[i-1]*dt  # calculate z velocity\n",
    "    vx[i] = vx[i-1] + ax[i-1]*dt  # calculate x velocity\n",
    "    v = sqrt((vz[i])**2 + (vx[i])**2)  # calculate velocity along axis\n",
    "\n",
    "    theta[i] = atan(vx[i]/vz[i])  # calculate angle\n",
    "\n",
    "    FD = 0.5*Cd*rho*(v**2)*A_rocket# calculate drag along axis\n",
    "\n",
    "    ax[i] = -FD*sin(theta[i])/m_dry  # calculate x accel.\n",
    "    az[i] = -FD*cos(theta[i])/m_dry-g  # calculate y accel.\n",
    "    \n",
    "    i = i + 1  # increase simulation step\n",
    "\n",
    "# t_end = i-1\n",
    "i_sim_end = i - 1\n",
    "\n",
    "# Initialize acceleration, velocity, and displacement\n",
    "dV = ax[i_sim_end] * dt\n",
    "\n",
    "# Find acceleration, velocity, and displacement\n",
    "for i in range(i_sim_end, len(t)-1):\n",
    "    min444 = np.amin(abs(imu_t - t[i+1]))\n",
    "    imu_index1 = np.where(abs(imu_t - t[i+1]) == min444)[0][0]\n",
    "#     rho = density_profile[imu_index]\n",
    "    \n",
    "    x[i+1] = x[i] + vx[i]*dt + 0.5*dV*dt\n",
    "    vx[i+1] = vx[i] + dV\n",
    "    \n",
    "    sign_bool = (wind_profile_x[imu_index1] < 0 and vx[i+1] < 0) or \\\n",
    "                (wind_profile_x[imu_index1] > 0 and vx[i+1] > 0) or \\\n",
    "                (wind_profile_x[imu_index1] == 0 and vx[i+1] == 0)\n",
    "    if (abs(wind_profile_x[imu_index1]) < abs(vx[i+1])) and sign_bool:\n",
    "        ax[i+1] = -K * ((wind_profile_x[imu_index1] - vx[i+1])**2)\n",
    "    else:\n",
    "        ax[i+1] = K * ((wind_profile_x[imu_index1] - vx[i+1])**2)\n",
    "        \n",
    "    dV = ax[i+1]*dt\n",
    "    \n",
    "t_end = i - 1\n",
    "\n",
    "# Trim Arrays\n",
    "t, x = t[0:t_end], x[0:t_end]\n",
    "z, ax = z[0:t_end], ax[0:t_end]\n",
    "az, vx = az[0:t_end], vx[0:t_end]\n",
    "vz, theta = vz[0:t_end], theta[0:t_end]\n",
    "    "
   ]
  },
  {
   "cell_type": "markdown",
   "id": "67cef95f",
   "metadata": {},
   "source": [
    "## Plots "
   ]
  },
  {
   "cell_type": "code",
   "execution_count": 18,
   "id": "2af7cb0c",
   "metadata": {},
   "outputs": [
    {
     "data": {
      "image/png": "[encoded data removed]",
      "text/plain": [
       "<Figure size 576x576 with 1 Axes>"
      ]
     },
     "metadata": {
      "needs_background": "light"
     },
     "output_type": "display_data"
    }
   ],
   "source": [
    "fig1 = plt.figure(1, figsize=(8,8))\n",
    "ax = plt.subplot(111)\n",
    "ax.plot(t1, x1, color='red', label='Model 1 (after drogue)')\n",
    "ax.plot(t, x, color='green', label='Model 2 (after takeoff)')\n",
    "ax.set_title(\"X Displacement vs Time\")  # 'interpreter','latex', 'FontSize', 16\n",
    "ax.set_xlabel(\"Time (s)\")  # 'interpreter','latex', 'FontSize', 16\n",
    "ax.set_ylabel(\"X Displacement (m)\")  # 'interpreter','latex', 'FontSize', 16\n",
    "ax.legend()\n",
    "plt.show()"
   ]
  }
 ],
 "metadata": {
  "kernelspec": {
   "display_name": "Python 3 (ipykernel)",
   "language": "python",
   "name": "python3"
  },
  "language_info": {
   "codemirror_mode": {
    "name": "ipython",
    "version": 3
   },
   "file_extension": ".py",
   "mimetype": "text/x-python",
   "name": "python",
   "nbconvert_exporter": "python",
   "pygments_lexer": "ipython3",
   "version": "3.9.7"
  }
 },
 "nbformat": 4,
 "nbformat_minor": 5
}
