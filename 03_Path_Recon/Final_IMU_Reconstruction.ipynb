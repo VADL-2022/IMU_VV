{
 "cells": [
  {
   "cell_type": "code",
   "execution_count": 1,
   "id": "4657c8a7",
   "metadata": {},
   "outputs": [],
   "source": [
    "import pandas as pd\n",
    "import numpy as np\n",
    "from math import sin, cos, pi, atan2, asin, sqrt, ceil\n",
    "import matplotlib.pyplot as plt\n",
    "from model_funcs import *"
   ]
  },
  {
   "cell_type": "markdown",
   "id": "26799785",
   "metadata": {},
   "source": [
    "## \"FULLSCALE\" 3"
   ]
  },
  {
   "cell_type": "code",
   "execution_count": 35,
   "id": "c982380f",
   "metadata": {
    "scrolled": false
   },
   "outputs": [
    {
     "name": "stdout",
     "output_type": "stream",
     "text": [
      "Setting maxIndex to -1\n",
      "Take-Off Time (s) = 0.0\n",
      "Landing (s) = 73.71000000000004\n",
      "End time of signal: 11.559999999999945\n",
      "End time of signal: 14.559999999999945\n",
      "IMU WIND SPEEDS, X->1.9757579530014833 m/s and Y->0.29483364599852413 m/s\n",
      "UPDATED WIND SPEEDS, X->-1.915579462793291 m/s and Y->0.29483364599852413 m/s\n",
      "LOOP 2\n",
      "2.915579462793291\n",
      "Model2 x displacement: 32.466079245801055\n",
      "Model2 y displacement: 0\n",
      "AFTER POSSIBLE SIGN FLIP\n",
      "Model2 x displacement: -32.466079245801055\n",
      "Model2 y displacement: 0\n",
      "MODEL 1: TOTAL X AND Y DISPLACEMENTS, u=-1: X->-156.716136 m, Y->25.878550 m\n",
      "MODEL 2: TOTAL X AND Y DISPLACEMENTS, u=-1: X->-172.00010568638132 m, Y->0 m\n",
      "\n",
      "1.915579462793291\n",
      "Model2 x displacement: 31.74901032674729\n",
      "Model2 y displacement: 0\n",
      "AFTER POSSIBLE SIGN FLIP\n",
      "Model2 x displacement: -31.74901032674729\n",
      "Model2 y displacement: 0\n",
      "MODEL 1: TOTAL X AND Y DISPLACEMENTS, u=0: X->-109.677156 m, Y->25.878550 m\n",
      "MODEL 2: TOTAL X AND Y DISPLACEMENTS, u=0: X->-124.24405639066714 m, Y->0 m\n",
      "\n",
      "0.9155794627932909\n",
      "Model2 x displacement: 32.486844398569986\n",
      "Model2 y displacement: 0\n",
      "AFTER POSSIBLE SIGN FLIP\n",
      "Model2 x displacement: -32.486844398569986\n",
      "Model2 y displacement: 0\n",
      "MODEL 1: TOTAL X AND Y DISPLACEMENTS, u=1: X->-62.630618 m, Y->25.878550 m\n",
      "MODEL 2: TOTAL X AND Y DISPLACEMENTS, u=1: X->-77.93535304601244 m, Y->0 m\n",
      "\n",
      "---------------------------------------------------------------\n",
      "\n",
      "Minimum-Maximum x: -172.00010568638132 - -62.630618250090244 (m), u_range=109.36948743629108 (m)\n",
      "Minimum-Maximum y: 0 - 25.87855026813918 (m), u_range=25.87855026813918 (m)\n",
      "Avg X displacement: 117.31536196823578 (m)\n",
      "Avg Y displacement: -12.93927513406959 (m)\n",
      "Started in grid number 210, ended in 250 (average)\n",
      "ALL GRID BOXES: [250]\n"
     ]
    }
   ],
   "source": [
    "SIFT1_datafile = \"Full_FS3_SIFT1.csv\"\n",
    "imu_data_file_and_path = \"../../\" + SIFT1_datafile\n",
    "\n",
    "final_grid_number = calc_displacement2(imu_data_file_and_path, 210, [-2, 0], my_thresh=50, my_post_drogue_delay=0.85, my_signal_length=3, my_t_sim_landing=50, ld_launch_angle=2*pi/180, ld_ssm=3.2, ld_dry_base=15.89)"
   ]
  },
  {
   "cell_type": "code",
   "execution_count": 37,
   "id": "edaaf5c5",
   "metadata": {},
   "outputs": [
    {
     "name": "stdout",
     "output_type": "stream",
     "text": [
      "Take-Off Time (s) = 0.0\n",
      "Landing (s) = 73.71000000000004\n",
      "End time of signal: 11.559999999999945\n",
      "End time of signal: 14.559999999999945\n",
      "IMU WIND SPEEDS, X->1.9757579530014833 m/s and Y->0.29483364599852413 m/s\n",
      "UPDATED WIND SPEEDS, X->-1.915579462793291 m/s and Y->0.29483364599852413 m/s\n",
      "LOOP 2\n",
      "2.915579462793291\n",
      "Model2 x displacement: 32.466079245801055\n",
      "Model2 y displacement: 0\n",
      "AFTER POSSIBLE SIGN FLIP\n",
      "Model2 x displacement: -32.466079245801055\n",
      "Model2 y displacement: 0\n",
      "MODEL 1: TOTAL X AND Y DISPLACEMENTS, u=-1: X->-156.716136 m, Y->25.878550 m\n",
      "MODEL 2: TOTAL X AND Y DISPLACEMENTS, u=-1: X->-172.00010568638132 m, Y->0 m\n",
      "\n",
      "1.915579462793291\n",
      "Model2 x displacement: 31.74901032674729\n",
      "Model2 y displacement: 0\n",
      "AFTER POSSIBLE SIGN FLIP\n",
      "Model2 x displacement: -31.74901032674729\n",
      "Model2 y displacement: 0\n",
      "MODEL 1: TOTAL X AND Y DISPLACEMENTS, u=0: X->-109.677156 m, Y->25.878550 m\n",
      "MODEL 2: TOTAL X AND Y DISPLACEMENTS, u=0: X->-124.24405639066714 m, Y->0 m\n",
      "\n",
      "0.9155794627932909\n",
      "Model2 x displacement: 32.486844398569986\n",
      "Model2 y displacement: 0\n",
      "AFTER POSSIBLE SIGN FLIP\n",
      "Model2 x displacement: -32.486844398569986\n",
      "Model2 y displacement: 0\n",
      "MODEL 1: TOTAL X AND Y DISPLACEMENTS, u=1: X->-62.630618 m, Y->25.878550 m\n",
      "MODEL 2: TOTAL X AND Y DISPLACEMENTS, u=1: X->-77.93535304601244 m, Y->0 m\n",
      "\n",
      "---------------------------------------------------------------\n",
      "\n",
      "Minimum-Maximum x: -172.00010568638132 - -62.630618250090244 (m), u_range=109.36948743629108 (m)\n",
      "Minimum-Maximum y: 0 - 25.87855026813918 (m), u_range=25.87855026813918 (m)\n",
      "Avg X displacement: 117.31536196823578 (m)\n",
      "Avg Y displacement: -12.93927513406959 (m)\n",
      "Started in grid number 210, ended in 250 (average)\n",
      "ALL GRID BOXES: [250]\n"
     ]
    }
   ],
   "source": [
    "# The actual flight time was ~75 seconds, not 50...\n",
    "final_grid_number = calc_displacement2(imu_data_file_and_path, 210, [-2, 0], my_thresh=50, my_post_drogue_delay=0.85, my_signal_length=3, my_t_sim_landing=75, ld_launch_angle=2*pi/180, ld_ssm=3.2, ld_dry_base=15.89)"
   ]
  },
  {
   "cell_type": "markdown",
   "id": "4b7e0387",
   "metadata": {},
   "source": [
    "SIFT2"
   ]
  },
  {
   "cell_type": "code",
   "execution_count": 38,
   "id": "6563a064",
   "metadata": {},
   "outputs": [
    {
     "name": "stdout",
     "output_type": "stream",
     "text": [
      "Setting minIndex to -1\n",
      "Setting maxIndex to -1\n",
      "Setting lateLandingIndex to -1\n",
      "Take-Off Time (s) = 0.0\n"
     ]
    },
    {
     "ename": "IndexError",
     "evalue": "index -470976 is out of bounds for axis 0 with size 2885",
     "output_type": "error",
     "traceback": [
      "\u001b[1;31m---------------------------------------------------------------------------\u001b[0m",
      "\u001b[1;31mIndexError\u001b[0m                                Traceback (most recent call last)",
      "\u001b[1;32m~\\AppData\\Local\\Temp/ipykernel_7988/2651123824.py\u001b[0m in \u001b[0;36m<module>\u001b[1;34m\u001b[0m\n\u001b[0;32m      2\u001b[0m \u001b[0mimu_data_file_and_path\u001b[0m \u001b[1;33m=\u001b[0m \u001b[1;34m\"../../\"\u001b[0m \u001b[1;33m+\u001b[0m \u001b[0mSIFT2_datafile\u001b[0m\u001b[1;33m\u001b[0m\u001b[1;33m\u001b[0m\u001b[0m\n\u001b[0;32m      3\u001b[0m \u001b[1;33m\u001b[0m\u001b[0m\n\u001b[1;32m----> 4\u001b[1;33m \u001b[0mfinal_grid_number\u001b[0m \u001b[1;33m=\u001b[0m \u001b[0mcalc_displacement2\u001b[0m\u001b[1;33m(\u001b[0m\u001b[0mimu_data_file_and_path\u001b[0m\u001b[1;33m,\u001b[0m \u001b[1;36m210\u001b[0m\u001b[1;33m,\u001b[0m \u001b[1;33m[\u001b[0m\u001b[1;33m-\u001b[0m\u001b[1;36m2\u001b[0m\u001b[1;33m,\u001b[0m \u001b[1;36m0\u001b[0m\u001b[1;33m]\u001b[0m\u001b[1;33m,\u001b[0m \u001b[0mmy_thresh\u001b[0m\u001b[1;33m=\u001b[0m\u001b[1;36m50\u001b[0m\u001b[1;33m,\u001b[0m \u001b[0mmy_post_drogue_delay\u001b[0m\u001b[1;33m=\u001b[0m\u001b[1;36m0.85\u001b[0m\u001b[1;33m,\u001b[0m \u001b[0mmy_signal_length\u001b[0m\u001b[1;33m=\u001b[0m\u001b[1;36m3\u001b[0m\u001b[1;33m,\u001b[0m \u001b[0mmy_t_sim_landing\u001b[0m\u001b[1;33m=\u001b[0m\u001b[1;36m50\u001b[0m\u001b[1;33m,\u001b[0m \u001b[0mld_launch_angle\u001b[0m\u001b[1;33m=\u001b[0m\u001b[1;36m2\u001b[0m\u001b[1;33m*\u001b[0m\u001b[0mpi\u001b[0m\u001b[1;33m/\u001b[0m\u001b[1;36m180\u001b[0m\u001b[1;33m,\u001b[0m \u001b[0mld_ssm\u001b[0m\u001b[1;33m=\u001b[0m\u001b[1;36m3.2\u001b[0m\u001b[1;33m,\u001b[0m \u001b[0mld_dry_base\u001b[0m\u001b[1;33m=\u001b[0m\u001b[1;36m15.89\u001b[0m\u001b[1;33m)\u001b[0m\u001b[1;33m\u001b[0m\u001b[1;33m\u001b[0m\u001b[0m\n\u001b[0m",
      "\u001b[1;32m~\\AppData\\Local\\Temp/ipykernel_7988/1074448941.py\u001b[0m in \u001b[0;36mcalc_displacement2\u001b[1;34m(imu_data_file_and_path, launch_rail_box, weather_station_stats_xy, my_thresh, my_post_drogue_delay, my_signal_length, my_t_sim_landing, ld_launch_angle, ld_ssm, ld_dry_base, ld_m_motor, ld_t_burn, ld_T_avg)\u001b[0m\n\u001b[0;32m    162\u001b[0m     \u001b[1;31m## DISPLAY RESULTS\u001b[0m\u001b[1;33m\u001b[0m\u001b[1;33m\u001b[0m\u001b[1;33m\u001b[0m\u001b[0m\n\u001b[0;32m    163\u001b[0m     \u001b[0mprint\u001b[0m\u001b[1;33m(\u001b[0m\u001b[1;34mf\"Take-Off Time (s) = {imu_t[take_off_i]}\"\u001b[0m\u001b[1;33m)\u001b[0m\u001b[1;33m;\u001b[0m\u001b[1;33m\u001b[0m\u001b[1;33m\u001b[0m\u001b[0m\n\u001b[1;32m--> 164\u001b[1;33m     \u001b[0mprint\u001b[0m\u001b[1;33m(\u001b[0m\u001b[1;34mf\"Landing (s) = {imu_t[landing_i-1]}\"\u001b[0m\u001b[1;33m)\u001b[0m\u001b[1;33m;\u001b[0m\u001b[1;33m\u001b[0m\u001b[1;33m\u001b[0m\u001b[0m\n\u001b[0m\u001b[0;32m    165\u001b[0m \u001b[1;33m\u001b[0m\u001b[0m\n\u001b[0;32m    166\u001b[0m     \u001b[0mimu_vz\u001b[0m \u001b[1;33m=\u001b[0m \u001b[0mnp\u001b[0m\u001b[1;33m.\u001b[0m\u001b[0mzeros\u001b[0m\u001b[1;33m(\u001b[0m\u001b[0mimu_N\u001b[0m\u001b[1;33m)\u001b[0m\u001b[1;33m\u001b[0m\u001b[1;33m\u001b[0m\u001b[0m\n",
      "\u001b[1;31mIndexError\u001b[0m: index -470976 is out of bounds for axis 0 with size 2885"
     ]
    }
   ],
   "source": [
    "SIFT2_datafile = \"Full_FS3_SIFT2.csv\"\n",
    "imu_data_file_and_path = \"../../\" + SIFT2_datafile\n",
    "\n",
    "final_grid_number = calc_displacement2(imu_data_file_and_path, 210, [-2, 0], my_thresh=50, my_post_drogue_delay=0.85, my_signal_length=3, my_t_sim_landing=50, ld_launch_angle=2*pi/180, ld_ssm=3.2, ld_dry_base=15.89)"
   ]
  },
  {
   "cell_type": "code",
   "execution_count": 39,
   "id": "f79af7ad",
   "metadata": {},
   "outputs": [
    {
     "name": "stdout",
     "output_type": "stream",
     "text": [
      "Setting minIndex to -1\n",
      "Setting maxIndex to -1\n",
      "Setting lateLandingIndex to -1\n",
      "Take-Off Time (s) = 0.0\n"
     ]
    },
    {
     "ename": "IndexError",
     "evalue": "index -470976 is out of bounds for axis 0 with size 2885",
     "output_type": "error",
     "traceback": [
      "\u001b[1;31m---------------------------------------------------------------------------\u001b[0m",
      "\u001b[1;31mIndexError\u001b[0m                                Traceback (most recent call last)",
      "\u001b[1;32m~\\AppData\\Local\\Temp/ipykernel_7988/994470666.py\u001b[0m in \u001b[0;36m<module>\u001b[1;34m\u001b[0m\n\u001b[0;32m      1\u001b[0m \u001b[1;31m# The actual flight time was ~75 seconds, not 50...\u001b[0m\u001b[1;33m\u001b[0m\u001b[1;33m\u001b[0m\u001b[1;33m\u001b[0m\u001b[0m\n\u001b[1;32m----> 2\u001b[1;33m \u001b[0mfinal_grid_number\u001b[0m \u001b[1;33m=\u001b[0m \u001b[0mcalc_displacement2\u001b[0m\u001b[1;33m(\u001b[0m\u001b[0mimu_data_file_and_path\u001b[0m\u001b[1;33m,\u001b[0m \u001b[1;36m210\u001b[0m\u001b[1;33m,\u001b[0m \u001b[1;33m[\u001b[0m\u001b[1;33m-\u001b[0m\u001b[1;36m2\u001b[0m\u001b[1;33m,\u001b[0m \u001b[1;36m0\u001b[0m\u001b[1;33m]\u001b[0m\u001b[1;33m,\u001b[0m \u001b[0mmy_thresh\u001b[0m\u001b[1;33m=\u001b[0m\u001b[1;36m50\u001b[0m\u001b[1;33m,\u001b[0m \u001b[0mmy_post_drogue_delay\u001b[0m\u001b[1;33m=\u001b[0m\u001b[1;36m0.85\u001b[0m\u001b[1;33m,\u001b[0m \u001b[0mmy_signal_length\u001b[0m\u001b[1;33m=\u001b[0m\u001b[1;36m3\u001b[0m\u001b[1;33m,\u001b[0m \u001b[0mmy_t_sim_landing\u001b[0m\u001b[1;33m=\u001b[0m\u001b[1;36m75\u001b[0m\u001b[1;33m,\u001b[0m \u001b[0mld_launch_angle\u001b[0m\u001b[1;33m=\u001b[0m\u001b[1;36m2\u001b[0m\u001b[1;33m*\u001b[0m\u001b[0mpi\u001b[0m\u001b[1;33m/\u001b[0m\u001b[1;36m180\u001b[0m\u001b[1;33m,\u001b[0m \u001b[0mld_ssm\u001b[0m\u001b[1;33m=\u001b[0m\u001b[1;36m3.2\u001b[0m\u001b[1;33m,\u001b[0m \u001b[0mld_dry_base\u001b[0m\u001b[1;33m=\u001b[0m\u001b[1;36m15.89\u001b[0m\u001b[1;33m)\u001b[0m\u001b[1;33m\u001b[0m\u001b[1;33m\u001b[0m\u001b[0m\n\u001b[0m",
      "\u001b[1;32m~\\AppData\\Local\\Temp/ipykernel_7988/1074448941.py\u001b[0m in \u001b[0;36mcalc_displacement2\u001b[1;34m(imu_data_file_and_path, launch_rail_box, weather_station_stats_xy, my_thresh, my_post_drogue_delay, my_signal_length, my_t_sim_landing, ld_launch_angle, ld_ssm, ld_dry_base, ld_m_motor, ld_t_burn, ld_T_avg)\u001b[0m\n\u001b[0;32m    162\u001b[0m     \u001b[1;31m## DISPLAY RESULTS\u001b[0m\u001b[1;33m\u001b[0m\u001b[1;33m\u001b[0m\u001b[1;33m\u001b[0m\u001b[0m\n\u001b[0;32m    163\u001b[0m     \u001b[0mprint\u001b[0m\u001b[1;33m(\u001b[0m\u001b[1;34mf\"Take-Off Time (s) = {imu_t[take_off_i]}\"\u001b[0m\u001b[1;33m)\u001b[0m\u001b[1;33m;\u001b[0m\u001b[1;33m\u001b[0m\u001b[1;33m\u001b[0m\u001b[0m\n\u001b[1;32m--> 164\u001b[1;33m     \u001b[0mprint\u001b[0m\u001b[1;33m(\u001b[0m\u001b[1;34mf\"Landing (s) = {imu_t[landing_i-1]}\"\u001b[0m\u001b[1;33m)\u001b[0m\u001b[1;33m;\u001b[0m\u001b[1;33m\u001b[0m\u001b[1;33m\u001b[0m\u001b[0m\n\u001b[0m\u001b[0;32m    165\u001b[0m \u001b[1;33m\u001b[0m\u001b[0m\n\u001b[0;32m    166\u001b[0m     \u001b[0mimu_vz\u001b[0m \u001b[1;33m=\u001b[0m \u001b[0mnp\u001b[0m\u001b[1;33m.\u001b[0m\u001b[0mzeros\u001b[0m\u001b[1;33m(\u001b[0m\u001b[0mimu_N\u001b[0m\u001b[1;33m)\u001b[0m\u001b[1;33m\u001b[0m\u001b[1;33m\u001b[0m\u001b[0m\n",
      "\u001b[1;31mIndexError\u001b[0m: index -470976 is out of bounds for axis 0 with size 2885"
     ]
    }
   ],
   "source": [
    "# The actual flight time was ~75 seconds, not 50...\n",
    "final_grid_number = calc_displacement2(imu_data_file_and_path, 210, [-2, 0], my_thresh=50, my_post_drogue_delay=0.85, my_signal_length=3, my_t_sim_landing=75, ld_launch_angle=2*pi/180, ld_ssm=3.2, ld_dry_base=15.89)"
   ]
  },
  {
   "cell_type": "markdown",
   "id": "96e03faf",
   "metadata": {},
   "source": [
    "## \"FULLSCALE\" 2"
   ]
  },
  {
   "cell_type": "code",
   "execution_count": null,
   "id": "18ae4b23",
   "metadata": {
    "scrolled": false
   },
   "outputs": [],
   "source": [
    "SIFT2_datafile = \"Full_FS2_SIFT2.csv\"\n",
    "imu_data_file_and_path = \"../../\" + SIFT2_datafile\n",
    "\n",
    "final_grid_number = calc_displacement2(imu_data_file_and_path, 210, my_thresh=50, my_post_drogue_delay=0.85, my_signal_length=3, my_t_sim_landing=50, ld_launch_angle=2*pi/180, ld_ssm=3.2, ld_dry_base=15.89)"
   ]
  },
  {
   "cell_type": "markdown",
   "id": "ef192d38",
   "metadata": {},
   "source": [
    "## FULLSCALE 1\n",
    "> This is for Hoppensville, and we don't have a gridded image for this"
   ]
  },
  {
   "cell_type": "code",
   "execution_count": null,
   "id": "8f141326",
   "metadata": {},
   "outputs": [],
   "source": [
    "Fullscale1_datafile = \"Fullscale1.csv\"\n",
    "imu_data_file_and_path = \"../Data/\" + Fullscale1_datafile\n",
    "\n",
    "final_grid_number = calc_displacement2(imu_data_file_and_path, 210, my_thresh=50, my_post_drogue_delay=0.85, my_signal_length=3, my_t_sim_landing=90, ld_launch_angle=2*pi/180, ld_ssm=3.2, ld_dry_base=16.57, ld_m_motor=1.76, ld_t_burn=2.1, ld_T_avg=1740)"
   ]
  },
  {
   "cell_type": "code",
   "execution_count": null,
   "id": "bb6c5dd5",
   "metadata": {},
   "outputs": [],
   "source": []
  }
 ],
 "metadata": {
  "kernelspec": {
   "display_name": "Python 3 (ipykernel)",
   "language": "python",
   "name": "python3"
  },
  "language_info": {
   "codemirror_mode": {
    "name": "ipython",
    "version": 3
   },
   "file_extension": ".py",
   "mimetype": "text/x-python",
   "name": "python",
   "nbconvert_exporter": "python",
   "pygments_lexer": "ipython3",
   "version": "3.7.11"
  }
 },
 "nbformat": 4,
 "nbformat_minor": 5
}
