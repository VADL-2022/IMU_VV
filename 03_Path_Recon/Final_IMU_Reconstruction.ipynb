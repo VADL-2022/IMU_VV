{
 "cells": [
  {
   "cell_type": "code",
   "execution_count": 4,
   "id": "4657c8a7",
   "metadata": {},
   "outputs": [],
   "source": [
    "import pandas as pd\n",
    "import numpy as np\n",
    "from math import sin, cos, pi, atan2, asin, sqrt, ceil\n",
    "import matplotlib.pyplot as plt\n",
    "from model_funcs import *"
   ]
  },
  {
   "cell_type": "markdown",
   "id": "96e03faf",
   "metadata": {},
   "source": [
    "## \"FULLSCALE\" 2"
   ]
  },
  {
   "cell_type": "code",
   "execution_count": 5,
   "id": "18ae4b23",
   "metadata": {
    "scrolled": true
   },
   "outputs": [
    {
     "name": "stdout",
     "output_type": "stream",
     "text": [
      "Take-Off Time (s) = 0.0\n",
      "Landing (s) = 48.15000000000009\n",
      "End time of signal: 10.659999999999854\n",
      "End time of signal: 13.650000000000091\n",
      "NUM INT WIND SPEEDS, X->3.8131129069996614 m/s and Y->-0.46231492300041177 m/s\n",
      "---------------------------------------------------------------\n",
      "\n",
      "Model2 x displacement: 32.30292546155815\n",
      "Model2 y displacement: 40.0730682694981\n",
      "AFTER POSSIBLE SIGN FLIP\n",
      "Model2 x displacement: -32.30292546155815\n",
      "Model2 y displacement: 40.0730682694981\n",
      "MODEL 1: TOTAL X AND Y DISPLACEMENTS, u=-1: X->97.119586 m, Y->-32.226765 m\n",
      "MODEL 2: TOTAL X AND Y DISPLACEMENTS, u=-1: X->56.99854369205859 m, Y->32.98770613243537 m\n",
      "\n",
      "Model2 x displacement: 35.43056128481698\n",
      "Model2 y displacement: 40.0730682694981\n",
      "AFTER POSSIBLE SIGN FLIP\n",
      "Model2 x displacement: -35.43056128481698\n",
      "Model2 y displacement: 40.0730682694981\n",
      "MODEL 1: TOTAL X AND Y DISPLACEMENTS, u=0: X->124.816578 m, Y->-32.226765 m\n",
      "MODEL 2: TOTAL X AND Y DISPLACEMENTS, u=0: X->81.56789955608897 m, Y->32.98770613243537 m\n",
      "\n",
      "Model2 x displacement: 43.12185535279824\n",
      "Model2 y displacement: 40.0730682694981\n",
      "AFTER POSSIBLE SIGN FLIP\n",
      "Model2 x displacement: -43.12185535279824\n",
      "Model2 y displacement: 40.0730682694981\n",
      "MODEL 1: TOTAL X AND Y DISPLACEMENTS, u=1: X->152.513570 m, Y->-32.226765 m\n",
      "MODEL 2: TOTAL X AND Y DISPLACEMENTS, u=1: X->101.57359717539619 m, Y->32.98770613243537 m\n",
      "\n",
      "---------------------------------------------------------------\n",
      "\n",
      "Minimum-Maximum x (m): 56.99854369205859 - 152.5135696029268, u_range=95.5150259108682\n",
      "Minimum-Maximum y (m): -32.226765021164745 - 32.98770613243537, u_range=65.21447115360012\n",
      "Avg X displacement: 104.7560566474927 m\n",
      "Avg Y displacement: 0.38047055563531273 m\n",
      "Started in grid number 192, ended in 212 (average)\n",
      "ALL GRID BOXES: [212]\n"
     ]
    }
   ],
   "source": [
    "SIFT2_datafile = \"Full_SIFT2.csv\"\n",
    "imu_data_file_and_path = \"../../\" + SIFT2_datafile\n",
    "\n",
    "final_grid_number = calc_displacement2(imu_data_file_and_path, 192, my_thresh=50, my_post_drogue_delay=0.85, my_signal_length=3, my_t_sim_landing=50, ld_launch_angle=2*pi/180, ld_ssm=3.2, ld_dry_base=15.89)"
   ]
  },
  {
   "cell_type": "markdown",
   "id": "ef192d38",
   "metadata": {},
   "source": [
    "## FULLSCALE 1"
   ]
  },
  {
   "cell_type": "code",
   "execution_count": 6,
   "id": "8f141326",
   "metadata": {},
   "outputs": [
    {
     "name": "stdout",
     "output_type": "stream",
     "text": [
      "Take-Off Time (s) = 0.0\n",
      "Landing (s) = 74.19999999999982\n",
      "End time of signal: 18.5\n",
      "End time of signal: 21.480000000000018\n",
      "NUM INT WIND SPEEDS, X->-7.184282706000092 m/s and Y->5.266704804999047 m/s\n",
      "---------------------------------------------------------------\n",
      "\n",
      "Model2 x displacement: 175.73401876929663\n",
      "Model2 y displacement: 132.09859149545136\n",
      "AFTER POSSIBLE SIGN FLIP\n",
      "Model2 x displacement: 175.73401876929663\n",
      "Model2 y displacement: 132.09859149545136\n",
      "MODEL 1: TOTAL X AND Y DISPLACEMENTS, u=-1: X->-346.434716 m, Y->-77.948504 m\n",
      "MODEL 2: TOTAL X AND Y DISPLACEMENTS, u=-1: X->-181.66484051698848 m, Y->124.31746601593002 m\n",
      "\n",
      "Model2 x displacement: 150.00203852009426\n",
      "Model2 y displacement: 132.09859149545136\n",
      "AFTER POSSIBLE SIGN FLIP\n",
      "Model2 x displacement: 150.00203852009426\n",
      "Model2 y displacement: 132.09859149545136\n",
      "MODEL 1: TOTAL X AND Y DISPLACEMENTS, u=0: X->-303.758647 m, Y->-77.948504 m\n",
      "MODEL 2: TOTAL X AND Y DISPLACEMENTS, u=0: X->-164.7207526658691 m, Y->124.31746601593002 m\n",
      "\n",
      "Model2 x displacement: 133.56181524502537\n",
      "Model2 y displacement: 132.09859149545136\n",
      "AFTER POSSIBLE SIGN FLIP\n",
      "Model2 x displacement: 133.56181524502537\n",
      "Model2 y displacement: 132.09859149545136\n",
      "MODEL 1: TOTAL X AND Y DISPLACEMENTS, u=1: X->-261.082579 m, Y->-77.948504 m\n",
      "MODEL 2: TOTAL X AND Y DISPLACEMENTS, u=1: X->-138.48490784061602 m, Y->124.31746601593002 m\n",
      "\n",
      "---------------------------------------------------------------\n",
      "\n",
      "Minimum-Maximum x (m): -346.43471556392234 - -138.48490784061602, u_range=207.94980772330632\n",
      "Minimum-Maximum y (m): -77.94850415968351 - 124.31746601593002, u_range=202.26597017561352\n",
      "Avg X displacement: -242.45981170226918 m\n",
      "Avg Y displacement: 23.184480928123257 m\n",
      "Started in grid number 192, ended in 132 (average)\n",
      "ALL GRID BOXES: [132, 152, 112, 133, 131]\n"
     ]
    }
   ],
   "source": [
    "Fullscale1_datafile = \"Fullscale1.csv\"\n",
    "imu_data_file_and_path = \"../Data/\" + Fullscale1_datafile\n",
    "\n",
    "final_grid_number = calc_displacement2(imu_data_file_and_path, 192, my_thresh=50, my_post_drogue_delay=0.85, my_signal_length=3, my_t_sim_landing=90, ld_launch_angle=2*pi/180, ld_ssm=3.2, ld_dry_base=16.57, ld_m_motor=1.76, ld_t_burn=2.1, ld_T_avg=1740)"
   ]
  },
  {
   "cell_type": "code",
   "execution_count": null,
   "id": "bb6c5dd5",
   "metadata": {},
   "outputs": [],
   "source": []
  }
 ],
 "metadata": {
  "kernelspec": {
   "display_name": "Python 3 (ipykernel)",
   "language": "python",
   "name": "python3"
  },
  "language_info": {
   "codemirror_mode": {
    "name": "ipython",
    "version": 3
   },
   "file_extension": ".py",
   "mimetype": "text/x-python",
   "name": "python",
   "nbconvert_exporter": "python",
   "pygments_lexer": "ipython3",
   "version": "3.7.11"
  }
 },
 "nbformat": 4,
 "nbformat_minor": 5
}
