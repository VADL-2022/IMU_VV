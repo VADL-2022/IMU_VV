{
 "cells": [
  {
   "cell_type": "code",
   "execution_count": 1,
   "id": "4657c8a7",
   "metadata": {},
   "outputs": [],
   "source": [
    "import pandas as pd\n",
    "import numpy as np\n",
    "from math import sin, cos, pi, atan2, asin, sqrt, ceil\n",
    "import matplotlib.pyplot as plt\n",
    "from model_funcs import *\n",
    "from math import pi"
   ]
  },
  {
   "cell_type": "markdown",
   "id": "1bb4c678",
   "metadata": {},
   "source": [
    "## SUBSCALE 2"
   ]
  },
  {
   "cell_type": "code",
   "execution_count": 2,
   "id": "d32604d5",
   "metadata": {},
   "outputs": [
    {
     "name": "stdout",
     "output_type": "stream",
     "text": [
      "Take-Off Time (s) = 0.0\n",
      "Landing (s) = 75.52100000000002\n",
      "Start time of signal: 10.36099999999999\n",
      "End time of signal: 13.348000000000013\n",
      "IMU WIND SPEEDS, X->4.571063359001382 m/s and Y->3.7699735050023664 m/s\n",
      "UPDATED WIND SPEEDS (weather report), X->-1.8819726760859865 m/s and Y->3.7699735050023664 m/s\n",
      "\n",
      "LOOP 4\n",
      "UPDATED WIND SPEEDS (setting to 0), X->-1.8819726760859865 m/s and Y->3.7699735050023664 m/s\n",
      "Model2 x displacement: 117.98896461246795\n",
      "Model2 y displacement: 117.82088260445244\n",
      "AFTER POSSIBLE SIGN FLIP\n",
      "Model2 x displacement: 117.98896461246795\n",
      "Model2 y displacement: -117.82088260445244\n",
      "MODEL 1: TOTAL X AND Y DISPLACEMENTS, u=-1: X->-129.338469 m, Y->262.401030 m\n",
      "MODEL 2: TOTAL X AND Y DISPLACEMENTS, u=-1: X->-16.433106612951974 m, Y->1.9254868393066715 m\n",
      "\n",
      "Model2 x displacement: 117.51726917699771\n",
      "Model2 y displacement: 120.94710151673479\n",
      "AFTER POSSIBLE SIGN FLIP\n",
      "Model2 x displacement: 117.51726917699771\n",
      "Model2 y displacement: -120.94710151673479\n",
      "MODEL 1: TOTAL X AND Y DISPLACEMENTS, u=0: X->-75.314367 m, Y->316.425133 m\n",
      "MODEL 2: TOTAL X AND Y DISPLACEMENTS, u=0: X->37.11930072810377 m, Y->52.823370703550495 m\n",
      "\n",
      "Model2 x displacement: 118.77712200909646\n",
      "Model2 y displacement: 129.02785449506453\n",
      "AFTER POSSIBLE SIGN FLIP\n",
      "Model2 x displacement: 118.77712200909646\n",
      "Model2 y displacement: -129.02785449506453\n",
      "MODEL 1: TOTAL X AND Y DISPLACEMENTS, u=1: X->-21.290264 m, Y->370.449236 m\n",
      "MODEL 2: TOTAL X AND Y DISPLACEMENTS, u=1: X->92.40325633672894 m, Y->98.76672050174722 m\n",
      "\n",
      "---------------------------------------------------------------\n",
      "\n",
      "Minimum-Maximum x: -129.3384694806029 - 92.40325633672894 (m), u_range=221.74172581733183 (m)\n",
      "Minimum-Maximum y: 1.9254868393066715 - 370.44923577682545 (m), u_range=368.5237489375188 (m)\n",
      "Avg X displacement: -18.467606571936976 (m)\n",
      "Avg Y displacement: 186.18736130806604 (m)\n",
      "---------------------------------------------------------------\n",
      "METHOD 1: Original (Center Assumed) Approach:\n",
      "Started in grid number 210, ended in 208 (average)\n",
      "ALL OG GRID BOXES: [208, 228, 188, 209, 207]\n",
      "\n",
      "---------------------------------------------------------------\n",
      "METHOD 2: GPS Approach:\n",
      "Launch Grid: 149\n",
      "Average Landing Grid: 172\n",
      "North Landing Grid: 132\n",
      "West Landing Grid: 169\n",
      "South Landing Grid: 192\n",
      "East Landing Grid: 174\n",
      "ALL GPS GRID BOXES: [208, 228, 188, 209, 207]\n"
     ]
    }
   ],
   "source": [
    "subscale_datafile = \"LOG_20220130_014355.csv\"\n",
    "imu_data_file_and_path = \"../Data/Subscale2/VN/\" + subscale_datafile\n",
    "\n",
    "all_results = calc_displacement2(imu_data_file_and_path, 210, [-2, 0], GPS_coords=[34.8946330, 86.6166410], my_thresh=50, my_post_drogue_delay=0.85, my_signal_length=3, ld_launch_angle=2*pi/180, ld_ssm=3.2, ld_dry_base=15.735, ld_m_motor=1.72818)\n",
    "final_grid_numbers = all_results[0]"
   ]
  },
  {
   "cell_type": "code",
   "execution_count": 3,
   "id": "37902975",
   "metadata": {},
   "outputs": [
    {
     "data": {
      "text/plain": [
       "[208, 228, 188, 209, 207]"
      ]
     },
     "execution_count": 3,
     "metadata": {},
     "output_type": "execute_result"
    }
   ],
   "source": [
    "final_grid_numbers"
   ]
  },
  {
   "cell_type": "code",
   "execution_count": 4,
   "id": "c941f0a8",
   "metadata": {},
   "outputs": [
    {
     "data": {
      "text/plain": [
       "208"
      ]
     },
     "execution_count": 4,
     "metadata": {},
     "output_type": "execute_result"
    }
   ],
   "source": [
    "final_grid_number = final_grid_numbers[0]\n",
    "final_grid_number"
   ]
  },
  {
   "cell_type": "markdown",
   "id": "26799785",
   "metadata": {},
   "source": [
    "# ALL THE UNIT BELOW THIS HAS NOT BEEN UPDATED TO REFLECT THE NEWLY RETURNED VALUES\n",
    "\n",
    "## \"FULLSCALE\" 3"
   ]
  },
  {
   "cell_type": "code",
   "execution_count": 5,
   "id": "5a5818f1",
   "metadata": {},
   "outputs": [
    {
     "name": "stdout",
     "output_type": "stream",
     "text": [
      "Take-Off Time (s) = 0.0\n",
      "Landing (s) = 73.61000000000013\n",
      "Start time of signal: 11.559999999999945\n",
      "End time of signal: 14.559999999999945\n",
      "IMU WIND SPEEDS, X->1.9757579530014833 m/s and Y->0.29483364599852413 m/s\n",
      "UPDATED WIND SPEEDS (weather report), X->-1.915579462793291 m/s and Y->0.29483364599852413 m/s\n",
      "\n",
      "LOOP 2\n",
      "UPDATED WIND SPEEDS (setting to 0), X->-1.915579462793291 m/s and Y->0 m/s\n",
      "2.915579462793291\n",
      "Model2 x displacement: 118.13756307020812\n",
      "Model2 y displacement: 0\n",
      "AFTER POSSIBLE SIGN FLIP\n",
      "Model2 x displacement: 118.13756307020812\n",
      "Model2 y displacement: 0\n",
      "MODEL 1: TOTAL X AND Y DISPLACEMENTS, u=-1: X->-156.655974 m, Y->25.878550 m\n",
      "MODEL 2: TOTAL X AND Y DISPLACEMENTS, u=-1: X->-21.336301606739966 m, Y->0 m\n",
      "\n",
      "1.915579462793291\n",
      "Model2 x displacement: 117.69675994950668\n",
      "Model2 y displacement: 0\n",
      "AFTER POSSIBLE SIGN FLIP\n",
      "Model2 x displacement: 117.69675994950668\n",
      "Model2 y displacement: 0\n",
      "MODEL 1: TOTAL X AND Y DISPLACEMENTS, u=0: X->-109.637628 m, Y->25.878550 m\n",
      "MODEL 2: TOTAL X AND Y DISPLACEMENTS, u=0: X->25.241241067174542 m, Y->0 m\n",
      "\n",
      "0.9155794627932909\n",
      "Model2 x displacement: 118.92145944810697\n",
      "Model2 y displacement: 0\n",
      "AFTER POSSIBLE SIGN FLIP\n",
      "Model2 x displacement: 118.92145944810697\n",
      "Model2 y displacement: 0\n",
      "MODEL 1: TOTAL X AND Y DISPLACEMENTS, u=1: X->-62.619283 m, Y->25.878550 m\n",
      "MODEL 2: TOTAL X AND Y DISPLACEMENTS, u=1: X->73.48428636039046 m, Y->0 m\n",
      "\n",
      "---------------------------------------------------------------\n",
      "\n",
      "Minimum-Maximum x: -156.65597427959585 - 73.48428636039046 (m), u_range=230.1402606399863 (m)\n",
      "Minimum-Maximum y: 0 - 25.87855026813918 (m), u_range=25.87855026813918 (m)\n",
      "Avg X displacement: -41.5858439596027 (m)\n",
      "Avg Y displacement: 12.93927513406959 (m)\n",
      "---------------------------------------------------------------\n",
      "METHOD 1: Original (Center Assumed) Approach:\n",
      "Started in grid number 210, ended in 230 (average)\n",
      "ALL OG GRID BOXES: [230, 250, 210]\n",
      "\n",
      "---------------------------------------------------------------\n",
      "METHOD 2: GPS Approach:\n",
      "Launch Grid: 149\n",
      "Average Landing Grid: 169\n",
      "North Landing Grid: 129\n",
      "West Landing Grid: 169\n",
      "South Landing Grid: 189\n",
      "East Landing Grid: 170\n",
      "ALL GPS GRID BOXES: [230, 250, 210]\n"
     ]
    }
   ],
   "source": [
    "SIFT1_datafile = \"Full_FS3_SIFT1.csv\"\n",
    "imu_data_file_and_path = \"../../\" + SIFT1_datafile\n",
    "\n",
    "all_results = calc_displacement2(imu_data_file_and_path, 210, [-2, 0], GPS_coords=[34.8946330, 86.6166410], my_thresh=50, my_post_drogue_delay=0.85, my_signal_length=3, ld_launch_angle=2*pi/180, ld_ssm=3.2, ld_dry_base=15.735, ld_m_motor=1.72818)\n",
    "final_grid_numbers = all_results[0]"
   ]
  },
  {
   "cell_type": "code",
   "execution_count": 6,
   "id": "dbdba146",
   "metadata": {},
   "outputs": [
    {
     "data": {
      "text/plain": [
       "230"
      ]
     },
     "execution_count": 6,
     "metadata": {},
     "output_type": "execute_result"
    }
   ],
   "source": [
    "final_grid_number = final_grid_numbers[0]\n",
    "final_grid_number"
   ]
  },
  {
   "cell_type": "markdown",
   "id": "4b7e0387",
   "metadata": {},
   "source": [
    "SIFT2"
   ]
  },
  {
   "cell_type": "code",
   "execution_count": 7,
   "id": "fcc74dd5",
   "metadata": {},
   "outputs": [
    {
     "name": "stdout",
     "output_type": "stream",
     "text": [
      "Take-Off Time (s) = 0.0\n",
      "Landing (s) = 73.53999999999996\n",
      "Start time of signal: 11.339999999999918\n",
      "End time of signal: 14.329999999999927\n",
      "IMU WIND SPEEDS, X->-0.5149461201992684 m/s and Y->1.626456407099539 m/s\n",
      "UPDATED WIND SPEEDS (weather report), X->-0.5149461201992684 m/s and Y->1.626456407099539 m/s\n",
      "\n",
      "LOOP 1\n",
      "UPDATED WIND SPEEDS (setting to 0), X->0 m/s and Y->1.626456407099539 m/s\n",
      "Model2 y displacement: 119.45957222409989\n",
      "AFTER POSSIBLE SIGN FLIP\n",
      "Model2 y displacement: -119.45957222409989\n",
      "MODEL 1: TOTAL X AND Y DISPLACEMENTS, u=-1: X->-44.582112 m, Y->64.839765 m\n",
      "MODEL 2: TOTAL X AND Y DISPLACEMENTS, u=-1: X->0 m, Y->-79.35016035596328 m\n",
      "\n",
      "Model2 y displacement: 117.91946184081492\n",
      "AFTER POSSIBLE SIGN FLIP\n",
      "Model2 y displacement: -117.91946184081492\n",
      "MODEL 1: TOTAL X AND Y DISPLACEMENTS, u=0: X->-44.582112 m, Y->112.190031 m\n",
      "MODEL 2: TOTAL X AND Y DISPLACEMENTS, u=0: X->0 m, Y->-30.45978407327013 m\n",
      "\n",
      "Model2 y displacement: 117.78033847088992\n",
      "AFTER POSSIBLE SIGN FLIP\n",
      "Model2 y displacement: -117.78033847088992\n",
      "MODEL 1: TOTAL X AND Y DISPLACEMENTS, u=1: X->-44.582112 m, Y->159.506544 m\n",
      "MODEL 2: TOTAL X AND Y DISPLACEMENTS, u=1: X->0 m, Y->16.99585192219891 m\n",
      "\n",
      "---------------------------------------------------------------\n",
      "\n",
      "Minimum-Maximum x: -44.58211246516893 - 0 (m), u_range=44.58211246516893 (m)\n",
      "Minimum-Maximum y: -79.35016035596328 - 159.5065440223462 (m), u_range=238.85670437830947 (m)\n",
      "Avg X displacement: -22.291056232584467 (m)\n",
      "Avg Y displacement: 40.078191833191454 (m)\n",
      "---------------------------------------------------------------\n",
      "METHOD 1: Original (Center Assumed) Approach:\n",
      "Started in grid number 210, ended in 209 (average)\n",
      "ALL OG GRID BOXES: [209, 210, 208]\n",
      "\n",
      "---------------------------------------------------------------\n",
      "METHOD 2: GPS Approach:\n",
      "Launch Grid: 149\n",
      "Average Landing Grid: 170\n",
      "North Landing Grid: 150\n",
      "West Landing Grid: 168\n",
      "South Landing Grid: 170\n",
      "East Landing Grid: 171\n",
      "ALL GPS GRID BOXES: [209, 210, 208]\n"
     ]
    }
   ],
   "source": [
    "SIFT2_datafile = \"FS3_Sift2_FULL.csv\"\n",
    "imu_data_file_and_path = \"../../\" + SIFT2_datafile\n",
    "\n",
    "all_results = calc_displacement2(imu_data_file_and_path, 210, [-2, 0], GPS_coords=[34.8946330, 86.6166410], my_thresh=50, my_post_drogue_delay=0.85, my_signal_length=3, ld_launch_angle=2*pi/180, ld_ssm=3.2, ld_dry_base=15.735, ld_m_motor=1.72818)\n",
    "final_grid_numbers = all_results[0]"
   ]
  },
  {
   "cell_type": "code",
   "execution_count": 8,
   "id": "7a0081e7",
   "metadata": {},
   "outputs": [
    {
     "data": {
      "text/plain": [
       "209"
      ]
     },
     "execution_count": 8,
     "metadata": {},
     "output_type": "execute_result"
    }
   ],
   "source": [
    "final_grid_number = final_grid_numbers[0]\n",
    "final_grid_number"
   ]
  },
  {
   "cell_type": "markdown",
   "id": "96e03faf",
   "metadata": {},
   "source": [
    "## \"FULLSCALE\" 2"
   ]
  },
  {
   "cell_type": "code",
   "execution_count": 10,
   "id": "18ae4b23",
   "metadata": {
    "scrolled": false
   },
   "outputs": [
    {
     "name": "stdout",
     "output_type": "stream",
     "text": [
      "Take-Off Time (s) = 0.0\n",
      "Landing (s) = 49.2800000000002\n",
      "Start time of signal: 10.659999999999854\n",
      "End time of signal: 13.650000000000091\n",
      "IMU WIND SPEEDS, X->3.8131129069996614 m/s and Y->-0.46231492300041177 m/s\n",
      "UPDATED WIND SPEEDS (weather report), X->3.8131129069996614 m/s and Y->-0.46231492300041177 m/s\n",
      "\n",
      "LOOP 2\n",
      "UPDATED WIND SPEEDS (setting to 0), X->3.8131129069996614 m/s and Y->0 m/s\n",
      "2.8131129069996614\n",
      "Model2 x displacement: 117.12596926566707\n",
      "Model2 y displacement: 0\n",
      "AFTER POSSIBLE SIGN FLIP\n",
      "Model2 x displacement: -117.12596926566707\n",
      "Model2 y displacement: 0\n",
      "MODEL 1: TOTAL X AND Y DISPLACEMENTS, u=-1: X->99.042315 m, Y->-25.141403 m\n",
      "MODEL 2: TOTAL X AND Y DISPLACEMENTS, u=-1: X->-25.90177135406914 m, Y->0 m\n",
      "\n",
      "3.8131129069996614\n",
      "Model2 x displacement: 120.22670258563001\n",
      "Model2 y displacement: 0\n",
      "AFTER POSSIBLE SIGN FLIP\n",
      "Model2 x displacement: -120.22670258563001\n",
      "Model2 y displacement: 0\n",
      "MODEL 1: TOTAL X AND Y DISPLACEMENTS, u=0: X->127.378643 m, Y->-25.141403 m\n",
      "MODEL 2: TOTAL X AND Y DISPLACEMENTS, u=0: X->-0.6661771241171124 m, Y->0 m\n",
      "\n",
      "4.813112906999661\n",
      "Model2 x displacement: 128.17719515000803\n",
      "Model2 y displacement: 0\n",
      "AFTER POSSIBLE SIGN FLIP\n",
      "Model2 x displacement: -128.17719515000803\n",
      "Model2 y displacement: 0\n",
      "MODEL 1: TOTAL X AND Y DISPLACEMENTS, u=1: X->155.663039 m, Y->-25.141403 m\n",
      "MODEL 2: TOTAL X AND Y DISPLACEMENTS, u=1: X->19.66772727465532 m, Y->0 m\n",
      "\n",
      "---------------------------------------------------------------\n",
      "\n",
      "Minimum-Maximum x: -25.90177135406914 - 155.66303949939572 (m), u_range=181.56481085346485 (m)\n",
      "Minimum-Maximum y: -25.141402884102014 - 0 (m), u_range=25.141402884102014 (m)\n",
      "Avg X displacement: 64.8806340726633 (m)\n",
      "Avg Y displacement: -12.570701442051007 (m)\n",
      "---------------------------------------------------------------\n",
      "METHOD 1: Original (Center Assumed) Approach:\n",
      "Started in grid number 210, ended in 190 (average)\n",
      "ALL OG GRID BOXES: [190, 210, 170]\n",
      "\n",
      "---------------------------------------------------------------\n",
      "METHOD 2: GPS Approach:\n",
      "Launch Grid: 149\n",
      "Average Landing Grid: 149\n",
      "North Landing Grid: 109\n",
      "West Landing Grid: 149\n",
      "South Landing Grid: 169\n",
      "East Landing Grid: 149\n",
      "ALL GPS GRID BOXES: [190, 210, 170]\n"
     ]
    }
   ],
   "source": [
    "SIFT2_datafile = \"Full_FS2_SIFT2.csv\"\n",
    "imu_data_file_and_path = \"../../\" + SIFT2_datafile\n",
    "\n",
    "final_grid_number = calc_displacement2(imu_data_file_and_path, 210, [3, 0], GPS_coords=[34.8946330, 86.6166410], my_thresh=50, my_post_drogue_delay=0.85, my_signal_length=3, ld_launch_angle=2*pi/180, ld_ssm=3.2, ld_dry_base=15.89)"
   ]
  },
  {
   "cell_type": "markdown",
   "id": "ef192d38",
   "metadata": {},
   "source": [
    "## FULLSCALE 1\n",
    "> This is for Hoppensville, and we don't have a gridded image for this"
   ]
  },
  {
   "cell_type": "code",
   "execution_count": 11,
   "id": "8f141326",
   "metadata": {},
   "outputs": [
    {
     "name": "stdout",
     "output_type": "stream",
     "text": [
      "Take-Off Time (s) = 0.0\n",
      "Landing (s) = 72.67999999999984\n",
      "Start time of signal: 18.139999999999873\n",
      "End time of signal: 21.13000000000011\n",
      "IMU WIND SPEEDS, X->-8.696702466000954 m/s and Y->6.149811484999715 m/s\n",
      "UPDATED WIND SPEEDS (weather report), X->-8.696702466000954 m/s and Y->6.149811484999715 m/s\n",
      "\n",
      "LOOP 4\n",
      "UPDATED WIND SPEEDS (setting to 0), X->-8.696702466000954 m/s and Y->6.149811484999715 m/s\n",
      "Model2 x displacement: 241.30439135075525\n",
      "Model2 y displacement: 123.42582845328884\n",
      "AFTER POSSIBLE SIGN FLIP\n",
      "Model2 x displacement: 241.30439135075525\n",
      "Model2 y displacement: -123.42582845328884\n",
      "MODEL 1: TOTAL X AND Y DISPLACEMENTS, u=-1: X->-412.407189 m, Y->143.846613 m\n",
      "MODEL 2: TOTAL X AND Y DISPLACEMENTS, u=-1: X->-181.26947065948383 m, Y->88.38029898322597 m\n",
      "\n",
      "Model2 x displacement: 193.96693507759244\n",
      "Model2 y displacement: 132.99470215638212\n",
      "AFTER POSSIBLE SIGN FLIP\n",
      "Model2 x displacement: 193.96693507759244\n",
      "Model2 y displacement: -132.99470215638212\n",
      "MODEL 1: TOTAL X AND Y DISPLACEMENTS, u=0: X->-369.374346 m, Y->186.879456 m\n",
      "MODEL 2: TOTAL X AND Y DISPLACEMENTS, u=0: X->-185.5740832549159 m, Y->121.84426895786325 m\n",
      "\n",
      "Model2 x displacement: 162.0300061293309\n",
      "Model2 y displacement: 149.39354291078362\n",
      "AFTER POSSIBLE SIGN FLIP\n",
      "Model2 x displacement: 162.0300061293309\n",
      "Model2 y displacement: -149.39354291078362\n",
      "MODEL 1: TOTAL X AND Y DISPLACEMENTS, u=1: X->-326.341502 m, Y->229.912300 m\n",
      "MODEL 2: TOTAL X AND Y DISPLACEMENTS, u=1: X->-174.4781685254462 m, Y->148.47827188119237 m\n",
      "\n",
      "---------------------------------------------------------------\n",
      "\n",
      "Minimum-Maximum x: -412.40718931502465 - -174.4781685254462 (m), u_range=237.92902078957846 (m)\n",
      "Minimum-Maximum y: 88.38029898322597 - 229.91230000399298 (m), u_range=141.532001020767 (m)\n",
      "Avg X displacement: -293.44267892023544 (m)\n",
      "Avg Y displacement: 159.1462994936095 (m)\n",
      "---------------------------------------------------------------\n",
      "METHOD 1: Original (Center Assumed) Approach:\n",
      "Started in grid number 210, ended in 288 (average)\n",
      "ALL OG GRID BOXES: [288, 308, 268]\n",
      "\n",
      "---------------------------------------------------------------\n",
      "METHOD 2: GPS Approach:\n",
      "Launch Grid: 149\n",
      "Average Landing Grid: 231\n",
      "North Landing Grid: 211\n",
      "West Landing Grid: 230\n",
      "South Landing Grid: 271\n",
      "East Landing Grid: 232\n",
      "ALL GPS GRID BOXES: [288, 308, 268]\n"
     ]
    }
   ],
   "source": [
    "Fullscale1_datafile = \"Fullscale1.csv\"\n",
    "imu_data_file_and_path = \"../Data/\" + Fullscale1_datafile\n",
    "\n",
    "final_grid_number = calc_displacement2(imu_data_file_and_path, 210, [-7, 0], GPS_coords=[34.8946330, 86.6166410], my_thresh=50, my_post_drogue_delay=0.5, my_signal_length=3, ld_launch_angle=2*pi/180, ld_ssm=3.2, ld_dry_base=16.57, ld_m_motor=1.76, ld_t_burn=2.1, ld_T_avg=1740)"
   ]
  },
  {
   "cell_type": "code",
   "execution_count": null,
   "id": "bb6c5dd5",
   "metadata": {},
   "outputs": [],
   "source": []
  }
 ],
 "metadata": {
  "kernelspec": {
   "display_name": "Python 3 (ipykernel)",
   "language": "python",
   "name": "python3"
  },
  "language_info": {
   "codemirror_mode": {
    "name": "ipython",
    "version": 3
   },
   "file_extension": ".py",
   "mimetype": "text/x-python",
   "name": "python",
   "nbconvert_exporter": "python",
   "pygments_lexer": "ipython3",
   "version": "3.7.11"
  }
 },
 "nbformat": 4,
 "nbformat_minor": 5
}
