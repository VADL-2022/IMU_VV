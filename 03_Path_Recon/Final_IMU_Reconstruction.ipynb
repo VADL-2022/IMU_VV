{
 "cells": [
  {
   "cell_type": "code",
   "execution_count": 1,
   "id": "4657c8a7",
   "metadata": {},
   "outputs": [],
   "source": [
    "import pandas as pd\n",
    "import numpy as np\n",
    "from math import sin, cos, pi, atan2, asin, sqrt, ceil\n",
    "import matplotlib.pyplot as plt\n",
    "from model_funcs import *"
   ]
  },
  {
   "cell_type": "markdown",
   "id": "96e03faf",
   "metadata": {},
   "source": [
    "## \"FULLSCALE\" 2"
   ]
  },
  {
   "cell_type": "code",
   "execution_count": 2,
   "id": "18ae4b23",
   "metadata": {
    "scrolled": true
   },
   "outputs": [
    {
     "name": "stdout",
     "output_type": "stream",
     "text": [
      "Take-Off Time (s) = 0.0\n",
      "Landing (s) = 48.15000000000009\n",
      "End time of signal: 10.659999999999854\n",
      "End time of signal: 13.650000000000091\n",
      "NUM INT WIND SPEEDS, X->3.8131129069996614 m/s and Y->-0.46231492300041177 m/s\n",
      "---------------------------------------------------------------\n",
      "\n",
      "Model2 x displacement: 32.30292546155815\n",
      "Model2 y displacement: 31.945899155268883\n",
      "AFTER POSSIBLE SIGN FLIP\n",
      "Model2 x displacement: -32.30292546155815\n",
      "Model2 y displacement: 31.945899155268883\n",
      "MODEL 1: TOTAL X AND Y DISPLACEMENTS, u=-1: X->97.119586 m, Y->-72.728489 m\n",
      "MODEL 2: TOTAL X AND Y DISPLACEMENTS, u=-1: X->56.99854369205859 m, Y->-15.641187248334695 m\n",
      "\n",
      "Model2 x displacement: 35.43056128481698\n",
      "Model2 y displacement: 33.1058627067385\n",
      "AFTER POSSIBLE SIGN FLIP\n",
      "Model2 x displacement: -35.43056128481698\n",
      "Model2 y displacement: 33.1058627067385\n",
      "MODEL 1: TOTAL X AND Y DISPLACEMENTS, u=0: X->124.816578 m, Y->-45.031498 m\n",
      "MODEL 2: TOTAL X AND Y DISPLACEMENTS, u=0: X->81.56789955608897 m, Y->13.215767990423785 m\n",
      "\n",
      "Model2 x displacement: 43.12185535279824\n",
      "Model2 y displacement: 32.998963741145815\n",
      "AFTER POSSIBLE SIGN FLIP\n",
      "Model2 x displacement: -43.12185535279824\n",
      "Model2 y displacement: 32.998963741145815\n",
      "MODEL 1: TOTAL X AND Y DISPLACEMENTS, u=1: X->152.513570 m, Y->-17.334506 m\n",
      "MODEL 2: TOTAL X AND Y DISPLACEMENTS, u=1: X->101.57359717539619 m, Y->40.805860712119966 m\n",
      "\n",
      "---------------------------------------------------------------\n",
      "\n",
      "Minimum-Maximum x (m): 56.99854369205859 - 152.5135696029268, u_range=95.5150259108682\n",
      "Minimum-Maximum y (m): -72.7284892877056 - 40.805860712119966, u_range=113.53434999982557\n",
      "Avg X displacement: 104.7560566474927 m\n",
      "Avg Y displacement: -15.961314287792817 m\n",
      "Started in grid number 192, ended in 212 (average)\n",
      "ALL GRID BOXES: [212]\n"
     ]
    }
   ],
   "source": [
    "SIFT2_datafile = \"Full_SIFT2.csv\"\n",
    "imu_data_file_and_path = \"../../\" + SIFT2_datafile\n",
    "\n",
    "final_grid_number = calc_displacement2(imu_data_file_and_path, 192, my_thresh=50, my_post_drogue_delay=0.85, my_signal_length=3, my_t_sim_landing=50, ld_launch_angle=2*pi/180, ld_ssm=3.2, ld_dry_base=15.89)"
   ]
  },
  {
   "cell_type": "markdown",
   "id": "ef192d38",
   "metadata": {},
   "source": [
    "## FULLSCALE 1"
   ]
  },
  {
   "cell_type": "code",
   "execution_count": 3,
   "id": "8f141326",
   "metadata": {},
   "outputs": [
    {
     "name": "stdout",
     "output_type": "stream",
     "text": [
      "Take-Off Time (s) = 0.0\n",
      "Landing (s) = 74.19999999999982\n",
      "End time of signal: 18.5\n",
      "End time of signal: 21.480000000000018\n",
      "NUM INT WIND SPEEDS, X->-7.184282706000092 m/s and Y->5.266704804999047 m/s\n",
      "---------------------------------------------------------------\n",
      "\n",
      "Model2 x displacement: 175.73401876929663\n",
      "Model2 y displacement: 118.83305514980219\n",
      "AFTER POSSIBLE SIGN FLIP\n",
      "Model2 x displacement: 175.73401876929663\n",
      "Model2 y displacement: -118.83305514980219\n",
      "MODEL 1: TOTAL X AND Y DISPLACEMENTS, u=-1: X->-346.434716 m, Y->104.137681 m\n",
      "MODEL 2: TOTAL X AND Y DISPLACEMENTS, u=-1: X->-181.66484051698848 m, Y->55.47200419278721 m\n",
      "\n",
      "Model2 x displacement: 150.00203852009426\n",
      "Model2 y displacement: 124.34073169889018\n",
      "AFTER POSSIBLE SIGN FLIP\n",
      "Model2 x displacement: 150.00203852009426\n",
      "Model2 y displacement: -124.34073169889018\n",
      "MODEL 1: TOTAL X AND Y DISPLACEMENTS, u=0: X->-303.758647 m, Y->146.813749 m\n",
      "MODEL 2: TOTAL X AND Y DISPLACEMENTS, u=0: X->-164.7207526658691 m, Y->92.64039574402136 m\n",
      "\n",
      "Model2 x displacement: 133.56181524502537\n",
      "Model2 y displacement: 134.61051169875296\n",
      "AFTER POSSIBLE SIGN FLIP\n",
      "Model2 x displacement: 133.56181524502537\n",
      "Model2 y displacement: -134.61051169875296\n",
      "MODEL 1: TOTAL X AND Y DISPLACEMENTS, u=1: X->-261.082579 m, Y->189.489817 m\n",
      "MODEL 2: TOTAL X AND Y DISPLACEMENTS, u=1: X->-138.48490784061602 m, Y->125.0466838444805 m\n",
      "\n",
      "---------------------------------------------------------------\n",
      "\n",
      "Minimum-Maximum x (m): -346.43471556392234 - -138.48490784061602, u_range=207.94980772330632\n",
      "Minimum-Maximum y (m): 55.47200419278721 - 189.48981686307127, u_range=134.01781267028406\n",
      "Avg X displacement: -242.45981170226918 m\n",
      "Avg Y displacement: 122.48091052792924 m\n",
      "Started in grid number 192, ended in 134 (average)\n",
      "ALL GRID BOXES: [134, 154, 114]\n"
     ]
    }
   ],
   "source": [
    "Fullscale1_datafile = \"Fullscale1.csv\"\n",
    "imu_data_file_and_path = \"../Data/\" + Fullscale1_datafile\n",
    "\n",
    "final_grid_number = calc_displacement2(imu_data_file_and_path, 192, my_thresh=50, my_post_drogue_delay=0.85, my_signal_length=3, my_t_sim_landing=90, ld_launch_angle=2*pi/180, ld_ssm=3.2, ld_dry_base=16.57, ld_m_motor=1.76, ld_t_burn=2.1, ld_T_avg=1740)"
   ]
  },
  {
   "cell_type": "code",
   "execution_count": null,
   "id": "97a5143c",
   "metadata": {},
   "outputs": [],
   "source": []
  }
 ],
 "metadata": {
  "kernelspec": {
   "display_name": "Python 3 (ipykernel)",
   "language": "python",
   "name": "python3"
  },
  "language_info": {
   "codemirror_mode": {
    "name": "ipython",
    "version": 3
   },
   "file_extension": ".py",
   "mimetype": "text/x-python",
   "name": "python",
   "nbconvert_exporter": "python",
   "pygments_lexer": "ipython3",
   "version": "3.7.11"
  }
 },
 "nbformat": 4,
 "nbformat_minor": 5
}
