{
 "cells": [
  {
   "cell_type": "code",
   "execution_count": 1,
   "id": "4657c8a7",
   "metadata": {},
   "outputs": [],
   "source": [
    "import pandas as pd\n",
    "import numpy as np\n",
    "from math import sin, cos, pi, atan2, asin, sqrt, ceil\n",
    "import matplotlib.pyplot as plt\n",
    "from model_funcs import *\n",
    "from math import pi"
   ]
  },
  {
   "cell_type": "markdown",
   "id": "26799785",
   "metadata": {},
   "source": [
    "## \"FULLSCALE\" 3"
   ]
  },
  {
   "cell_type": "code",
   "execution_count": 3,
   "id": "c982380f",
   "metadata": {
    "scrolled": false
   },
   "outputs": [
    {
     "name": "stdout",
     "output_type": "stream",
     "text": [
      "Take-Off Time (s) = 0.0\n",
      "Landing (s) = 73.61000000000013\n",
      "Start time of signal: 11.559999999999945\n",
      "End time of signal: 14.559999999999945\n",
      "IMU WIND SPEEDS, X->1.9757579530014833 m/s and Y->0.29483364599852413 m/s\n",
      "UPDATED WIND SPEEDS, X->-1.915579462793291 m/s and Y->0.29483364599852413 m/s\n",
      "LOOP 2\n",
      "UPDATED WIND SPEEDS, X->-1.915579462793291 m/s and Y->0 m/s\n",
      "2.915579462793291\n",
      "Model2 x displacement: 32.466079245801055\n",
      "Model2 y displacement: 0\n",
      "AFTER POSSIBLE SIGN FLIP\n",
      "Model2 x displacement: 32.466079245801055\n",
      "Model2 y displacement: 0\n",
      "MODEL 1: TOTAL X AND Y DISPLACEMENTS, u=-1: X->-156.655974 m, Y->25.878550 m\n",
      "MODEL 2: TOTAL X AND Y DISPLACEMENTS, u=-1: X->-107.00778543114703 m, Y->0 m\n",
      "\n",
      "1.915579462793291\n",
      "Model2 x displacement: 31.74901032674729\n",
      "Model2 y displacement: 0\n",
      "AFTER POSSIBLE SIGN FLIP\n",
      "Model2 x displacement: 31.74901032674729\n",
      "Model2 y displacement: 0\n",
      "MODEL 1: TOTAL X AND Y DISPLACEMENTS, u=0: X->-109.637628 m, Y->25.878550 m\n",
      "MODEL 2: TOTAL X AND Y DISPLACEMENTS, u=0: X->-60.706508555584854 m, Y->0 m\n",
      "\n",
      "0.9155794627932909\n",
      "Model2 x displacement: 32.486844398569986\n",
      "Model2 y displacement: 0\n",
      "AFTER POSSIBLE SIGN FLIP\n",
      "Model2 x displacement: 32.486844398569986\n",
      "Model2 y displacement: 0\n",
      "MODEL 1: TOTAL X AND Y DISPLACEMENTS, u=1: X->-62.619283 m, Y->25.878550 m\n",
      "MODEL 2: TOTAL X AND Y DISPLACEMENTS, u=1: X->-12.95032868914653 m, Y->0 m\n",
      "\n",
      "---------------------------------------------------------------\n",
      "\n",
      "Minimum-Maximum x: -156.65597427959585 - -12.95032868914653 (m), u_range=143.7056455904493 (m)\n",
      "Minimum-Maximum y: 0 - 25.87855026813918 (m), u_range=25.87855026813918 (m)\n",
      "Avg X displacement: -84.8031514843712 (m)\n",
      "Avg Y displacement: 12.93927513406959 (m)\n",
      "Started in grid number 210, ended in 230 (average)\n",
      "ALL GRID BOXES: [230]\n"
     ]
    }
   ],
   "source": [
    "SIFT1_datafile = \"Full_FS3_SIFT1.csv\"\n",
    "imu_data_file_and_path = \"../../\" + SIFT1_datafile\n",
    "\n",
    "final_grid_number = calc_displacement2(imu_data_file_and_path, 210, [-2, 0], my_thresh=50, my_post_drogue_delay=0.85, my_signal_length=3, my_t_sim_landing=50, ld_launch_angle=2*pi/180, ld_ssm=3.2, ld_dry_base=15.89)"
   ]
  },
  {
   "cell_type": "code",
   "execution_count": 4,
   "id": "edaaf5c5",
   "metadata": {},
   "outputs": [
    {
     "name": "stdout",
     "output_type": "stream",
     "text": [
      "Take-Off Time (s) = 0.0\n",
      "Landing (s) = 73.61000000000013\n",
      "Start time of signal: 11.559999999999945\n",
      "End time of signal: 14.559999999999945\n",
      "IMU WIND SPEEDS, X->1.9757579530014833 m/s and Y->0.29483364599852413 m/s\n",
      "UPDATED WIND SPEEDS, X->-1.915579462793291 m/s and Y->0.29483364599852413 m/s\n",
      "LOOP 2\n",
      "UPDATED WIND SPEEDS, X->-1.915579462793291 m/s and Y->0 m/s\n",
      "2.915579462793291\n",
      "Model2 x displacement: 32.466079245801055\n",
      "Model2 y displacement: 0\n",
      "AFTER POSSIBLE SIGN FLIP\n",
      "Model2 x displacement: 32.466079245801055\n",
      "Model2 y displacement: 0\n",
      "MODEL 1: TOTAL X AND Y DISPLACEMENTS, u=-1: X->-156.655974 m, Y->25.878550 m\n",
      "MODEL 2: TOTAL X AND Y DISPLACEMENTS, u=-1: X->-107.00778543114703 m, Y->0 m\n",
      "\n",
      "1.915579462793291\n",
      "Model2 x displacement: 31.74901032674729\n",
      "Model2 y displacement: 0\n",
      "AFTER POSSIBLE SIGN FLIP\n",
      "Model2 x displacement: 31.74901032674729\n",
      "Model2 y displacement: 0\n",
      "MODEL 1: TOTAL X AND Y DISPLACEMENTS, u=0: X->-109.637628 m, Y->25.878550 m\n",
      "MODEL 2: TOTAL X AND Y DISPLACEMENTS, u=0: X->-60.706508555584854 m, Y->0 m\n",
      "\n",
      "0.9155794627932909\n",
      "Model2 x displacement: 32.486844398569986\n",
      "Model2 y displacement: 0\n",
      "AFTER POSSIBLE SIGN FLIP\n",
      "Model2 x displacement: 32.486844398569986\n",
      "Model2 y displacement: 0\n",
      "MODEL 1: TOTAL X AND Y DISPLACEMENTS, u=1: X->-62.619283 m, Y->25.878550 m\n",
      "MODEL 2: TOTAL X AND Y DISPLACEMENTS, u=1: X->-12.95032868914653 m, Y->0 m\n",
      "\n",
      "---------------------------------------------------------------\n",
      "\n",
      "Minimum-Maximum x: -156.65597427959585 - -12.95032868914653 (m), u_range=143.7056455904493 (m)\n",
      "Minimum-Maximum y: 0 - 25.87855026813918 (m), u_range=25.87855026813918 (m)\n",
      "Avg X displacement: -84.8031514843712 (m)\n",
      "Avg Y displacement: 12.93927513406959 (m)\n",
      "Started in grid number 210, ended in 230 (average)\n",
      "ALL GRID BOXES: [230]\n"
     ]
    }
   ],
   "source": [
    "# The actual flight time was ~75 seconds, not 50...\n",
    "final_grid_number = calc_displacement2(imu_data_file_and_path, 210, [-2, 0], my_thresh=50, my_post_drogue_delay=0.85, my_signal_length=3, my_t_sim_landing=75, ld_launch_angle=2*pi/180, ld_ssm=3.2, ld_dry_base=15.89)"
   ]
  },
  {
   "cell_type": "markdown",
   "id": "4b7e0387",
   "metadata": {},
   "source": [
    "SIFT2"
   ]
  },
  {
   "cell_type": "code",
   "execution_count": 5,
   "id": "6563a064",
   "metadata": {},
   "outputs": [
    {
     "name": "stdout",
     "output_type": "stream",
     "text": [
      "Take-Off Time (s) = 0.0\n",
      "Landing (s) = 73.53999999999996\n",
      "Start time of signal: 11.339999999999918\n",
      "End time of signal: 14.329999999999927\n",
      "IMU WIND SPEEDS, X->-0.5149461201992684 m/s and Y->1.626456407099539 m/s\n",
      "UPDATED WIND SPEEDS, X->-0.5149461201992684 m/s and Y->1.626456407099539 m/s\n",
      "LOOP 1\n",
      "UPDATED WIND SPEEDS, X->0 m/s and Y->1.626456407099539 m/s\n",
      "Model2 y displacement: 32.85705172000865\n",
      "AFTER POSSIBLE SIGN FLIP\n",
      "Model2 y displacement: -32.85705172000865\n",
      "MODEL 1: TOTAL X AND Y DISPLACEMENTS, u=-1: X->-44.582112 m, Y->64.839765 m\n",
      "MODEL 2: TOTAL X AND Y DISPLACEMENTS, u=-1: X->0 m, Y->7.252360148127959 m\n",
      "\n",
      "Model2 y displacement: 31.848151558733715\n",
      "AFTER POSSIBLE SIGN FLIP\n",
      "Model2 y displacement: -31.848151558733715\n",
      "MODEL 1: TOTAL X AND Y DISPLACEMENTS, u=0: X->-44.582112 m, Y->112.190031 m\n",
      "MODEL 2: TOTAL X AND Y DISPLACEMENTS, u=0: X->0 m, Y->55.61152620881107 m\n",
      "\n",
      "Model2 y displacement: 32.053734315078664\n",
      "AFTER POSSIBLE SIGN FLIP\n",
      "Model2 y displacement: -32.053734315078664\n",
      "MODEL 1: TOTAL X AND Y DISPLACEMENTS, u=1: X->-44.582112 m, Y->159.506544 m\n",
      "MODEL 2: TOTAL X AND Y DISPLACEMENTS, u=1: X->0 m, Y->102.72245607801015 m\n",
      "\n",
      "---------------------------------------------------------------\n",
      "\n",
      "Minimum-Maximum x: -44.58211246516893 - 0 (m), u_range=44.58211246516893 (m)\n",
      "Minimum-Maximum y: 7.252360148127959 - 159.5065440223462 (m), u_range=152.25418387421823 (m)\n",
      "Avg X displacement: -22.291056232584467 (m)\n",
      "Avg Y displacement: 83.37945208523708 (m)\n",
      "Started in grid number 210, ended in 209 (average)\n",
      "ALL GRID BOXES: [209, 210, 208]\n"
     ]
    }
   ],
   "source": [
    "SIFT2_datafile = \"FS3_Sift2_FULL.csv\"\n",
    "imu_data_file_and_path = \"../../\" + SIFT2_datafile\n",
    "\n",
    "final_grid_number = calc_displacement2(imu_data_file_and_path, 210, [-2, 0], my_thresh=40, my_post_drogue_delay=0.85, my_signal_length=3, my_t_sim_landing=50, ld_launch_angle=2*pi/180, ld_ssm=3.2, ld_dry_base=15.89)"
   ]
  },
  {
   "cell_type": "code",
   "execution_count": 6,
   "id": "f79af7ad",
   "metadata": {},
   "outputs": [
    {
     "name": "stdout",
     "output_type": "stream",
     "text": [
      "Take-Off Time (s) = 0.0\n",
      "Landing (s) = 73.53999999999996\n",
      "Start time of signal: 11.339999999999918\n",
      "End time of signal: 14.329999999999927\n",
      "IMU WIND SPEEDS, X->-0.5149461201992684 m/s and Y->1.626456407099539 m/s\n",
      "UPDATED WIND SPEEDS, X->-0.5149461201992684 m/s and Y->1.626456407099539 m/s\n",
      "LOOP 1\n",
      "UPDATED WIND SPEEDS, X->0 m/s and Y->1.626456407099539 m/s\n",
      "Model2 y displacement: 32.85705172000865\n",
      "AFTER POSSIBLE SIGN FLIP\n",
      "Model2 y displacement: -32.85705172000865\n",
      "MODEL 1: TOTAL X AND Y DISPLACEMENTS, u=-1: X->-44.582112 m, Y->64.839765 m\n",
      "MODEL 2: TOTAL X AND Y DISPLACEMENTS, u=-1: X->0 m, Y->7.252360148127959 m\n",
      "\n",
      "Model2 y displacement: 31.848151558733715\n",
      "AFTER POSSIBLE SIGN FLIP\n",
      "Model2 y displacement: -31.848151558733715\n",
      "MODEL 1: TOTAL X AND Y DISPLACEMENTS, u=0: X->-44.582112 m, Y->112.190031 m\n",
      "MODEL 2: TOTAL X AND Y DISPLACEMENTS, u=0: X->0 m, Y->55.61152620881107 m\n",
      "\n",
      "Model2 y displacement: 32.053734315078664\n",
      "AFTER POSSIBLE SIGN FLIP\n",
      "Model2 y displacement: -32.053734315078664\n",
      "MODEL 1: TOTAL X AND Y DISPLACEMENTS, u=1: X->-44.582112 m, Y->159.506544 m\n",
      "MODEL 2: TOTAL X AND Y DISPLACEMENTS, u=1: X->0 m, Y->102.72245607801015 m\n",
      "\n",
      "---------------------------------------------------------------\n",
      "\n",
      "Minimum-Maximum x: -44.58211246516893 - 0 (m), u_range=44.58211246516893 (m)\n",
      "Minimum-Maximum y: 7.252360148127959 - 159.5065440223462 (m), u_range=152.25418387421823 (m)\n",
      "Avg X displacement: -22.291056232584467 (m)\n",
      "Avg Y displacement: 83.37945208523708 (m)\n",
      "Started in grid number 210, ended in 209 (average)\n",
      "ALL GRID BOXES: [209, 210, 208]\n"
     ]
    }
   ],
   "source": [
    "# The actual flight time was ~75 seconds, not 50...\n",
    "final_grid_number = calc_displacement2(imu_data_file_and_path, 210, [-2, 0], my_thresh=40, my_post_drogue_delay=0.85, my_signal_length=3, my_t_sim_landing=75, ld_launch_angle=2*pi/180, ld_ssm=3.2, ld_dry_base=15.89)"
   ]
  },
  {
   "cell_type": "markdown",
   "id": "96e03faf",
   "metadata": {},
   "source": [
    "## \"FULLSCALE\" 2"
   ]
  },
  {
   "cell_type": "code",
   "execution_count": 7,
   "id": "18ae4b23",
   "metadata": {
    "scrolled": false
   },
   "outputs": [
    {
     "name": "stdout",
     "output_type": "stream",
     "text": [
      "Take-Off Time (s) = 0.0\n",
      "Landing (s) = 49.2800000000002\n",
      "Start time of signal: 10.659999999999854\n",
      "End time of signal: 13.650000000000091\n",
      "IMU WIND SPEEDS, X->3.8131129069996614 m/s and Y->-0.46231492300041177 m/s\n",
      "UPDATED WIND SPEEDS, X->3.8131129069996614 m/s and Y->-0.46231492300041177 m/s\n",
      "LOOP 2\n",
      "UPDATED WIND SPEEDS, X->3.8131129069996614 m/s and Y->0 m/s\n",
      "2.8131129069996614\n",
      "Model2 x displacement: 32.3029254571771\n",
      "Model2 y displacement: 0\n",
      "AFTER POSSIBLE SIGN FLIP\n",
      "Model2 x displacement: -32.3029254571771\n",
      "Model2 y displacement: 0\n",
      "MODEL 1: TOTAL X AND Y DISPLACEMENTS, u=-1: X->99.042315 m, Y->-25.141403 m\n",
      "MODEL 2: TOTAL X AND Y DISPLACEMENTS, u=-1: X->58.92127245442083 m, Y->0 m\n",
      "\n",
      "3.8131129069996614\n",
      "Model2 x displacement: 35.43102569672832\n",
      "Model2 y displacement: 0\n",
      "AFTER POSSIBLE SIGN FLIP\n",
      "Model2 x displacement: -35.43102569672832\n",
      "Model2 y displacement: 0\n",
      "MODEL 1: TOTAL X AND Y DISPLACEMENTS, u=0: X->127.378643 m, Y->-25.141403 m\n",
      "MODEL 2: TOTAL X AND Y DISPLACEMENTS, u=0: X->84.12949976478458 m, Y->0 m\n",
      "\n",
      "4.813112906999661\n",
      "Model2 x displacement: 43.12548491728745\n",
      "Model2 y displacement: 0\n",
      "AFTER POSSIBLE SIGN FLIP\n",
      "Model2 x displacement: -43.12548491728745\n",
      "Model2 y displacement: 0\n",
      "MODEL 1: TOTAL X AND Y DISPLACEMENTS, u=1: X->155.663039 m, Y->-25.141403 m\n",
      "MODEL 2: TOTAL X AND Y DISPLACEMENTS, u=1: X->104.7194375073759 m, Y->0 m\n",
      "\n",
      "---------------------------------------------------------------\n",
      "\n",
      "Minimum-Maximum x: 58.92127245442083 - 155.66303949939572 (m), u_range=96.74176704497489 (m)\n",
      "Minimum-Maximum y: -25.141402884102014 - 0 (m), u_range=25.141402884102014 (m)\n",
      "Avg X displacement: 107.29215597690828 (m)\n",
      "Avg Y displacement: -12.570701442051007 (m)\n",
      "Started in grid number 210, ended in 190 (average)\n",
      "ALL GRID BOXES: [190]\n"
     ]
    }
   ],
   "source": [
    "SIFT2_datafile = \"Full_FS2_SIFT2.csv\"\n",
    "imu_data_file_and_path = \"../../\" + SIFT2_datafile\n",
    "\n",
    "final_grid_number = calc_displacement2(imu_data_file_and_path, 210, [3, 0], my_thresh=50, my_post_drogue_delay=0.85, my_signal_length=3, my_t_sim_landing=70, ld_launch_angle=2*pi/180, ld_ssm=3.2, ld_dry_base=15.89)"
   ]
  },
  {
   "cell_type": "markdown",
   "id": "ef192d38",
   "metadata": {},
   "source": [
    "## FULLSCALE 1\n",
    "> This is for Hoppensville, and we don't have a gridded image for this"
   ]
  },
  {
   "cell_type": "code",
   "execution_count": 8,
   "id": "8f141326",
   "metadata": {},
   "outputs": [
    {
     "name": "stdout",
     "output_type": "stream",
     "text": [
      "Take-Off Time (s) = 0.0\n",
      "Landing (s) = 72.67999999999984\n",
      "Start time of signal: 18.139999999999873\n",
      "End time of signal: 21.13000000000011\n",
      "IMU WIND SPEEDS, X->-8.696702466000954 m/s and Y->6.149811484999715 m/s\n",
      "UPDATED WIND SPEEDS, X->-8.696702466000954 m/s and Y->6.149811484999715 m/s\n",
      "LOOP 4\n",
      "UPDATED WIND SPEEDS, X->-8.696702466000954 m/s and Y->6.149811484999715 m/s\n",
      "Model2 x displacement: 241.30439135075525\n",
      "Model2 y displacement: 123.42582845328884\n",
      "AFTER POSSIBLE SIGN FLIP\n",
      "Model2 x displacement: 241.30439135075525\n",
      "Model2 y displacement: -123.42582845328884\n",
      "MODEL 1: TOTAL X AND Y DISPLACEMENTS, u=-1: X->-412.407189 m, Y->143.846613 m\n",
      "MODEL 2: TOTAL X AND Y DISPLACEMENTS, u=-1: X->-181.26947065948383 m, Y->88.38029898322597 m\n",
      "\n",
      "Model2 x displacement: 193.96693507759244\n",
      "Model2 y displacement: 132.99470215638212\n",
      "AFTER POSSIBLE SIGN FLIP\n",
      "Model2 x displacement: 193.96693507759244\n",
      "Model2 y displacement: -132.99470215638212\n",
      "MODEL 1: TOTAL X AND Y DISPLACEMENTS, u=0: X->-369.374346 m, Y->186.879456 m\n",
      "MODEL 2: TOTAL X AND Y DISPLACEMENTS, u=0: X->-185.5740832549159 m, Y->121.84426895786325 m\n",
      "\n",
      "Model2 x displacement: 162.0300061293309\n",
      "Model2 y displacement: 149.39354291078362\n",
      "AFTER POSSIBLE SIGN FLIP\n",
      "Model2 x displacement: 162.0300061293309\n",
      "Model2 y displacement: -149.39354291078362\n",
      "MODEL 1: TOTAL X AND Y DISPLACEMENTS, u=1: X->-326.341502 m, Y->229.912300 m\n",
      "MODEL 2: TOTAL X AND Y DISPLACEMENTS, u=1: X->-174.4781685254462 m, Y->148.47827188119237 m\n",
      "\n",
      "---------------------------------------------------------------\n",
      "\n",
      "Minimum-Maximum x: -412.40718931502465 - -174.4781685254462 (m), u_range=237.92902078957846 (m)\n",
      "Minimum-Maximum y: 88.38029898322597 - 229.91230000399298 (m), u_range=141.532001020767 (m)\n",
      "Avg X displacement: -293.44267892023544 (m)\n",
      "Avg Y displacement: 159.1462994936095 (m)\n",
      "Started in grid number 210, ended in 288 (average)\n",
      "ALL GRID BOXES: [288, 308, 268]\n"
     ]
    }
   ],
   "source": [
    "Fullscale1_datafile = \"Fullscale1.csv\"\n",
    "imu_data_file_and_path = \"../Data/\" + Fullscale1_datafile\n",
    "\n",
    "final_grid_number = calc_displacement2(imu_data_file_and_path, 210, [-7, 0], my_thresh=50, my_post_drogue_delay=0.5, my_signal_length=3, my_t_sim_landing=90, ld_launch_angle=2*pi/180, ld_ssm=3.2, ld_dry_base=16.57, ld_m_motor=1.76, ld_t_burn=2.1, ld_T_avg=1740)"
   ]
  },
  {
   "cell_type": "code",
   "execution_count": null,
   "id": "bb6c5dd5",
   "metadata": {},
   "outputs": [],
   "source": []
  }
 ],
 "metadata": {
  "kernelspec": {
   "display_name": "Python 3 (ipykernel)",
   "language": "python",
   "name": "python3"
  },
  "language_info": {
   "codemirror_mode": {
    "name": "ipython",
    "version": 3
   },
   "file_extension": ".py",
   "mimetype": "text/x-python",
   "name": "python",
   "nbconvert_exporter": "python",
   "pygments_lexer": "ipython3",
   "version": "3.7.11"
  }
 },
 "nbformat": 4,
 "nbformat_minor": 5
}
