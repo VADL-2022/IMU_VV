{
 "cells": [
  {
   "cell_type": "code",
   "execution_count": 1,
   "id": "4657c8a7",
   "metadata": {},
   "outputs": [],
   "source": [
    "import pandas as pd\n",
    "import numpy as np\n",
    "from math import sin, cos, pi, atan2, asin, sqrt, ceil\n",
    "import matplotlib.pyplot as plt\n",
    "from model_funcs import *"
   ]
  },
  {
   "cell_type": "markdown",
   "id": "26799785",
   "metadata": {},
   "source": [
    "## \"FULLSCALE\" 3"
   ]
  },
  {
   "cell_type": "code",
   "execution_count": 2,
   "id": "c982380f",
   "metadata": {
    "scrolled": false
   },
   "outputs": [
    {
     "name": "stdout",
     "output_type": "stream",
     "text": [
      "(array([1384], dtype=int64),)\n",
      "(array([], dtype=int64),)\n",
      "Setting maxIndex to -1\n",
      "Take-Off Time (s) = 0.0\n",
      "Landing (s) = 73.73000000000002\n",
      "End time of signal: 11.559999999999945\n",
      "End time of signal: 14.559999999999945\n",
      "NUM INT WIND SPEEDS, X->1.9757579530014833 m/s and Y->0.29483364599852413 m/s\n",
      "---------------------------------------------------------------\n",
      "\n",
      "Model2 x displacement: 32.42903521913896\n",
      "Model2 y displacement: 40.07306794568366\n",
      "AFTER POSSIBLE SIGN FLIP\n",
      "Model2 x displacement: -32.42903521913896\n",
      "Model2 y displacement: 40.07306794568366\n",
      "MODEL 1: TOTAL X AND Y DISPLACEMENTS, u=-1: X->26.328408 m, Y->30.629320 m\n",
      "MODEL 2: TOTAL X AND Y DISPLACEMENTS, u=-1: X->11.081482680815107 m, Y->44.82383776297116 m\n",
      "\n",
      "Model2 x displacement: 31.746338810579545\n",
      "Model2 y displacement: 33.37736844491011\n",
      "AFTER POSSIBLE SIGN FLIP\n",
      "Model2 x displacement: -31.746338810579545\n",
      "Model2 y displacement: -33.37736844491011\n",
      "MODEL 1: TOTAL X AND Y DISPLACEMENTS, u=0: X->73.367389 m, Y->44.497994 m\n",
      "MODEL 2: TOTAL X AND Y DISPLACEMENTS, u=0: X->58.80315946603454 m, Y->-14.757924539118823 m\n",
      "\n",
      "Model2 x displacement: 32.57011462190938\n",
      "Model2 y displacement: 32.09832236429015\n",
      "AFTER POSSIBLE SIGN FLIP\n",
      "Model2 x displacement: -32.57011462190938\n",
      "Model2 y displacement: -32.09832236429015\n",
      "MODEL 1: TOTAL X AND Y DISPLACEMENTS, u=1: X->120.406369 m, Y->91.536975 m\n",
      "MODEL 2: TOTAL X AND Y DISPLACEMENTS, u=1: X->105.01836403136485 m, Y->33.560101918161415 m\n",
      "\n",
      "---------------------------------------------------------------\n",
      "\n",
      "Minimum-Maximum x: 11.081482680815107 - 120.40636905062645 (m), u_range=109.32488636981134 (m)\n",
      "Minimum-Maximum y: -14.757924539118823 - 91.53697455059074 (m), u_range=106.29489908970956 (m)\n",
      "Avg X displacement: 65.74392586572078 (m)\n",
      "Avg Y displacement: 38.38952500573596 (m)\n",
      "Started in grid number 210, ended in 189 (average)\n",
      "ALL GRID BOXES: [189]\n"
     ]
    }
   ],
   "source": [
    "SIFT1_datafile = \"Full_FS3_SIFT1.csv\"\n",
    "imu_data_file_and_path = \"../../\" + SIFT1_datafile\n",
    "\n",
    "final_grid_number = calc_displacement2(imu_data_file_and_path, 210, my_thresh=50, my_post_drogue_delay=0.85, my_signal_length=3, my_t_sim_landing=50, ld_launch_angle=2*pi/180, ld_ssm=3.2, ld_dry_base=15.89)"
   ]
  },
  {
   "cell_type": "code",
   "execution_count": 3,
   "id": "edaaf5c5",
   "metadata": {},
   "outputs": [
    {
     "name": "stdout",
     "output_type": "stream",
     "text": [
      "(array([2370, 2371], dtype=int64),)\n",
      "(array([3555, 3556], dtype=int64),)\n",
      "Take-Off Time (s) = 0.0\n",
      "Landing (s) = 73.73000000000002\n",
      "End time of signal: 11.559999999999945\n",
      "End time of signal: 14.559999999999945\n",
      "NUM INT WIND SPEEDS, X->1.9757579530014833 m/s and Y->0.29483364599852413 m/s\n",
      "---------------------------------------------------------------\n",
      "\n",
      "Model2 x displacement: 32.42903521913896\n",
      "Model2 y displacement: 40.07306794568366\n",
      "AFTER POSSIBLE SIGN FLIP\n",
      "Model2 x displacement: -32.42903521913896\n",
      "Model2 y displacement: 40.07306794568366\n",
      "MODEL 1: TOTAL X AND Y DISPLACEMENTS, u=-1: X->26.328408 m, Y->30.629320 m\n",
      "MODEL 2: TOTAL X AND Y DISPLACEMENTS, u=-1: X->11.081482680815107 m, Y->44.82383776297116 m\n",
      "\n",
      "Model2 x displacement: 31.746338810579545\n",
      "Model2 y displacement: 33.37736844491011\n",
      "AFTER POSSIBLE SIGN FLIP\n",
      "Model2 x displacement: -31.746338810579545\n",
      "Model2 y displacement: -33.37736844491011\n",
      "MODEL 1: TOTAL X AND Y DISPLACEMENTS, u=0: X->73.367389 m, Y->44.497994 m\n",
      "MODEL 2: TOTAL X AND Y DISPLACEMENTS, u=0: X->58.80315946603454 m, Y->-14.757924539118823 m\n",
      "\n",
      "Model2 x displacement: 32.57011462190938\n",
      "Model2 y displacement: 32.09832236429015\n",
      "AFTER POSSIBLE SIGN FLIP\n",
      "Model2 x displacement: -32.57011462190938\n",
      "Model2 y displacement: -32.09832236429015\n",
      "MODEL 1: TOTAL X AND Y DISPLACEMENTS, u=1: X->120.406369 m, Y->91.536975 m\n",
      "MODEL 2: TOTAL X AND Y DISPLACEMENTS, u=1: X->105.01836403136485 m, Y->33.560101918161415 m\n",
      "\n",
      "---------------------------------------------------------------\n",
      "\n",
      "Minimum-Maximum x: 11.081482680815107 - 120.40636905062645 (m), u_range=109.32488636981134 (m)\n",
      "Minimum-Maximum y: -14.757924539118823 - 91.53697455059074 (m), u_range=106.29489908970956 (m)\n",
      "Avg X displacement: 65.74392586572078 (m)\n",
      "Avg Y displacement: 38.38952500573596 (m)\n",
      "Started in grid number 210, ended in 189 (average)\n",
      "ALL GRID BOXES: [189]\n"
     ]
    }
   ],
   "source": [
    "# The actual flight time was ~75 seconds, not 50...\n",
    "final_grid_number = calc_displacement2(imu_data_file_and_path, 210, my_thresh=50, my_post_drogue_delay=0.85, my_signal_length=3, my_t_sim_landing=75, ld_launch_angle=2*pi/180, ld_ssm=3.2, ld_dry_base=15.89)"
   ]
  },
  {
   "cell_type": "markdown",
   "id": "4b7e0387",
   "metadata": {},
   "source": [
    "SIFT2"
   ]
  },
  {
   "cell_type": "code",
   "execution_count": 4,
   "id": "6563a064",
   "metadata": {},
   "outputs": [
    {
     "name": "stdout",
     "output_type": "stream",
     "text": [
      "(array([], dtype=int64),)\n",
      "Setting minIndex to -1\n",
      "(array([], dtype=int64),)\n",
      "Setting maxIndex to -1\n",
      "The predicted flight time is probably wrong\n"
     ]
    },
    {
     "ename": "IndexError",
     "evalue": "index 0 is out of bounds for axis 0 with size 0",
     "output_type": "error",
     "traceback": [
      "\u001b[1;31m---------------------------------------------------------------------------\u001b[0m",
      "\u001b[1;31mIndexError\u001b[0m                                Traceback (most recent call last)",
      "\u001b[1;32m~\\Desktop\\VADL\\code\\IMU_VV\\03_Path_Recon\\model_funcs.py\u001b[0m in \u001b[0;36mcalc_displacement2\u001b[1;34m(imu_data_file_and_path, launch_rail_box, my_thresh, my_post_drogue_delay, my_signal_length, my_t_sim_landing, ld_launch_angle, ld_ssm, ld_dry_base, ld_m_motor, ld_t_burn, ld_T_avg)\u001b[0m\n\u001b[0;32m    143\u001b[0m         \u001b[1;32mtry\u001b[0m\u001b[1;33m:\u001b[0m\u001b[1;33m\u001b[0m\u001b[1;33m\u001b[0m\u001b[0m\n\u001b[1;32m--> 144\u001b[1;33m             \u001b[0mlanding_i\u001b[0m \u001b[1;33m=\u001b[0m \u001b[0mnp\u001b[0m\u001b[1;33m.\u001b[0m\u001b[0mwhere\u001b[0m\u001b[1;33m(\u001b[0m\u001b[0mabs\u001b[0m\u001b[1;33m(\u001b[0m\u001b[0mimu_t\u001b[0m \u001b[1;33m-\u001b[0m \u001b[1;33m(\u001b[0m\u001b[0mpredicted_flight_duration\u001b[0m\u001b[1;33m)\u001b[0m\u001b[1;33m)\u001b[0m \u001b[1;33m==\u001b[0m \u001b[0mminDistance\u001b[0m\u001b[1;33m)\u001b[0m\u001b[1;33m[\u001b[0m\u001b[1;36m0\u001b[0m\u001b[1;33m]\u001b[0m\u001b[1;33m[\u001b[0m\u001b[1;36m0\u001b[0m\u001b[1;33m]\u001b[0m\u001b[1;33m\u001b[0m\u001b[1;33m\u001b[0m\u001b[0m\n\u001b[0m\u001b[0;32m    145\u001b[0m         \u001b[1;32mexcept\u001b[0m\u001b[1;33m:\u001b[0m\u001b[1;33m\u001b[0m\u001b[1;33m\u001b[0m\u001b[0m\n",
      "\u001b[1;31mIndexError\u001b[0m: index 0 is out of bounds for axis 0 with size 0",
      "\nDuring handling of the above exception, another exception occurred:\n",
      "\u001b[1;31mIndexError\u001b[0m                                Traceback (most recent call last)",
      "\u001b[1;32m~\\AppData\\Local\\Temp/ipykernel_16408/3915393424.py\u001b[0m in \u001b[0;36m<module>\u001b[1;34m\u001b[0m\n\u001b[0;32m      2\u001b[0m \u001b[0mimu_data_file_and_path\u001b[0m \u001b[1;33m=\u001b[0m \u001b[1;34m\"../../\"\u001b[0m \u001b[1;33m+\u001b[0m \u001b[0mSIFT2_datafile\u001b[0m\u001b[1;33m\u001b[0m\u001b[1;33m\u001b[0m\u001b[0m\n\u001b[0;32m      3\u001b[0m \u001b[1;33m\u001b[0m\u001b[0m\n\u001b[1;32m----> 4\u001b[1;33m \u001b[0mfinal_grid_number\u001b[0m \u001b[1;33m=\u001b[0m \u001b[0mcalc_displacement2\u001b[0m\u001b[1;33m(\u001b[0m\u001b[0mimu_data_file_and_path\u001b[0m\u001b[1;33m,\u001b[0m \u001b[1;36m210\u001b[0m\u001b[1;33m,\u001b[0m \u001b[0mmy_thresh\u001b[0m\u001b[1;33m=\u001b[0m\u001b[1;36m50\u001b[0m\u001b[1;33m,\u001b[0m \u001b[0mmy_post_drogue_delay\u001b[0m\u001b[1;33m=\u001b[0m\u001b[1;36m0.85\u001b[0m\u001b[1;33m,\u001b[0m \u001b[0mmy_signal_length\u001b[0m\u001b[1;33m=\u001b[0m\u001b[1;36m3\u001b[0m\u001b[1;33m,\u001b[0m \u001b[0mmy_t_sim_landing\u001b[0m\u001b[1;33m=\u001b[0m\u001b[1;36m50\u001b[0m\u001b[1;33m,\u001b[0m \u001b[0mld_launch_angle\u001b[0m\u001b[1;33m=\u001b[0m\u001b[1;36m2\u001b[0m\u001b[1;33m*\u001b[0m\u001b[0mpi\u001b[0m\u001b[1;33m/\u001b[0m\u001b[1;36m180\u001b[0m\u001b[1;33m,\u001b[0m \u001b[0mld_ssm\u001b[0m\u001b[1;33m=\u001b[0m\u001b[1;36m3.2\u001b[0m\u001b[1;33m,\u001b[0m \u001b[0mld_dry_base\u001b[0m\u001b[1;33m=\u001b[0m\u001b[1;36m15.89\u001b[0m\u001b[1;33m)\u001b[0m\u001b[1;33m\u001b[0m\u001b[1;33m\u001b[0m\u001b[0m\n\u001b[0m",
      "\u001b[1;32m~\\Desktop\\VADL\\code\\IMU_VV\\03_Path_Recon\\model_funcs.py\u001b[0m in \u001b[0;36mcalc_displacement2\u001b[1;34m(imu_data_file_and_path, launch_rail_box, my_thresh, my_post_drogue_delay, my_signal_length, my_t_sim_landing, ld_launch_angle, ld_ssm, ld_dry_base, ld_m_motor, ld_t_burn, ld_T_avg)\u001b[0m\n\u001b[0;32m    146\u001b[0m             \u001b[0mprint\u001b[0m\u001b[1;33m(\u001b[0m\u001b[1;34m\"The predicted flight time is probably wrong\"\u001b[0m\u001b[1;33m)\u001b[0m\u001b[1;33m\u001b[0m\u001b[1;33m\u001b[0m\u001b[0m\n\u001b[0;32m    147\u001b[0m             \u001b[1;32mif\u001b[0m \u001b[0mpredicted_flight_duration\u001b[0m \u001b[1;33m<\u001b[0m \u001b[1;36m60\u001b[0m\u001b[1;33m:\u001b[0m\u001b[1;33m\u001b[0m\u001b[1;33m\u001b[0m\u001b[0m\n\u001b[1;32m--> 148\u001b[1;33m                 \u001b[0mlanding_i\u001b[0m \u001b[1;33m=\u001b[0m \u001b[0mnp\u001b[0m\u001b[1;33m.\u001b[0m\u001b[0mwhere\u001b[0m\u001b[1;33m(\u001b[0m\u001b[0mabs\u001b[0m\u001b[1;33m(\u001b[0m\u001b[0mimu_t\u001b[0m \u001b[1;33m-\u001b[0m \u001b[1;33m(\u001b[0m\u001b[1;36m90\u001b[0m\u001b[1;33m)\u001b[0m\u001b[1;33m)\u001b[0m \u001b[1;33m==\u001b[0m \u001b[0mminDistance\u001b[0m\u001b[1;33m)\u001b[0m\u001b[1;33m[\u001b[0m\u001b[1;36m0\u001b[0m\u001b[1;33m]\u001b[0m\u001b[1;33m[\u001b[0m\u001b[1;36m0\u001b[0m\u001b[1;33m]\u001b[0m\u001b[1;33m\u001b[0m\u001b[1;33m\u001b[0m\u001b[0m\n\u001b[0m\u001b[0;32m    149\u001b[0m             \u001b[1;32melif\u001b[0m \u001b[0mpredicted_flight_duration\u001b[0m \u001b[1;33m>\u001b[0m \u001b[1;36m80\u001b[0m\u001b[1;33m:\u001b[0m\u001b[1;33m\u001b[0m\u001b[1;33m\u001b[0m\u001b[0m\n\u001b[0;32m    150\u001b[0m                 \u001b[0mlanding_i\u001b[0m \u001b[1;33m=\u001b[0m \u001b[0mnp\u001b[0m\u001b[1;33m.\u001b[0m\u001b[0mwhere\u001b[0m\u001b[1;33m(\u001b[0m\u001b[0mabs\u001b[0m\u001b[1;33m(\u001b[0m\u001b[0mimu_t\u001b[0m \u001b[1;33m-\u001b[0m \u001b[1;33m(\u001b[0m\u001b[1;36m120\u001b[0m\u001b[1;33m)\u001b[0m\u001b[1;33m)\u001b[0m \u001b[1;33m==\u001b[0m \u001b[0mminDistance\u001b[0m\u001b[1;33m)\u001b[0m\u001b[1;33m[\u001b[0m\u001b[1;36m0\u001b[0m\u001b[1;33m]\u001b[0m\u001b[1;33m[\u001b[0m\u001b[1;36m0\u001b[0m\u001b[1;33m]\u001b[0m\u001b[1;33m\u001b[0m\u001b[1;33m\u001b[0m\u001b[0m\n",
      "\u001b[1;31mIndexError\u001b[0m: index 0 is out of bounds for axis 0 with size 0"
     ]
    }
   ],
   "source": [
    "SIFT2_datafile = \"Full_FS3_SIFT2.csv\"\n",
    "imu_data_file_and_path = \"../../\" + SIFT2_datafile\n",
    "\n",
    "final_grid_number = calc_displacement2(imu_data_file_and_path, 210, my_thresh=50, my_post_drogue_delay=0.85, my_signal_length=3, my_t_sim_landing=50, ld_launch_angle=2*pi/180, ld_ssm=3.2, ld_dry_base=15.89)"
   ]
  },
  {
   "cell_type": "code",
   "execution_count": null,
   "id": "f79af7ad",
   "metadata": {},
   "outputs": [],
   "source": [
    "# The actual flight time was ~75 seconds, not 50...\n",
    "final_grid_number = calc_displacement2(imu_data_file_and_path, 210, my_thresh=50, my_post_drogue_delay=0.85, my_signal_length=3, my_t_sim_landing=75, ld_launch_angle=2*pi/180, ld_ssm=3.2, ld_dry_base=15.89)"
   ]
  },
  {
   "cell_type": "markdown",
   "id": "96e03faf",
   "metadata": {},
   "source": [
    "## \"FULLSCALE\" 2"
   ]
  },
  {
   "cell_type": "code",
   "execution_count": null,
   "id": "18ae4b23",
   "metadata": {
    "scrolled": false
   },
   "outputs": [],
   "source": [
    "SIFT2_datafile = \"Full_FS2_SIFT2.csv\"\n",
    "imu_data_file_and_path = \"../../\" + SIFT2_datafile\n",
    "\n",
    "final_grid_number = calc_displacement2(imu_data_file_and_path, 210, my_thresh=50, my_post_drogue_delay=0.85, my_signal_length=3, my_t_sim_landing=50, ld_launch_angle=2*pi/180, ld_ssm=3.2, ld_dry_base=15.89)"
   ]
  },
  {
   "cell_type": "markdown",
   "id": "ef192d38",
   "metadata": {},
   "source": [
    "## FULLSCALE 1\n",
    "> This is for Hoppensville, and we don't have a gridded image for this"
   ]
  },
  {
   "cell_type": "code",
   "execution_count": null,
   "id": "8f141326",
   "metadata": {},
   "outputs": [],
   "source": [
    "Fullscale1_datafile = \"Fullscale1.csv\"\n",
    "imu_data_file_and_path = \"../Data/\" + Fullscale1_datafile\n",
    "\n",
    "final_grid_number = calc_displacement2(imu_data_file_and_path, 210, my_thresh=50, my_post_drogue_delay=0.85, my_signal_length=3, my_t_sim_landing=90, ld_launch_angle=2*pi/180, ld_ssm=3.2, ld_dry_base=16.57, ld_m_motor=1.76, ld_t_burn=2.1, ld_T_avg=1740)"
   ]
  },
  {
   "cell_type": "code",
   "execution_count": null,
   "id": "bb6c5dd5",
   "metadata": {},
   "outputs": [],
   "source": []
  }
 ],
 "metadata": {
  "kernelspec": {
   "display_name": "Python 3 (ipykernel)",
   "language": "python",
   "name": "python3"
  },
  "language_info": {
   "codemirror_mode": {
    "name": "ipython",
    "version": 3
   },
   "file_extension": ".py",
   "mimetype": "text/x-python",
   "name": "python",
   "nbconvert_exporter": "python",
   "pygments_lexer": "ipython3",
   "version": "3.7.11"
  }
 },
 "nbformat": 4,
 "nbformat_minor": 5
}
