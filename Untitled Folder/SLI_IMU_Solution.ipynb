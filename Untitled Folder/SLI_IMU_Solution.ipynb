{
 "cells": [
  {
   "cell_type": "code",
   "execution_count": 1,
   "id": "6cf890e4",
   "metadata": {},
   "outputs": [],
   "source": [
    "import pandas as pd\n",
    "import numpy as np\n",
    "from math import sin, cos, pi, atan2, asin, sqrt, ceil\n",
    "import matplotlib.pyplot as plt\n",
    "from model_funcs import *\n",
    "from math import pi"
   ]
  },
  {
   "cell_type": "code",
   "execution_count": null,
   "id": "e09dc5a2",
   "metadata": {},
   "outputs": [],
   "source": []
  },
  {
   "cell_type": "code",
   "execution_count": null,
   "id": "594eb0db",
   "metadata": {},
   "outputs": [],
   "source": []
  },
  {
   "cell_type": "code",
   "execution_count": null,
   "id": "9a99733a",
   "metadata": {},
   "outputs": [],
   "source": [
    "Fullscale1_datafile = \"Fullscale1.csv\"\n",
    "imu_data_file_and_path = \"../Data/\" + Fullscale1_datafile\n",
    "\n",
    "final_grid_number = calc_displacement2(imu_data_file_and_path, 149, [-7, -10], GPS_coords=[34.8946330, 86.6166410], my_thresh=50, my_post_drogue_delay=0.5, my_signal_length=3, ld_launch_angle=2*pi/180, ld_ssm=3.2, ld_dry_base=16.57, ld_m_motor=1.76, ld_t_burn=2.1, ld_T_avg=1740)\n",
    "final_grid_numbers = all_results[0], all_results[1]"
   ]
  },
  {
   "cell_type": "code",
   "execution_count": null,
   "id": "036acf28",
   "metadata": {},
   "outputs": [],
   "source": [
    "subscale_datafile = \"LOG_20220130_014355.csv\"\n",
    "imu_data_file_and_path = \"../Data/Subscale2/VN/\" + subscale_datafile\n",
    "\n",
    "all_results = calc_displacement2(imu_data_file_and_path, 149, [13, 2], GPS_coords=[34.8946330, 86.6166410], my_thresh=50, my_post_drogue_delay=0.85, my_signal_length=3, ld_launch_angle=2*pi/180, ld_ssm=3.44, ld_dry_base=15.735, ld_m_motor=1.72818)\n",
    "final_grid_numbers = all_results[0], all_results[1]"
   ]
  }
 ],
 "metadata": {
  "kernelspec": {
   "display_name": "Python 3 (ipykernel)",
   "language": "python",
   "name": "python3"
  },
  "language_info": {
   "codemirror_mode": {
    "name": "ipython",
    "version": 3
   },
   "file_extension": ".py",
   "mimetype": "text/x-python",
   "name": "python",
   "nbconvert_exporter": "python",
   "pygments_lexer": "ipython3",
   "version": "3.7.11"
  }
 },
 "nbformat": 4,
 "nbformat_minor": 5
}
