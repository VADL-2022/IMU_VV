{
 "cells": [
  {
   "cell_type": "code",
   "execution_count": 1,
   "id": "6cf890e4",
   "metadata": {},
   "outputs": [],
   "source": [
    "import pandas as pd\n",
    "import numpy as np\n",
    "from math import sin, cos, pi, atan2, asin, sqrt, ceil\n",
    "import matplotlib.pyplot as plt\n",
    "from model_funcs import *\n",
    "from math import pi"
   ]
  },
  {
   "cell_type": "markdown",
   "id": "9cf7ee4c",
   "metadata": {},
   "source": [
    "## Full Files"
   ]
  },
  {
   "cell_type": "code",
   "execution_count": 5,
   "id": "ca2cd3de",
   "metadata": {},
   "outputs": [
    {
     "name": "stdout",
     "output_type": "stream",
     "text": [
      "0\n",
      "Take-Off Time (s) = 0.0\n"
     ]
    },
    {
     "ename": "IndexError",
     "evalue": "index 216885 is out of bounds for axis 0 with size 216797",
     "output_type": "error",
     "traceback": [
      "\u001b[1;31m---------------------------------------------------------------------------\u001b[0m",
      "\u001b[1;31mIndexError\u001b[0m                                Traceback (most recent call last)",
      "\u001b[1;32m~\\AppData\\Local\\Temp/ipykernel_15456/3538233112.py\u001b[0m in \u001b[0;36m<module>\u001b[1;34m\u001b[0m\n\u001b[0;32m      1\u001b[0m \u001b[0mS1_datafile\u001b[0m \u001b[1;33m=\u001b[0m \u001b[1;34m\"../../Full_NASA_S1.csv\"\u001b[0m\u001b[1;33m\u001b[0m\u001b[1;33m\u001b[0m\u001b[0m\n\u001b[1;32m----> 2\u001b[1;33m \u001b[0mfinal_grid_number\u001b[0m \u001b[1;33m=\u001b[0m \u001b[0mcalc_displacement2\u001b[0m\u001b[1;33m(\u001b[0m\u001b[0mS1_datafile\u001b[0m\u001b[1;33m,\u001b[0m \u001b[1;36m149\u001b[0m\u001b[1;33m,\u001b[0m \u001b[1;33m[\u001b[0m\u001b[1;36m13\u001b[0m\u001b[1;33m,\u001b[0m \u001b[1;36m2\u001b[0m\u001b[1;33m]\u001b[0m\u001b[1;33m,\u001b[0m \u001b[0mGPS_coords\u001b[0m\u001b[1;33m=\u001b[0m\u001b[1;33m[\u001b[0m\u001b[1;36m34.8946330\u001b[0m\u001b[1;33m,\u001b[0m \u001b[1;36m86.6166410\u001b[0m\u001b[1;33m]\u001b[0m\u001b[1;33m,\u001b[0m \u001b[0mmy_thresh\u001b[0m\u001b[1;33m=\u001b[0m\u001b[1;36m50\u001b[0m\u001b[1;33m,\u001b[0m \u001b[0mmy_post_drogue_delay\u001b[0m\u001b[1;33m=\u001b[0m\u001b[1;36m0.85\u001b[0m\u001b[1;33m,\u001b[0m \u001b[0mmy_signal_length\u001b[0m\u001b[1;33m=\u001b[0m\u001b[1;36m3\u001b[0m\u001b[1;33m,\u001b[0m \u001b[0mld_launch_angle\u001b[0m\u001b[1;33m=\u001b[0m\u001b[1;36m5\u001b[0m\u001b[1;33m*\u001b[0m\u001b[0mpi\u001b[0m\u001b[1;33m/\u001b[0m\u001b[1;36m180\u001b[0m\u001b[1;33m,\u001b[0m \u001b[0mld_ssm\u001b[0m\u001b[1;33m=\u001b[0m\u001b[1;36m3.44\u001b[0m\u001b[1;33m,\u001b[0m \u001b[0mld_dry_base\u001b[0m\u001b[1;33m=\u001b[0m\u001b[1;36m15.735\u001b[0m\u001b[1;33m,\u001b[0m \u001b[0mld_m_motor\u001b[0m\u001b[1;33m=\u001b[0m\u001b[1;36m1.728187\u001b[0m\u001b[1;33m,\u001b[0m \u001b[0mld_t_burn\u001b[0m\u001b[1;33m=\u001b[0m\u001b[1;36m2.05\u001b[0m\u001b[1;33m,\u001b[0m \u001b[0mld_T_avg\u001b[0m\u001b[1;33m=\u001b[0m\u001b[1;36m1771\u001b[0m\u001b[1;33m)\u001b[0m\u001b[1;33m\u001b[0m\u001b[1;33m\u001b[0m\u001b[0m\n\u001b[0m",
      "\u001b[1;32m~\\Desktop\\VADL\\code\\IMU_VV\\05_NASA_SLI\\model_funcs.py\u001b[0m in \u001b[0;36mcalc_displacement2\u001b[1;34m(imu_data_file_and_path, launch_rail_box, weather_station_stats_xy, GPS_coords, my_thresh, my_post_drogue_delay, my_signal_length, ld_launch_angle, ld_ssm, ld_dry_base, ld_m_motor, ld_t_burn, ld_T_avg)\u001b[0m\n\u001b[0;32m    135\u001b[0m     \u001b[0mprint\u001b[0m\u001b[1;33m(\u001b[0m\u001b[1;34mf\"Landing (s) = {imu_t[landing_i-1]}\"\u001b[0m\u001b[1;33m)\u001b[0m\u001b[1;33m;\u001b[0m\u001b[1;33m\u001b[0m\u001b[1;33m\u001b[0m\u001b[0m\n\u001b[0;32m    136\u001b[0m \u001b[1;33m\u001b[0m\u001b[0m\n\u001b[1;32m--> 137\u001b[1;33m     \u001b[0mimu_vz\u001b[0m \u001b[1;33m=\u001b[0m \u001b[0mnp\u001b[0m\u001b[1;33m.\u001b[0m\u001b[0mzeros\u001b[0m\u001b[1;33m(\u001b[0m\u001b[0mimu_N\u001b[0m\u001b[1;33m)\u001b[0m\u001b[1;33m\u001b[0m\u001b[1;33m\u001b[0m\u001b[0m\n\u001b[0m\u001b[0;32m    138\u001b[0m     \u001b[0mimu_z\u001b[0m \u001b[1;33m=\u001b[0m \u001b[0mnp\u001b[0m\u001b[1;33m.\u001b[0m\u001b[0mzeros\u001b[0m\u001b[1;33m(\u001b[0m\u001b[0mimu_N\u001b[0m\u001b[1;33m)\u001b[0m\u001b[1;33m\u001b[0m\u001b[1;33m\u001b[0m\u001b[0m\n\u001b[0;32m    139\u001b[0m \u001b[1;33m\u001b[0m\u001b[0m\n",
      "\u001b[1;31mIndexError\u001b[0m: index 216885 is out of bounds for axis 0 with size 216797"
     ]
    }
   ],
   "source": [
    "S1_datafile = \"../../Full_NASA_S1.csv\"\n",
    "final_grid_number = calc_displacement2(S1_datafile, 149, [13, 2], GPS_coords=[34.8946330, 86.6166410], my_thresh=50, my_post_drogue_delay=0.85, my_signal_length=3, ld_launch_angle=5*pi/180, ld_ssm=3.44, ld_dry_base=15.735, ld_m_motor=1.728187, ld_t_burn=2.05, ld_T_avg=1771)"
   ]
  },
  {
   "cell_type": "code",
   "execution_count": 4,
   "id": "de09907b",
   "metadata": {},
   "outputs": [
    {
     "name": "stdout",
     "output_type": "stream",
     "text": [
      "1.0150581548312232\n",
      "Take-Off Time (s) = 0.0\n",
      "Landing (s) = 91.60999999999876\n",
      "Start time of signal: 18.789999999999054\n",
      "End time of signal: 21.789999999999054\n",
      "IMU WIND SPEEDS, X->11.828707300004911 m/s and Y->-9.2779285571937 m/s\n",
      "UPDATED WIND SPEEDS (weather report), X->11.828707300004911 m/s and Y->2.2692750734849296 m/s\n",
      "\n",
      "LOOP 4\n",
      "X and Y are acceptable\n",
      "Model2 x displacement: 922.1636118241715\n",
      "Model2 y displacement: 300.2854471753035\n",
      "Adjusted m2x sign\n",
      "Adjusted m2y sign\n",
      "MODEL 1: TOTAL X AND Y DISPLACEMENTS, u=-1: X->199.260651 m, Y->412.497939 m\n",
      "MODEL 2: TOTAL X AND Y DISPLACEMENTS, u=-1: X->-294.133568 m, Y->-254.499924 m\n",
      "\n",
      "Model2 x displacement: 1185.829612675562\n",
      "Model2 y displacement: 297.57705817134183\n",
      "Adjusted m2x sign\n",
      "Adjusted m2y sign\n",
      "MODEL 1: TOTAL X AND Y DISPLACEMENTS, u=0: X->252.826179 m, Y->466.063467 m\n",
      "MODEL 2: TOTAL X AND Y DISPLACEMENTS, u=0: X->-504.234040 m, Y->-198.226006 m\n",
      "\n",
      "Model2 x displacement: 1462.9961845552107\n",
      "Model2 y displacement: 297.55714670526305\n",
      "Adjusted m2x sign\n",
      "Adjusted m2y sign\n",
      "MODEL 1: TOTAL X AND Y DISPLACEMENTS, u=1: X->306.391708 m, Y->519.628996 m\n",
      "MODEL 2: TOTAL X AND Y DISPLACEMENTS, u=1: X->-727.835083 m, Y->-144.640565 m\n",
      "\n",
      "---------------------------------------------------------------\n",
      "\n",
      "Minimum-Maximum x: -727.8350831367595 - 306.39170823330875 (m), u_range=1034.2267913700682 (m)\n",
      "Minimum-Maximum y: -254.49992363903462 - 519.6289962422431 (m), u_range=774.1289198812777 (m)\n",
      "Avg X displacement: -210.7216874517254 (m)\n",
      "Avg Y displacement: 132.56453630160428 (m)\n",
      "---------------------------------------------------------------\n",
      "METHOD 1: Original (Center Assumed) Approach:\n",
      "Started in grid number 149, ended in 211 (average)\n",
      "ALL OG GRID BOXES: [211, 231, 191, 212, 210]\n",
      "\n",
      "---------------------------------------------------------------\n",
      "METHOD 2: GPS Approach:\n",
      "Launch Grid: 149\n",
      "Average Landing Grid: 211\n",
      "North Landing Grid: 71\n",
      "West Landing Grid: 206\n",
      "South Landing Grid: 351\n",
      "East Landing Grid: 216\n",
      "ALL GPS GRID BOXES: [211, 71, 206, 351, 216]\n"
     ]
    }
   ],
   "source": [
    "S2_datafile = \"../../Full_NASA_S2.csv\"\n",
    "final_grid_number = calc_displacement2(S2_datafile, 149, [13, 2], GPS_coords=[34.8946330, 86.6166410], my_thresh=50, my_post_drogue_delay=0.85, my_signal_length=3, ld_launch_angle=5*pi/180, ld_ssm=3.44, ld_dry_base=15.735, ld_m_motor=1.728187, ld_t_burn=2.05, ld_T_avg=1771)"
   ]
  },
  {
   "cell_type": "code",
   "execution_count": null,
   "id": "b061af49",
   "metadata": {},
   "outputs": [],
   "source": []
  },
  {
   "cell_type": "markdown",
   "id": "bc1b1960",
   "metadata": {},
   "source": [
    "## Truncated Files"
   ]
  },
  {
   "cell_type": "code",
   "execution_count": 6,
   "id": "9a99733a",
   "metadata": {},
   "outputs": [
    {
     "name": "stdout",
     "output_type": "stream",
     "text": [
      "0\n"
     ]
    },
    {
     "ename": "IndexError",
     "evalue": "list index out of range",
     "output_type": "error",
     "traceback": [
      "\u001b[1;31m---------------------------------------------------------------------------\u001b[0m",
      "\u001b[1;31mIndexError\u001b[0m                                Traceback (most recent call last)",
      "\u001b[1;32m~\\AppData\\Local\\Temp/ipykernel_15456/3082183543.py\u001b[0m in \u001b[0;36m<module>\u001b[1;34m\u001b[0m\n\u001b[0;32m      1\u001b[0m \u001b[0mS1_trunc_datafile\u001b[0m \u001b[1;33m=\u001b[0m \u001b[1;34m\"Trunc_NASA_S1.csv\"\u001b[0m\u001b[1;33m\u001b[0m\u001b[1;33m\u001b[0m\u001b[0m\n\u001b[1;32m----> 2\u001b[1;33m \u001b[0mfinal_grid_number\u001b[0m \u001b[1;33m=\u001b[0m \u001b[0mcalc_displacement2\u001b[0m\u001b[1;33m(\u001b[0m\u001b[0mS1_trunc_datafile\u001b[0m\u001b[1;33m,\u001b[0m \u001b[1;36m149\u001b[0m\u001b[1;33m,\u001b[0m \u001b[1;33m[\u001b[0m\u001b[1;36m13\u001b[0m\u001b[1;33m,\u001b[0m \u001b[1;36m2\u001b[0m\u001b[1;33m]\u001b[0m\u001b[1;33m,\u001b[0m \u001b[0mGPS_coords\u001b[0m\u001b[1;33m=\u001b[0m\u001b[1;33m[\u001b[0m\u001b[1;36m34.8946330\u001b[0m\u001b[1;33m,\u001b[0m \u001b[1;36m86.6166410\u001b[0m\u001b[1;33m]\u001b[0m\u001b[1;33m,\u001b[0m \u001b[0mmy_thresh\u001b[0m\u001b[1;33m=\u001b[0m\u001b[1;36m50\u001b[0m\u001b[1;33m,\u001b[0m \u001b[0mmy_post_drogue_delay\u001b[0m\u001b[1;33m=\u001b[0m\u001b[1;36m0.85\u001b[0m\u001b[1;33m,\u001b[0m \u001b[0mmy_signal_length\u001b[0m\u001b[1;33m=\u001b[0m\u001b[1;36m3\u001b[0m\u001b[1;33m,\u001b[0m \u001b[0mld_launch_angle\u001b[0m\u001b[1;33m=\u001b[0m\u001b[1;36m5\u001b[0m\u001b[1;33m*\u001b[0m\u001b[0mpi\u001b[0m\u001b[1;33m/\u001b[0m\u001b[1;36m180\u001b[0m\u001b[1;33m,\u001b[0m \u001b[0mld_ssm\u001b[0m\u001b[1;33m=\u001b[0m\u001b[1;36m3.44\u001b[0m\u001b[1;33m,\u001b[0m \u001b[0mld_dry_base\u001b[0m\u001b[1;33m=\u001b[0m\u001b[1;36m15.735\u001b[0m\u001b[1;33m,\u001b[0m \u001b[0mld_m_motor\u001b[0m\u001b[1;33m=\u001b[0m\u001b[1;36m1.728187\u001b[0m\u001b[1;33m,\u001b[0m \u001b[0mld_t_burn\u001b[0m\u001b[1;33m=\u001b[0m\u001b[1;36m2.05\u001b[0m\u001b[1;33m,\u001b[0m \u001b[0mld_T_avg\u001b[0m\u001b[1;33m=\u001b[0m\u001b[1;36m1771\u001b[0m\u001b[1;33m)\u001b[0m\u001b[1;33m\u001b[0m\u001b[1;33m\u001b[0m\u001b[0m\n\u001b[0m",
      "\u001b[1;32m~\\Desktop\\VADL\\code\\IMU_VV\\05_NASA_SLI\\model_funcs.py\u001b[0m in \u001b[0;36mcalc_displacement2\u001b[1;34m(imu_data_file_and_path, launch_rail_box, weather_station_stats_xy, GPS_coords, my_thresh, my_post_drogue_delay, my_signal_length, ld_launch_angle, ld_ssm, ld_dry_base, ld_m_motor, ld_t_burn, ld_T_avg)\u001b[0m\n\u001b[0;32m    120\u001b[0m     \u001b[1;32mwhile\u001b[0m \u001b[0mimu_alt\u001b[0m\u001b[1;33m[\u001b[0m\u001b[0mi\u001b[0m\u001b[1;33m]\u001b[0m \u001b[1;33m<\u001b[0m \u001b[1;33m(\u001b[0m\u001b[0mlateAltitude\u001b[0m \u001b[1;33m+\u001b[0m \u001b[1;36m10\u001b[0m\u001b[1;33m)\u001b[0m\u001b[1;33m:\u001b[0m  \u001b[1;31m# 10m of uncertainty\u001b[0m\u001b[1;33m\u001b[0m\u001b[1;33m\u001b[0m\u001b[0m\n\u001b[0;32m    121\u001b[0m         \u001b[0mi\u001b[0m \u001b[1;33m-=\u001b[0m \u001b[1;36m10\u001b[0m\u001b[1;33m\u001b[0m\u001b[1;33m\u001b[0m\u001b[0m\n\u001b[1;32m--> 122\u001b[1;33m \u001b[1;33m\u001b[0m\u001b[0m\n\u001b[0m\u001b[0;32m    123\u001b[0m     \u001b[0mlanding_i\u001b[0m \u001b[1;33m=\u001b[0m \u001b[0mi\u001b[0m \u001b[1;33m+\u001b[0m \u001b[1;36m100\u001b[0m\u001b[1;33m\u001b[0m\u001b[1;33m\u001b[0m\u001b[0m\n\u001b[0;32m    124\u001b[0m \u001b[1;33m\u001b[0m\u001b[0m\n",
      "\u001b[1;31mIndexError\u001b[0m: list index out of range"
     ]
    }
   ],
   "source": [
    "S1_trunc_datafile = \"Trunc_NASA_S1.csv\"\n",
    "final_grid_number = calc_displacement2(S1_trunc_datafile, 149, [13, 2], GPS_coords=[34.8946330, 86.6166410], my_thresh=50, my_post_drogue_delay=0.85, my_signal_length=3, ld_launch_angle=5*pi/180, ld_ssm=3.44, ld_dry_base=15.735, ld_m_motor=1.728187, ld_t_burn=2.05, ld_T_avg=1771)"
   ]
  },
  {
   "cell_type": "code",
   "execution_count": 7,
   "id": "036acf28",
   "metadata": {},
   "outputs": [
    {
     "name": "stdout",
     "output_type": "stream",
     "text": [
      "0\n"
     ]
    },
    {
     "ename": "IndexError",
     "evalue": "list index out of range",
     "output_type": "error",
     "traceback": [
      "\u001b[1;31m---------------------------------------------------------------------------\u001b[0m",
      "\u001b[1;31mIndexError\u001b[0m                                Traceback (most recent call last)",
      "\u001b[1;32m~\\AppData\\Local\\Temp/ipykernel_15456/2845776549.py\u001b[0m in \u001b[0;36m<module>\u001b[1;34m\u001b[0m\n\u001b[0;32m      1\u001b[0m \u001b[0mS2_datafile\u001b[0m \u001b[1;33m=\u001b[0m \u001b[1;34m\"Trunc_NASA_S2.csv\"\u001b[0m\u001b[1;33m\u001b[0m\u001b[1;33m\u001b[0m\u001b[0m\n\u001b[1;32m----> 2\u001b[1;33m \u001b[0mall_results\u001b[0m \u001b[1;33m=\u001b[0m \u001b[0mcalc_displacement2\u001b[0m\u001b[1;33m(\u001b[0m\u001b[0mS2_datafile\u001b[0m\u001b[1;33m,\u001b[0m \u001b[1;36m149\u001b[0m\u001b[1;33m,\u001b[0m \u001b[1;33m[\u001b[0m\u001b[1;36m13\u001b[0m\u001b[1;33m,\u001b[0m \u001b[1;36m2\u001b[0m\u001b[1;33m]\u001b[0m\u001b[1;33m,\u001b[0m \u001b[0mGPS_coords\u001b[0m\u001b[1;33m=\u001b[0m\u001b[1;33m[\u001b[0m\u001b[1;36m34.8946330\u001b[0m\u001b[1;33m,\u001b[0m \u001b[1;36m86.6166410\u001b[0m\u001b[1;33m]\u001b[0m\u001b[1;33m,\u001b[0m \u001b[0mmy_thresh\u001b[0m\u001b[1;33m=\u001b[0m\u001b[1;36m50\u001b[0m\u001b[1;33m,\u001b[0m \u001b[0mmy_post_drogue_delay\u001b[0m\u001b[1;33m=\u001b[0m\u001b[1;36m0.85\u001b[0m\u001b[1;33m,\u001b[0m \u001b[0mmy_signal_length\u001b[0m\u001b[1;33m=\u001b[0m\u001b[1;36m3\u001b[0m\u001b[1;33m,\u001b[0m \u001b[0mld_launch_angle\u001b[0m\u001b[1;33m=\u001b[0m\u001b[1;36m5\u001b[0m\u001b[1;33m*\u001b[0m\u001b[0mpi\u001b[0m\u001b[1;33m/\u001b[0m\u001b[1;36m180\u001b[0m\u001b[1;33m,\u001b[0m \u001b[0mld_ssm\u001b[0m\u001b[1;33m=\u001b[0m\u001b[1;36m3.44\u001b[0m\u001b[1;33m,\u001b[0m \u001b[0mld_dry_base\u001b[0m\u001b[1;33m=\u001b[0m\u001b[1;36m15.735\u001b[0m\u001b[1;33m,\u001b[0m \u001b[0mld_m_motor\u001b[0m\u001b[1;33m=\u001b[0m\u001b[1;36m1.72818\u001b[0m\u001b[1;33m,\u001b[0m \u001b[0mld_t_burn\u001b[0m\u001b[1;33m=\u001b[0m\u001b[1;36m2.05\u001b[0m\u001b[1;33m,\u001b[0m \u001b[0mld_T_avg\u001b[0m\u001b[1;33m=\u001b[0m\u001b[1;36m1771\u001b[0m\u001b[1;33m)\u001b[0m\u001b[1;33m\u001b[0m\u001b[1;33m\u001b[0m\u001b[0m\n\u001b[0m\u001b[0;32m      3\u001b[0m \u001b[0mfinal_grid_numbers\u001b[0m \u001b[1;33m=\u001b[0m \u001b[0mall_results\u001b[0m\u001b[1;33m[\u001b[0m\u001b[1;36m0\u001b[0m\u001b[1;33m]\u001b[0m\u001b[1;33m,\u001b[0m \u001b[0mall_results\u001b[0m\u001b[1;33m[\u001b[0m\u001b[1;36m1\u001b[0m\u001b[1;33m]\u001b[0m\u001b[1;33m\u001b[0m\u001b[1;33m\u001b[0m\u001b[0m\n",
      "\u001b[1;32m~\\Desktop\\VADL\\code\\IMU_VV\\05_NASA_SLI\\model_funcs.py\u001b[0m in \u001b[0;36mcalc_displacement2\u001b[1;34m(imu_data_file_and_path, launch_rail_box, weather_station_stats_xy, GPS_coords, my_thresh, my_post_drogue_delay, my_signal_length, ld_launch_angle, ld_ssm, ld_dry_base, ld_m_motor, ld_t_burn, ld_T_avg)\u001b[0m\n\u001b[0;32m    120\u001b[0m     \u001b[1;32mwhile\u001b[0m \u001b[0mimu_alt\u001b[0m\u001b[1;33m[\u001b[0m\u001b[0mi\u001b[0m\u001b[1;33m]\u001b[0m \u001b[1;33m<\u001b[0m \u001b[1;33m(\u001b[0m\u001b[0mlateAltitude\u001b[0m \u001b[1;33m+\u001b[0m \u001b[1;36m10\u001b[0m\u001b[1;33m)\u001b[0m\u001b[1;33m:\u001b[0m  \u001b[1;31m# 10m of uncertainty\u001b[0m\u001b[1;33m\u001b[0m\u001b[1;33m\u001b[0m\u001b[0m\n\u001b[0;32m    121\u001b[0m         \u001b[0mi\u001b[0m \u001b[1;33m-=\u001b[0m \u001b[1;36m10\u001b[0m\u001b[1;33m\u001b[0m\u001b[1;33m\u001b[0m\u001b[0m\n\u001b[1;32m--> 122\u001b[1;33m \u001b[1;33m\u001b[0m\u001b[0m\n\u001b[0m\u001b[0;32m    123\u001b[0m     \u001b[0mlanding_i\u001b[0m \u001b[1;33m=\u001b[0m \u001b[0mi\u001b[0m \u001b[1;33m+\u001b[0m \u001b[1;36m100\u001b[0m\u001b[1;33m\u001b[0m\u001b[1;33m\u001b[0m\u001b[0m\n\u001b[0;32m    124\u001b[0m \u001b[1;33m\u001b[0m\u001b[0m\n",
      "\u001b[1;31mIndexError\u001b[0m: list index out of range"
     ]
    }
   ],
   "source": [
    "S2_datafile = \"Trunc_NASA_S2.csv\"\n",
    "all_results = calc_displacement2(S2_datafile, 149, [13, 2], GPS_coords=[34.8946330, 86.6166410], my_thresh=50, my_post_drogue_delay=0.85, my_signal_length=3, ld_launch_angle=5*pi/180, ld_ssm=3.44, ld_dry_base=15.735, ld_m_motor=1.72818, ld_t_burn=2.05, ld_T_avg=1771)\n",
    "final_grid_numbers = all_results[0], all_results[1]"
   ]
  },
  {
   "cell_type": "code",
   "execution_count": null,
   "id": "22bd5139",
   "metadata": {},
   "outputs": [],
   "source": []
  },
  {
   "cell_type": "code",
   "execution_count": null,
   "id": "ae29477d",
   "metadata": {},
   "outputs": [],
   "source": []
  },
  {
   "cell_type": "code",
   "execution_count": null,
   "id": "ddcfc3b5",
   "metadata": {},
   "outputs": [],
   "source": []
  },
  {
   "cell_type": "code",
   "execution_count": null,
   "id": "b0804ea8",
   "metadata": {},
   "outputs": [],
   "source": []
  },
  {
   "cell_type": "code",
   "execution_count": null,
   "id": "13b1670a",
   "metadata": {},
   "outputs": [],
   "source": []
  },
  {
   "cell_type": "code",
   "execution_count": null,
   "id": "b151b455",
   "metadata": {},
   "outputs": [],
   "source": []
  }
 ],
 "metadata": {
  "kernelspec": {
   "display_name": "Python 3 (ipykernel)",
   "language": "python",
   "name": "python3"
  },
  "language_info": {
   "codemirror_mode": {
    "name": "ipython",
    "version": 3
   },
   "file_extension": ".py",
   "mimetype": "text/x-python",
   "name": "python",
   "nbconvert_exporter": "python",
   "pygments_lexer": "ipython3",
   "version": "3.7.11"
  }
 },
 "nbformat": 4,
 "nbformat_minor": 5
}
